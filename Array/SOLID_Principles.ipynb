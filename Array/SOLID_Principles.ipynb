{
 "cells": [
  {
   "cell_type": "raw",
   "id": "471303ff",
   "metadata": {},
   "source": [
    "#SOLID\n",
    "S: Single Responsibility Principle\n",
    "O: Open Close Principle\n",
    "L: Liskov Substitution\n",
    "I: Interface Segregation\n",
    "D: Dependancy Inversion"
   ]
  },
  {
   "cell_type": "code",
   "execution_count": 27,
   "id": "69c28b1c",
   "metadata": {},
   "outputs": [],
   "source": [
    "class Journal:\n",
    "    def __init__(self):\n",
    "        self.entries=[]\n",
    "        self.count=0\n",
    "        \n",
    "    def add_journal(self,text):\n",
    "        self.count+=1\n",
    "        self.entries.append(f\"{self.count}:{text}\")\n",
    "        \n",
    "        \n",
    "    def remove_entry(self,pos):\n",
    "        try:\n",
    "            pos1=pos\n",
    "            #print(pos1)\n",
    "            self.entries.pop(pos1)\n",
    "            print(\"list after removal of that element is \",self.entries)\n",
    "        except Exception as e:\n",
    "            print(e)\n",
    "            \n",
    "    def __str__(self):\n",
    "        return '\\n'.join(self.entries)\n",
    "            "
   ]
  },
  {
   "cell_type": "code",
   "execution_count": 28,
   "id": "dc5077fe",
   "metadata": {},
   "outputs": [],
   "source": [
    "j=Journal()"
   ]
  },
  {
   "cell_type": "code",
   "execution_count": 29,
   "id": "6d159254",
   "metadata": {},
   "outputs": [],
   "source": [
    "j.add_journal(\"hello welcome to the world !\")\n",
    "j.add_journal(\"bye now go home!\")\n"
   ]
  },
  {
   "cell_type": "code",
   "execution_count": 30,
   "id": "c4952b91",
   "metadata": {},
   "outputs": [
    {
     "name": "stdout",
     "output_type": "stream",
     "text": [
      "list after removal of that element is  ['2:bye now go home!']\n"
     ]
    }
   ],
   "source": [
    "j.remove_entry(0)"
   ]
  },
  {
   "cell_type": "code",
   "execution_count": 31,
   "id": "ae0de376",
   "metadata": {},
   "outputs": [
    {
     "data": {
      "text/plain": [
       "['2:bye now go home!']"
      ]
     },
     "execution_count": 31,
     "metadata": {},
     "output_type": "execute_result"
    }
   ],
   "source": [
    "j.entries"
   ]
  },
  {
   "cell_type": "code",
   "execution_count": 32,
   "id": "425dca0d",
   "metadata": {},
   "outputs": [
    {
     "data": {
      "text/plain": [
       "['2:bye now go home!']"
      ]
     },
     "execution_count": 32,
     "metadata": {},
     "output_type": "execute_result"
    }
   ],
   "source": [
    "j.entries"
   ]
  },
  {
   "cell_type": "code",
   "execution_count": 33,
   "id": "d331ee45",
   "metadata": {},
   "outputs": [],
   "source": [
    "j.add_journal(\"welcome to the world of tcs\")"
   ]
  },
  {
   "cell_type": "code",
   "execution_count": 34,
   "id": "a7080ce3",
   "metadata": {},
   "outputs": [
    {
     "data": {
      "text/plain": [
       "['2:bye now go home!', '3:welcome to the world of tcs']"
      ]
     },
     "execution_count": 34,
     "metadata": {},
     "output_type": "execute_result"
    }
   ],
   "source": [
    "j.entries"
   ]
  },
  {
   "cell_type": "code",
   "execution_count": 35,
   "id": "ad81c97c",
   "metadata": {},
   "outputs": [
    {
     "name": "stdout",
     "output_type": "stream",
     "text": [
      "2:bye now go home!\n",
      "3:welcome to the world of tcs\n"
     ]
    }
   ],
   "source": [
    "print(j)"
   ]
  },
  {
   "cell_type": "markdown",
   "id": "157646fa",
   "metadata": {},
   "source": [
    "# Normal Writing of the Class"
   ]
  },
  {
   "cell_type": "code",
   "execution_count": 15,
   "id": "43b06688",
   "metadata": {},
   "outputs": [],
   "source": [
    " class Order: \n",
    "    items=[]\n",
    "    qunantities=[]\n",
    "    prices=[]\n",
    "    status='Open'\n",
    "    \n",
    "    def add_item(self,name,quantity,price):\n",
    "        self.items.append(name)\n",
    "        self.qunantities.append(quantity)\n",
    "        self.prices.append(price)\n",
    "        \n",
    "    \n",
    "    def total_price(self):\n",
    "        total=0\n",
    "        for i in range(len(self.prices)):\n",
    "            total+=self.qunantities[i]*self.prices[i]\n",
    "        return total\n",
    "    \n",
    "    \n",
    "    def pay(self,payment_type,security_code):\n",
    "        try:\n",
    "            if(payment_type=='debit'):\n",
    "                print(\"processing the debit card type\")\n",
    "                print(\"verifying the account details\")\n",
    "                self.status='Paid'\n",
    "\n",
    "            elif(payment_type=='credit'):\n",
    "                print(\"processing the credit card type\")\n",
    "                print(\"verifying the account details\")\n",
    "                self.status='Paid'\n",
    "                raise Exception(\"the wrong payment method selected\")\n",
    "        except Exception as e:\n",
    "            print(e)"
   ]
  },
  {
   "cell_type": "code",
   "execution_count": 16,
   "id": "cba3b5a2",
   "metadata": {},
   "outputs": [],
   "source": [
    "o=Order()"
   ]
  },
  {
   "cell_type": "code",
   "execution_count": 17,
   "id": "f0478b55",
   "metadata": {},
   "outputs": [],
   "source": [
    "o.add_item('mouse',3,300)"
   ]
  },
  {
   "cell_type": "code",
   "execution_count": 18,
   "id": "57609fad",
   "metadata": {},
   "outputs": [],
   "source": [
    "o.add_item(\"ssd\",2,1800)"
   ]
  },
  {
   "cell_type": "code",
   "execution_count": 19,
   "id": "62108e8d",
   "metadata": {},
   "outputs": [],
   "source": [
    "o.add_item('harddisk',4,500)"
   ]
  },
  {
   "cell_type": "code",
   "execution_count": null,
   "id": "902d5114",
   "metadata": {},
   "outputs": [],
   "source": []
  },
  {
   "cell_type": "code",
   "execution_count": 20,
   "id": "5275ad11",
   "metadata": {},
   "outputs": [
    {
     "data": {
      "text/plain": [
       "6500"
      ]
     },
     "execution_count": 20,
     "metadata": {},
     "output_type": "execute_result"
    }
   ],
   "source": [
    "o.total_price()"
   ]
  },
  {
   "cell_type": "code",
   "execution_count": 27,
   "id": "f40f261d",
   "metadata": {},
   "outputs": [
    {
     "name": "stdout",
     "output_type": "stream",
     "text": [
      "processing the credit card type\n",
      "verifying the account details\n",
      "the wrong payment method selected\n"
     ]
    }
   ],
   "source": [
    "o.pay('credit',1234)"
   ]
  },
  {
   "cell_type": "code",
   "execution_count": 28,
   "id": "a42cb53a",
   "metadata": {},
   "outputs": [],
   "source": [
    "o.pay('shreya',234)"
   ]
  },
  {
   "cell_type": "markdown",
   "id": "6106dab1",
   "metadata": {},
   "source": [
    "## Single Responsibily Principle\n",
    "\n",
    "\n",
    "Each software module is responsibile for taking the only one responsibility. And there should be only one reason to change the functionality\n",
    "\n",
    "SRP is responsible for avoiding the creation of the God Object in the class."
   ]
  },
  {
   "cell_type": "code",
   "execution_count": 38,
   "id": "71e7935a",
   "metadata": {},
   "outputs": [
    {
     "name": "stdout",
     "output_type": "stream",
     "text": [
      "the wrong payment method selected\n"
     ]
    }
   ],
   "source": [
    "class Order: \n",
    "    items=[]\n",
    "    qunantities=[]\n",
    "    prices=[]\n",
    "    status='Open'\n",
    "    \n",
    "    def add_item(self,name,quantity,price):\n",
    "        self.items.append(name)\n",
    "        self.qunantities.append(quantity)\n",
    "        self.prices.append(price)\n",
    "        \n",
    "    \n",
    "    def total_price(self):\n",
    "        total=0\n",
    "        for i in range(len(self.prices)):\n",
    "            total+=self.qunantities[i]*self.prices[i]\n",
    "        return total\n",
    "    \n",
    "\n",
    "class Payment_Method:\n",
    "    try:\n",
    "        def pay_debit(self,security_code):\n",
    "                print(\"processing the debit card type\")\n",
    "                print(\"verifying the account details\")\n",
    "                self.status='Paid'\n",
    "\n",
    "        def pay_credit(self):\n",
    "                print(\"processing the credit card type\")\n",
    "                print(\"verifying the account details\")\n",
    "                self.status='Paid'\n",
    "        raise Exception(\"the wrong payment method selected\")\n",
    "    except Exception as e:\n",
    "        print(e)"
   ]
  },
  {
   "cell_type": "code",
   "execution_count": 39,
   "id": "04dcbe63",
   "metadata": {},
   "outputs": [],
   "source": [
    "pp=Payment_Method()\n"
   ]
  },
  {
   "cell_type": "code",
   "execution_count": 40,
   "id": "aa8721ea",
   "metadata": {},
   "outputs": [
    {
     "name": "stdout",
     "output_type": "stream",
     "text": [
      "processing the credit card type\n",
      "verifying the account details\n"
     ]
    }
   ],
   "source": [
    "pp.pay_credit()"
   ]
  },
  {
   "cell_type": "markdown",
   "id": "ed44b526",
   "metadata": {},
   "source": [
    "## Open Closed Principle:\n",
    "### Open closed principle tells that the software module is responsible to extend but not to modify\n"
   ]
  },
  {
   "cell_type": "code",
   "execution_count": 71,
   "id": "dae18a71",
   "metadata": {},
   "outputs": [],
   "source": [
    "from abc import ABC,abstractclassmethod\n",
    "class Order: \n",
    "    items=[]\n",
    "    qunantities=[]\n",
    "    prices=[]\n",
    "    status='Open'\n",
    "    \n",
    "    def add_item(self,name,quantity,price):\n",
    "        self.items.append(name)\n",
    "        self.qunantities.append(quantity)\n",
    "        self.prices.append(price)\n",
    "        \n",
    "    \n",
    "    def total_price(self):\n",
    "        total=0\n",
    "        for i in range(len(self.prices)):\n",
    "            total+=self.qunantities[i]*self.prices[i]\n",
    "        return total\n",
    "    \n",
    "    \n",
    "    \n",
    "\n",
    "class Payment_Method(ABC):\n",
    "    @abstractclassmethod\n",
    "    def pay_process(self):\n",
    "        pass\n",
    "    \n",
    "class Debit(Payment_Method):\n",
    "    def pay_process(self):\n",
    "        print(\"processing the debit card type\")\n",
    "        print(\"verifying the account details\")\n",
    "        self.status='Paid'\n",
    "        \n",
    "class Credit(Payment_Method):\n",
    "    def pay_process(self):\n",
    "        print(\"processing the credit card type\")\n",
    "        print(\"verifying the account details\")\n",
    "        self.status='Paid'\n",
    "        \n",
    "        \n",
    "class Paypal(Payment_Method):\n",
    "    def pay_process(self):\n",
    "        print(\"processing the paypal card type\")\n",
    "        print(\"verifying the account details\")\n",
    "        self.status='Paid'\n",
    "    \n",
    "\n",
    "        \n",
    "    "
   ]
  },
  {
   "cell_type": "code",
   "execution_count": 72,
   "id": "df87f53b",
   "metadata": {},
   "outputs": [
    {
     "name": "stdout",
     "output_type": "stream",
     "text": [
      "processing the credit card type\n",
      "verifying the account details\n"
     ]
    }
   ],
   "source": [
    "c=Credit()\n",
    "c.pay_process()"
   ]
  },
  {
   "cell_type": "code",
   "execution_count": 73,
   "id": "d10c4ead",
   "metadata": {},
   "outputs": [
    {
     "name": "stdout",
     "output_type": "stream",
     "text": [
      "processing the debit card type\n",
      "verifying the account details\n"
     ]
    }
   ],
   "source": [
    "d=Debit()\n",
    "d.pay_process()\n"
   ]
  },
  {
   "cell_type": "code",
   "execution_count": 74,
   "id": "07bbc96f",
   "metadata": {},
   "outputs": [
    {
     "name": "stdout",
     "output_type": "stream",
     "text": [
      "processing the paypal card type\n",
      "verifying the account details\n"
     ]
    }
   ],
   "source": [
    "p=Paypal()\n",
    "p.pay_process()\n"
   ]
  },
  {
   "cell_type": "markdown",
   "id": "13600bd5",
   "metadata": {},
   "source": [
    "## one more example for the Single Responsibilty Principle"
   ]
  },
  {
   "cell_type": "code",
   "execution_count": 12,
   "id": "8ff6774a",
   "metadata": {},
   "outputs": [],
   "source": [
    "class Journal:\n",
    "    def __init__(self):\n",
    "        self.entries=[]\n",
    "        self.count=0\n",
    "        \n",
    "    def add_entry(self,text):\n",
    "        self.count+=1\n",
    "        self.entries.append(f'{self.count}: {text}')\n",
    "        \n",
    "        \n",
    "    def remove_entry(self,pos):\n",
    "        del self.entries[pos]\n",
    "        \n",
    "    def __str__(self):\n",
    "        return '\\n'.join(self.entries)\n",
    "    \n",
    "    \n",
    "    \n",
    "class JournalManager:\n",
    "    @staticmethod\n",
    "    def save(Journal,filename):\n",
    "        file=open(filename,'w')\n",
    "        file.write(str(self))\n",
    "        file.close() \n",
    "        \n",
    "    def load(self):\n",
    "        pass\n",
    "    \n",
    "    def load_from_Web(self):\n",
    "        pass\n",
    "    \n",
    "    \n",
    "        \n",
    "    "
   ]
  },
  {
   "cell_type": "code",
   "execution_count": 14,
   "id": "be9b6dfa",
   "metadata": {},
   "outputs": [
    {
     "name": "stdout",
     "output_type": "stream",
     "text": [
      "1: I ams sick\n",
      "2: I am not feeling well!\n"
     ]
    }
   ],
   "source": [
    "j=Journal()\n",
    "j.add_entry(\"I ams sick\")\n",
    "j.add_entry(\"I am not feeling well!\")\n",
    "print(j)\n"
   ]
  },
  {
   "cell_type": "code",
   "execution_count": 29,
   "id": "b9401689",
   "metadata": {},
   "outputs": [
    {
     "name": "stdout",
     "output_type": "stream",
     "text": [
      "below are the green products with OLD Method\n",
      "apple\n",
      "Tree\n",
      "\n",
      "\n",
      "below are the green products with NEW Method\n",
      "apple\n",
      "Tree\n"
     ]
    }
   ],
   "source": [
    "from enum import Enum\n",
    "class Color(Enum):\n",
    "    green=1\n",
    "    blue=2\n",
    "    black=3\n",
    "    \n",
    "class Size(Enum):\n",
    "    small=1\n",
    "    medium=2\n",
    "    large=3\n",
    "    \n",
    "class Products:\n",
    "    def __init__(self,name,color,size):\n",
    "        self.name=name\n",
    "        self.color=color\n",
    "        self.size=size\n",
    "\n",
    "class ProductFilter:\n",
    "    def Filter_By_Size(self,products,size):\n",
    "        for i in products:\n",
    "            if(i.size==size):\n",
    "                yield(i)\n",
    "                \n",
    "    def filter_by_color(self,products,color):\n",
    "        for i in products:\n",
    "            if(i.color==color):\n",
    "                yield(i)\n",
    "                \n",
    "    def filter_by_colorANDSize(self,products,size,color):\n",
    "        for i in products:\n",
    "            if(i.color==color and i.size==size):\n",
    "                print(i)\n",
    "                \n",
    "class Specification:\n",
    "    def issatisfied(self,item):\n",
    "        pass\n",
    "    \n",
    "class Filter:\n",
    "    def filterMethod(self,items,spec):\n",
    "        pass\n",
    "    \n",
    "class ColorSpecificaiton(Specification):\n",
    "    def __init__(self,color):\n",
    "        self.color=color\n",
    "        \n",
    "    def issatisfied(self,item):\n",
    "        return item.color==self.color\n",
    "    \n",
    "class SizeSpecificaiton(Specification):\n",
    "    def __init__(self,size):\n",
    "        self.size=size\n",
    "        \n",
    "    def issatisfied(self,item):\n",
    "        return item.size==self.size\n",
    "    \n",
    "    \n",
    "        \n",
    "class BetterFilter(Filter):\n",
    "    def filterMethod(self,items,spec):\n",
    "        for i in items:\n",
    "            if(spec.issatisfied(i)):\n",
    "                yield i\n",
    "                \n",
    "if __name__=='__main__':\n",
    "    apple=Products('apple',Color.green, Size.small)\n",
    "    tree=Products(\"Tree\",Color.green,Size.large)\n",
    "    home=Products(\"Home\",Color.blue,Size.medium)\n",
    "    products=[apple,tree,home]\n",
    "    \n",
    "    pf=ProductFilter()\n",
    "    print(\"below are the green products with OLD Method\")\n",
    "    for i in pf.filter_by_color(products,Color.green):\n",
    "        print(i.name)\n",
    "        \n",
    "    print('\\n')\n",
    "          \n",
    "    bf=BetterFilter()\n",
    "    print(\"below are the green products with NEW Method\")\n",
    "    green=ColorSpecificaiton(Color.green)\n",
    "    for p in bf.filterMethod(products,green):\n",
    "        print(p.name)\n",
    "        \n",
    "        \n",
    "    bf=BetterFilter()\n",
    "    \n",
    "                \n",
    "    "
   ]
  },
  {
   "cell_type": "markdown",
   "id": "0b372e10",
   "metadata": {},
   "source": [
    "# "
   ]
  },
  {
   "cell_type": "markdown",
   "id": "fad4b6fa",
   "metadata": {},
   "source": [
    "## Liskov Substitution \n",
    "\n",
    "### all the parent class objects are replaceable by the child class instance, without altering the actual working of the the main class"
   ]
  },
  {
   "cell_type": "code",
   "execution_count": 15,
   "id": "867d696b",
   "metadata": {},
   "outputs": [
    {
     "name": "stdout",
     "output_type": "stream",
     "text": [
      "the total  price of all the items in the list are 6800\n",
      "the used method is paypal method\n",
      "the request has been initiated!!,\n"
     ]
    }
   ],
   "source": [
    "from abc import ABC,abstractclassmethod\n",
    "class Order:\n",
    "    items=[]\n",
    "    quantities=[]\n",
    "    prices=[]\n",
    "    \n",
    "    def add_items(self,name,quantity,price):\n",
    "        self.items.append(name)\n",
    "        self.quantities.append(quantity)\n",
    "        self.prices.append(price)\n",
    "        \n",
    "    def total_price(self):\n",
    "        total=0\n",
    "        for i in range(len(self.prices)):\n",
    "            total+=self.prices[i]*self.quantities[i]\n",
    "        print('the total  price of all the items in the list are',total)\n",
    "    \n",
    "     \n",
    "class Paymentamethod(ABC):\n",
    "    @abstractclassmethod\n",
    "    def payment_method(self,order):\n",
    "        pass\n",
    "    \n",
    "    \n",
    "class Debit_method(Paymentamethod):\n",
    "    def __init__(self,security_code):\n",
    "        self.security_code=security_code\n",
    "        \n",
    "    def payment_method(self,order):\n",
    "        print(\"the used payment method is by debit card\")\n",
    "        print(\"the security code along with the data is as follows\",security_code)\n",
    "        order=True\n",
    "        \n",
    "        \n",
    "class Credit_method(Paymentamethod):\n",
    "    \n",
    "    def __init__(self,security_code):\n",
    "        self.security_code=security_code\n",
    "        \n",
    "    def payment_method(self,order):\n",
    "        print(\"the used payment method is credit card\")\n",
    "        print(\"the security code is requrired here\")\n",
    "        order=True\n",
    "        \n",
    "        \n",
    "class Paypal_Method(Paymentamethod):\n",
    "    \n",
    "    \n",
    "    def __init__(self,email):\n",
    "        self.email=email\n",
    "        \n",
    "    def payment_method(self):\n",
    "        print(\"the used method is paypal method\")\n",
    "        print(\"the request has been initiated!!,\")\n",
    "        \n",
    "        \n",
    "if __name__=='__main__':\n",
    "    o=Order()\n",
    "    o.add_items('mouse',2,500)\n",
    "    o.add_items('keyboard',4,1000)\n",
    "    o.add_items('SSD',1,1800)\n",
    "    o.total_price()\n",
    "    p=Paypal_Method('ghadgevaishnavi9@gmail.com')\n",
    "    p.payment_method()\n",
    "    \n",
    "    \n",
    "    \n",
    "        \n",
    "\n",
    "        \n",
    "    \n",
    "    "
   ]
  },
  {
   "cell_type": "code",
   "execution_count": 16,
   "id": "cec02167",
   "metadata": {},
   "outputs": [
    {
     "name": "stdout",
     "output_type": "stream",
     "text": [
      "the message is Hello John and phone number is 12345\n",
      "the message is Hi John and email is john@test.com\n"
     ]
    }
   ],
   "source": [
    "## One more example of liskov substitution method \n",
    "from abc import ABC,abstractmethod\n",
    "\n",
    "class Notification(ABC):\n",
    "    @abstractclassmethod\n",
    "    def notify(selfl,message):\n",
    "        pass\n",
    "    \n",
    "class Email(Notification):\n",
    "    \n",
    "    def __init__(self,email):\n",
    "        self.email=email\n",
    "        \n",
    "    def notify(self,message):\n",
    "        print(\"the message is {} and email is {}\".format(message,self.email))\n",
    "        \n",
    "\n",
    "class SMS(Notification):\n",
    "    \n",
    "    def __init__(self,ph_no):\n",
    "        self.ph_no=ph_no\n",
    "        \n",
    "    def notify(self,message):\n",
    "        print(\"the message is {} and phone number is {}\".format(message,self.ph_no))\n",
    "        \n",
    "\n",
    "class Contact:\n",
    "    \n",
    "    def __init__(self,name,email,ph_no):\n",
    "        self.name=name\n",
    "        self.email=email\n",
    "        self.ph_no=ph_no\n",
    "        \n",
    "        \n",
    "class NotificationManager:\n",
    "    \n",
    "    def __init__(self,notification):\n",
    "        self.notification=notification\n",
    "        \n",
    "    def send(self,message):\n",
    "        self.notification.notify(message)\n",
    "        \n",
    "        \n",
    "if __name__ == '__main__':\n",
    "    contact = Contact('John Doe', 'john@test.com', '12345')\n",
    "\n",
    "    sms_notification = SMS(contact.ph_no)\n",
    "    email_notification = Email(contact.email)\n",
    "\n",
    "    notification_manager = NotificationManager(sms_notification)\n",
    "    notification_manager.send('Hello John')\n",
    "\n",
    "    notification_manager.notification = email_notification\n",
    "    notification_manager.send('Hi John')\n",
    "        \n",
    "    \n",
    "        \n",
    "    \n",
    "    "
   ]
  },
  {
   "cell_type": "markdown",
   "id": "c5a40a95",
   "metadata": {},
   "source": [
    "# Interface Segregation Principle:\n",
    "\n",
    "## Interface segregation principle is same to the Single responsibility Principle. \n",
    "## The principle states that, if some class don't require any method or attribute then  those methods should be segregated from the other class . "
   ]
  },
  {
   "cell_type": "code",
   "execution_count": 33,
   "id": "557b3ac2",
   "metadata": {},
   "outputs": [
    {
     "name": "stdout",
     "output_type": "stream",
     "text": [
      "this is here to print the document ---->welcome to the world of data science\n",
      "this is here to fax the required document------>  the fax is running in the background\n",
      "this is here to print the document ---> the printer function is running in the background\n",
      "this is to do the scanning of the required document----> the scanner function is running \n"
     ]
    }
   ],
   "source": [
    "from abc import ABC,abstractclassmethod\n",
    "\n",
    "class Printer(ABC):\n",
    "    @abstractclassmethod\n",
    "    def prints(self,document):\n",
    "        pass\n",
    "    \n",
    "class Fax(ABC):\n",
    "    @abstractclassmethod\n",
    "    def fax(self,document):\n",
    "        pass\n",
    "    \n",
    "class Scanner(ABC):\n",
    "    @abstractclassmethod\n",
    "    def scanner(self,document):\n",
    "        pass\n",
    "    \n",
    "    \n",
    "    \n",
    "class NewPrinter(Printer):\n",
    "    def prints(self,document):\n",
    "        print(f\"this is here to print the document ---->{document}\")\n",
    "    \n",
    "    \n",
    "    \n",
    "class Updated_Printer(Printer,Fax,Scanner):\n",
    "    def prints(self,document):\n",
    "        print(f\"this is here to print the document ---> {document}\")\n",
    "        \n",
    "    def fax(self,document):\n",
    "        print(f\"this is here to fax the required document------> {document}\")\n",
    "        \n",
    "    def scanner(self,document):\n",
    "        print(f\"this is to do the scanning of the required document----> {document}\")\n",
    "        \n",
    "        \n",
    "        \n",
    "if __name__=='__main__':\n",
    "    obj=NewPrinter()\n",
    "    obj.prints('welcome to the world of data science')\n",
    "        \n",
    "    up=Updated_Printer()\n",
    "    up.fax(\" the fax is running in the background\")\n",
    "    up.prints(\"the printer function is running in the background\")\n",
    "    up.scanner(\"the scanner function is running \")\n",
    "        \n",
    "        \n",
    "## in the above example , NewPrinter class does not require other functions like fax and scanner and hence those functions are not defined in the NewPrinter class\n",
    "        \n",
    "        \n",
    "    "
   ]
  },
  {
   "cell_type": "markdown",
   "id": "73f2f09e",
   "metadata": {},
   "source": [
    "# Dependancy Inversion Principle :\n",
    " ## Abstraction should not depend on the details . Details should depend on the abstractions."
   ]
  },
  {
   "cell_type": "code",
   "execution_count": 38,
   "id": "23c7e839",
   "metadata": {},
   "outputs": [
    {
     "name": "stdout",
     "output_type": "stream",
     "text": [
      "Display data: Data from the database\n"
     ]
    }
   ],
   "source": [
    "## the below example shows the tight coupling between FrontEnd class and Backend Class.\n",
    "## which reduces the scalibility of the program.\n",
    "\n",
    "class FrontEnd:\n",
    "    def __init__(self, back_end):\n",
    "        self.back_end = back_end\n",
    "\n",
    "    def display_data(self):\n",
    "        data = self.back_end.get_data_from_database()\n",
    "        print(\"Display data:\", data)\n",
    "\n",
    "class BackEnd:\n",
    "    def get_data_from_database(self):\n",
    "        return \"Data from the database\"\n",
    "    \n",
    "\n",
    "if __name__==\"__main__\":\n",
    "    back_end=BackEnd()\n",
    "    back_end.get_data_from_database()\n",
    "    f=FrontEnd(back_end)\n",
    "    f.display_data()"
   ]
  },
  {
   "cell_type": "code",
   "execution_count": 6,
   "id": "a903e876",
   "metadata": {},
   "outputs": [
    {
     "name": "stdout",
     "output_type": "stream",
     "text": [
      "getting the data from the database\n",
      "getting the data fromt eh API\n"
     ]
    }
   ],
   "source": [
    "## DEPENDANCY INVERSION PRINCIPLE \n",
    "\n",
    "from abc import ABC,abstractclassmethod\n",
    "class Frontend:\n",
    "    \n",
    "    def __init__(self,data_source):\n",
    "        self.data_source=data_source\n",
    "        \n",
    "    def display_data(self):\n",
    "        data=self.data_source.get_data()\n",
    "        print(data)\n",
    "        \n",
    "        \n",
    "class DataSource(ABC):\n",
    "    @abstractclassmethod\n",
    "    def get_data(self):\n",
    "        pass\n",
    "    \n",
    "class Database(DataSource):\n",
    "    def get_data(self):\n",
    "        return 'getting the data from the database'\n",
    "    \n",
    "class API(DataSource):\n",
    "    def get_data(self):\n",
    "        return 'getting the data fromt eh API'\n",
    "    \n",
    "    \n",
    "if __name__=='__main__':\n",
    "  \n",
    "    fn=Frontend(Database())\n",
    "    fn.display_data()\n",
    "    api_frontend=Frontend(API())\n",
    "    api_frontend.display_data()\n",
    "    \n",
    "    "
   ]
  },
  {
   "cell_type": "markdown",
   "id": "20d96d53",
   "metadata": {},
   "source": [
    "## Some more examples of the SOLID principles"
   ]
  },
  {
   "cell_type": "code",
   "execution_count": 14,
   "id": "1f74c692",
   "metadata": {},
   "outputs": [
    {
     "name": "stdout",
     "output_type": "stream",
     "text": [
      "this function is resposnible for reading the file\n",
      "this function is responsible for writing into the file\n",
      "this funcntion is responsible to zip the files \n",
      "this function is responsbile to unzip the files\n"
     ]
    }
   ],
   "source": [
    "## SINGLE RESPONSIBILITY PRINCIPLE\n",
    "\n",
    "class File_manager:\n",
    "    \n",
    "    def read(self):\n",
    "         print('this function is resposnible for reading the file')\n",
    "    \n",
    "    def write(self):\n",
    "        print('this function is responsible for writing into the file')\n",
    "        \n",
    "        \n",
    "class Compress_Decompress:\n",
    "    \n",
    "    def Zip_file(self):\n",
    "        print('this funcntion is responsible to zip the files ')\n",
    "    \n",
    "    def unzip(self):\n",
    "        print('this function is responsbile to unzip the files')\n",
    "    \n",
    "if __name__=='__main__':\n",
    "    \n",
    "    f=File_manager()\n",
    "    f.read()\n",
    "    f.write()\n",
    "    C=Compress_Decompress()\n",
    "    C.Zip_file()\n",
    "    C.unzip()"
   ]
  },
  {
   "cell_type": "code",
   "execution_count": 8,
   "id": "179c6c1a",
   "metadata": {},
   "outputs": [],
   "source": [
    "## OPEN CLOSE PRINCIPLE\n",
    "\n",
    "from abc import ABC,abstractclassmethod\n",
    "\n",
    "class Shape(ABC):\n",
    "    \n",
    "    @abstractclassmethod\n",
    "    def calculate_Area(*args):\n",
    "        pass\n",
    "    \n",
    "    \n",
    "class Circle(ABC):\n",
    "    \n",
    "    def __init__(self,radius):\n",
    "        self.radius=radius\n",
    "    \n",
    "    def calculate_Area(self):\n",
    "        return f'area of the circle is {3.14*self.radius*self.radius}'\n",
    "    \n",
    "    \n",
    "    \n",
    "class Rechatnagle(ABC):\n",
    "    \n",
    "    def __init__(self,length,breadth):\n",
    "        self.length=length\n",
    "        self.breadth=breadth\n",
    "        \n",
    "    def calculate_Area(self):\n",
    "        return f'area of the rectangle is {self.length*self.breadth}'\n",
    "    \n",
    "    \n",
    "    \n",
    "    \n",
    "class Square(ABC):\n",
    "    \n",
    "    def __init__(self,side):\n",
    "        self.side=side\n",
    "        \n",
    "        \n",
    "    def calculate_Area(self):\n",
    "        return f'area of the square is {self.side*self.side}'\n",
    "    \n",
    "    \n",
    "\n",
    "    \n",
    "    \n",
    "    \n",
    "        \n",
    "    "
   ]
  },
  {
   "cell_type": "code",
   "execution_count": 9,
   "id": "ee606e37",
   "metadata": {},
   "outputs": [
    {
     "data": {
      "text/plain": [
       "'area of the circle is 12.56'"
      ]
     },
     "execution_count": 9,
     "metadata": {},
     "output_type": "execute_result"
    }
   ],
   "source": [
    "C=Circle(2)\n",
    "C.calculate_Area()"
   ]
  },
  {
   "cell_type": "code",
   "execution_count": 18,
   "id": "807f1dd4",
   "metadata": {},
   "outputs": [],
   "source": [
    "# LISKOV SUBSTITUTION METHOD \n",
    "\n",
    "from abc import ABC, abstractclassmethod\n",
    "\n",
    "class Shape(ABC):\n",
    "    \n",
    "    @abstractclassmethod\n",
    "    def area(self):\n",
    "        pass\n",
    "\n",
    "class Rectangle(Shape):\n",
    "    def __init__(self,length,breadth):\n",
    "        self.length=length\n",
    "        self.breadth=breadth\n",
    "        \n",
    "    def area(self):\n",
    "        return self.length*self.breadth\n",
    "    \n",
    "    \n",
    "class Square(Shape):\n",
    "    def __init__(self,side):\n",
    "        self.side=side\n",
    "        \n",
    "    def area(self):\n",
    "        return self.side*self.side\n",
    "    \n",
    "    \n",
    "\n",
    "\n"
   ]
  },
  {
   "cell_type": "code",
   "execution_count": 21,
   "id": "209b9e66",
   "metadata": {},
   "outputs": [
    {
     "data": {
      "text/plain": [
       "6"
      ]
     },
     "execution_count": 21,
     "metadata": {},
     "output_type": "execute_result"
    }
   ],
   "source": [
    "r=Rectangle(3,2)\n",
    "r.area()"
   ]
  },
  {
   "cell_type": "code",
   "execution_count": 22,
   "id": "86a089aa",
   "metadata": {},
   "outputs": [
    {
     "data": {
      "text/plain": [
       "4"
      ]
     },
     "execution_count": 22,
     "metadata": {},
     "output_type": "execute_result"
    }
   ],
   "source": [
    "s=Square(2)\n",
    "s.area()"
   ]
  },
  {
   "cell_type": "code",
   "execution_count": null,
   "id": "089eb3e1",
   "metadata": {},
   "outputs": [],
   "source": []
  },
  {
   "cell_type": "code",
   "execution_count": null,
   "id": "d83be3a5",
   "metadata": {},
   "outputs": [],
   "source": []
  },
  {
   "cell_type": "code",
   "execution_count": null,
   "id": "2666e97c",
   "metadata": {},
   "outputs": [],
   "source": []
  },
  {
   "cell_type": "code",
   "execution_count": null,
   "id": "adf9f709",
   "metadata": {},
   "outputs": [],
   "source": []
  },
  {
   "cell_type": "code",
   "execution_count": null,
   "id": "cbe9206d",
   "metadata": {},
   "outputs": [],
   "source": []
  },
  {
   "cell_type": "code",
   "execution_count": null,
   "id": "2c6f481f",
   "metadata": {},
   "outputs": [],
   "source": []
  },
  {
   "cell_type": "code",
   "execution_count": null,
   "id": "462c4565",
   "metadata": {},
   "outputs": [],
   "source": []
  },
  {
   "cell_type": "code",
   "execution_count": null,
   "id": "c85efcbe",
   "metadata": {},
   "outputs": [],
   "source": []
  }
 ],
 "metadata": {
  "kernelspec": {
   "display_name": "Python 3 (ipykernel)",
   "language": "python",
   "name": "python3"
  },
  "language_info": {
   "codemirror_mode": {
    "name": "ipython",
    "version": 3
   },
   "file_extension": ".py",
   "mimetype": "text/x-python",
   "name": "python",
   "nbconvert_exporter": "python",
   "pygments_lexer": "ipython3",
   "version": "3.9.13"
  }
 },
 "nbformat": 4,
 "nbformat_minor": 5
}
