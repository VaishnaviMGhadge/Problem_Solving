{
 "cells": [
  {
   "cell_type": "markdown",
   "id": "e3dd2cc9",
   "metadata": {},
   "source": [
    " # Questions based on : constructor"
   ]
  },
  {
   "cell_type": "markdown",
   "id": "defa7890",
   "metadata": {},
   "source": [
    "#### 1. What is a constructor in Python? Explain its purpose and usage."
   ]
  },
  {
   "cell_type": "raw",
   "id": "9d55ac7d",
   "metadata": {},
   "source": [
    "1.In every programming lanuguage constructor do exist . \n",
    "2. Python is also not an exception for exisitance of constructor.\n",
    "3. constructor is the special magic method which constructs the object by passing the required and expected number of argumments.\n",
    "4. we do not need to call the constructor explicitly , when the object is created internally construtor is called by default.\n",
    "5. In python, __init__(self,arg1,arg2,....) is the syntax to build the constructor . \n",
    "    a. Now the first argument in the constructor is always self . \n",
    "    b. self is not the reserved keyword, you can use any name apart from self.\n",
    "    c. when the object is created at that time the address of the object is internally passed to the self.\n",
    "    d.__init__(self,*args): init takes n number of arguments as the formal arguments in the object.\n",
    "    \n",
    "6. In short constructors are used to initiallze the object. \n",
    "7. Constructor allow the user to set the values for the object at the time of creation of an object itself ."
   ]
  },
  {
   "cell_type": "code",
   "execution_count": 45,
   "id": "ba68941e",
   "metadata": {},
   "outputs": [],
   "source": [
    "#an example to see the constructor and its usage \n",
    "\n",
    "class student:\n",
    "    \n",
    "    def __init__(self,fname,lname,stId):\n",
    "        self.fname=fname\n",
    "        self.lname=lname\n",
    "        self.stId=stId\n",
    "        \n",
    "    def showdata(self):\n",
    "        return self.fname,self.lname,self.stId"
   ]
  },
  {
   "cell_type": "code",
   "execution_count": 46,
   "id": "0e4bdd5d",
   "metadata": {},
   "outputs": [
    {
     "data": {
      "text/plain": [
       "('VAISHNAVI', 'GHADGE', 2145)"
      ]
     },
     "execution_count": 46,
     "metadata": {},
     "output_type": "execute_result"
    }
   ],
   "source": [
    "s=student(\"VAISHNAVI\",'GHADGE',2145)\n",
    "s.showdata()"
   ]
  },
  {
   "cell_type": "markdown",
   "id": "249e6ace",
   "metadata": {},
   "source": [
    "#### 2. Differentiate between a parameterless constructor and a parameterized constructor in Python."
   ]
  },
  {
   "cell_type": "raw",
   "id": "4bdbb69f",
   "metadata": {},
   "source": [
    "## *____parameterless constructor____*: \n",
    "\n",
    "\n",
    "1. The constructor which does not take any formal arguments is called as parameterized constructor.\n",
    "2. The constructor takes only \"self\" as the first argument i.e it takes only the memory address of the object is parameterized constructor.\n",
    "3. When we do not want to give any arguments while creation of the object at that time the constructor without parameter is called.\n",
    "\n",
    "\n",
    "## *____parameterized constructor____*: \n",
    "\n",
    "\n",
    "1. The constructor which takes at least 2 formal arguments is called as parameterized constructor.\n",
    "2. The constructor takes  \"self\" as the first argument and another argument as the value from the user  i.e it takes it takes at most 2 arguments.\n",
    "3. When we  want to give any arguments while creation of the object at that time the constructor with parameter is called.\n",
    "\n",
    "both the constructor are always be called once you create the object of the class.\n",
    "But if the constructor is paramterless then at  object creation it will not ask to enter any value and on the other hand parameterized constructor will asks for that number of values which are required.\n",
    "\n"
   ]
  },
  {
   "cell_type": "markdown",
   "id": "4b394462",
   "metadata": {},
   "source": [
    "____parameterless constructor____ : below is the one example of this constructor"
   ]
  },
  {
   "cell_type": "code",
   "execution_count": 47,
   "id": "1d894e1e",
   "metadata": {},
   "outputs": [],
   "source": [
    "class Employee:\n",
    "    def __init__(self):\n",
    "         print(\"init method is called\")"
   ]
  },
  {
   "cell_type": "code",
   "execution_count": 48,
   "id": "4454fe33",
   "metadata": {},
   "outputs": [
    {
     "name": "stdout",
     "output_type": "stream",
     "text": [
      "init method is called\n",
      "<__main__.Employee object at 0x00000196C989C280>\n"
     ]
    }
   ],
   "source": [
    "e=Employee()\n",
    "print(e)"
   ]
  },
  {
   "cell_type": "markdown",
   "id": "29fb347e",
   "metadata": {},
   "source": [
    "#### 3. How do you define a constructor in a Python class? Provide an example."
   ]
  },
  {
   "cell_type": "raw",
   "id": "69a7e378",
   "metadata": {},
   "source": [
    "1. Constructor in python is defined by calling the __init__ magic method\n",
    "2. __init__ method accepts the self as the first argument, where self is not the reserved keyward.\n",
    "3. self takes the memory location of the object. \n",
    "4. further paramters can be anything  and in any number \n"
   ]
  },
  {
   "cell_type": "markdown",
   "id": "0ec94ff6",
   "metadata": {},
   "source": [
    " __example to define the __init__ __ method in python is given below"
   ]
  },
  {
   "cell_type": "code",
   "execution_count": 15,
   "id": "0ba10b35",
   "metadata": {},
   "outputs": [],
   "source": [
    "class Course:\n",
    "    def __init__(self,**kwargs):\n",
    "         print(kwargs)\n",
    "    "
   ]
  },
  {
   "cell_type": "code",
   "execution_count": 18,
   "id": "f8a7b559",
   "metadata": {},
   "outputs": [
    {
     "name": "stdout",
     "output_type": "stream",
     "text": [
      "{'course': 'pwskills', 'mentor': 'sudhanshu kumar'}\n"
     ]
    }
   ],
   "source": [
    "c=Course(course='pwskills',mentor=\"sudhanshu kumar\")"
   ]
  },
  {
   "cell_type": "markdown",
   "id": "8d6f2977",
   "metadata": {},
   "source": [
    "#### 4. Explain the `__init__` method in Python and its role in constructors."
   ]
  },
  {
   "cell_type": "raw",
   "id": "201002e0",
   "metadata": {},
   "source": [
    "__init__ method : the method which is used to create the constructor.\n",
    "                  This method is the magic method or dunder method.\n",
    "                  __init__ method plays the vital role in program execution.\n",
    "                  whenever any object is created at that time to instantiate that object, the __init__ method is used.\n",
    "                  __init__method takes self as the first argument , which show cases the memory address of the object. \n",
    "                  \n",
    "            "
   ]
  },
  {
   "cell_type": "code",
   "execution_count": 19,
   "id": "4cc3a996",
   "metadata": {},
   "outputs": [],
   "source": [
    "## example to show the __init__ method in the python"
   ]
  },
  {
   "cell_type": "code",
   "execution_count": 20,
   "id": "ce1a26db",
   "metadata": {},
   "outputs": [],
   "source": [
    "class Bank:\n",
    "    def __init__(self,account_no):\n",
    "        self.account_no=account_no\n",
    "        \n",
    "    def print_account_no(self):\n",
    "        print(self.account_no)\n",
    "        \n",
    "        "
   ]
  },
  {
   "cell_type": "code",
   "execution_count": 21,
   "id": "1572ca68",
   "metadata": {},
   "outputs": [],
   "source": [
    "b=Bank(23456)"
   ]
  },
  {
   "cell_type": "code",
   "execution_count": 23,
   "id": "a669c3c0",
   "metadata": {},
   "outputs": [
    {
     "name": "stdout",
     "output_type": "stream",
     "text": [
      "23456\n"
     ]
    }
   ],
   "source": [
    "b.print_account_no()"
   ]
  },
  {
   "cell_type": "markdown",
   "id": "50aea5db",
   "metadata": {},
   "source": [
    "#### 5. In a class named `Person`, create a constructor that initializes the `name` and `age` attributes. Provide an example of creating an object of this class."
   ]
  },
  {
   "cell_type": "code",
   "execution_count": 27,
   "id": "bbb1c7cb",
   "metadata": {},
   "outputs": [],
   "source": [
    "class Person:\n",
    "    def __init__(self,name,age):\n",
    "        self.name=name\n",
    "        self.age=age\n",
    "        \n",
    "    \n",
    "    def showdata(self):\n",
    "        print(f\" name is: {self.name} and age of that person is :{self.age} \")"
   ]
  },
  {
   "cell_type": "code",
   "execution_count": 28,
   "id": "b2986c8a",
   "metadata": {},
   "outputs": [],
   "source": [
    "p=Person('shreya',24)"
   ]
  },
  {
   "cell_type": "code",
   "execution_count": 29,
   "id": "336ce419",
   "metadata": {},
   "outputs": [
    {
     "name": "stdout",
     "output_type": "stream",
     "text": [
      " name is: shreya and age of that person is :24 \n"
     ]
    }
   ],
   "source": [
    "p.showdata()"
   ]
  },
  {
   "cell_type": "markdown",
   "id": "442665cb",
   "metadata": {},
   "source": [
    "#### 6. How can you call a constructor explicitly in Python? Give an example."
   ]
  },
  {
   "cell_type": "markdown",
   "id": "2a04cfce",
   "metadata": {},
   "source": [
    "we can call the constructor explicitly in the python.\n"
   ]
  },
  {
   "cell_type": "code",
   "execution_count": 26,
   "id": "43fb0b77",
   "metadata": {},
   "outputs": [
    {
     "name": "stdout",
     "output_type": "stream",
     "text": [
      "Parent constructor\n",
      "Child constructor\n"
     ]
    }
   ],
   "source": [
    "class Parent:\n",
    "    def __init__(self):\n",
    "        print(\"Parent constructor\")\n",
    "\n",
    "class Child(Parent):\n",
    "    def __init__(self):\n",
    "        super().__init__()\n",
    "        print(\"Child constructor\")\n",
    "child = Child()"
   ]
  },
  {
   "cell_type": "markdown",
   "id": "fef22990",
   "metadata": {},
   "source": [
    "#### 7. What is the significance of the `self` parameter in Python constructors? Explain with an example."
   ]
  },
  {
   "cell_type": "raw",
   "id": "40f3409b",
   "metadata": {},
   "source": [
    "self : 1. so first of all self is not the reserved keyward in the python.\n",
    "       2. self is used as the pointer or refernece to the memory location of any object created by the user.\n",
    "       3. self stores the memory location of the value and it is passed as the first argument in the __init__ method i.e in the           creation of the constructor.\n",
    "       4. again self is not the reserved keywaard, you can give my name your name instead of self "
   ]
  },
  {
   "cell_type": "code",
   "execution_count": 30,
   "id": "45fee748",
   "metadata": {},
   "outputs": [],
   "source": [
    "## example to show the use of self keyword"
   ]
  },
  {
   "cell_type": "code",
   "execution_count": 35,
   "id": "4ef969bb",
   "metadata": {},
   "outputs": [],
   "source": [
    "class demo:\n",
    "    def __init__(vaishnavi,a,b):\n",
    "        vaishnavi.a=a\n",
    "        vaishnavi.b=b\n",
    "        \n",
    "    def showdata(vaishnavi):\n",
    "        return vaishnavi.a, vaishnavi.b"
   ]
  },
  {
   "cell_type": "code",
   "execution_count": 36,
   "id": "6a5a1102",
   "metadata": {},
   "outputs": [],
   "source": [
    "d=demo(1,2)"
   ]
  },
  {
   "cell_type": "code",
   "execution_count": 37,
   "id": "381b7d58",
   "metadata": {},
   "outputs": [
    {
     "data": {
      "text/plain": [
       "(1, 2)"
      ]
     },
     "execution_count": 37,
     "metadata": {},
     "output_type": "execute_result"
    }
   ],
   "source": [
    "d.showdata()"
   ]
  },
  {
   "cell_type": "markdown",
   "id": "33ceffeb",
   "metadata": {},
   "source": [
    "#### 8. Discuss the concept of default constructors in Python. When are they used?"
   ]
  },
  {
   "cell_type": "raw",
   "id": "a85e93c2",
   "metadata": {},
   "source": [
    "default constructor : \n",
    "1.the constructor which does not take any argument except that takes the memory location of the instance is the default constructor.\n",
    "\n",
    "2.default constructor is used where user do not need ti pass any value while object creation.\n",
    "\n"
   ]
  },
  {
   "cell_type": "code",
   "execution_count": 44,
   "id": "fa57ef75",
   "metadata": {},
   "outputs": [],
   "source": [
    "class Demo1:\n",
    "    def __init__(self):\n",
    "         print('this is the default constructor which does not accept any value ')\n",
    "    "
   ]
  },
  {
   "cell_type": "code",
   "execution_count": 45,
   "id": "46357506",
   "metadata": {},
   "outputs": [
    {
     "name": "stdout",
     "output_type": "stream",
     "text": [
      "this is the default constructor which does not accept any value \n"
     ]
    }
   ],
   "source": [
    "d=Demo1()"
   ]
  },
  {
   "cell_type": "markdown",
   "id": "a36fbca2",
   "metadata": {},
   "source": [
    "#### 9. Create a Python class called `Rectangle` with a constructor that initializes the `width` and `height` attributes. Provide a method to calculate the area of the rectangle."
   ]
  },
  {
   "cell_type": "code",
   "execution_count": 45,
   "id": "34781e08",
   "metadata": {},
   "outputs": [],
   "source": [
    "class Rectangle:\n",
    "    def __init__(self,width=1,height=1):\n",
    "        self.width=width\n",
    "        self.height=height\n",
    "        \n",
    "    def area(self):\n",
    "        ans=round(self.width*self.height,2)\n",
    "        return f'area of the rectanle is {ans} sq.units'"
   ]
  },
  {
   "cell_type": "code",
   "execution_count": 46,
   "id": "bdaf9756",
   "metadata": {},
   "outputs": [],
   "source": [
    "r=Rectangle(4,3)"
   ]
  },
  {
   "cell_type": "code",
   "execution_count": 47,
   "id": "187d64a2",
   "metadata": {},
   "outputs": [
    {
     "data": {
      "text/plain": [
       "'area of the rectanle is 12 sq.units'"
      ]
     },
     "execution_count": 47,
     "metadata": {},
     "output_type": "execute_result"
    }
   ],
   "source": [
    "r.area()"
   ]
  },
  {
   "cell_type": "markdown",
   "id": "36ce15cf",
   "metadata": {},
   "source": [
    "####  10. How can you have multiple constructors in a Python class? Explain with an example."
   ]
  },
  {
   "cell_type": "raw",
   "id": "526e0a09",
   "metadata": {},
   "source": [
    "If you try to do constrcutor ovelaoding then, everytime object will call the latest defiend the __init__ method\n",
    "\n",
    "In core python , we can not have multiple constructors but we can achive them in two ways.\n",
    "    1. pythonic way : using variable lenth arguments /using *args\n",
    "    2. advanced way : using multipledispatch / using @dispatch decorator \n",
    "    \n",
    "    if we write multiple constructors in the python, latest will be called always "
   ]
  },
  {
   "cell_type": "code",
   "execution_count": 97,
   "id": "e88366cf",
   "metadata": {},
   "outputs": [],
   "source": [
    "# using *args \n",
    "\n",
    "class function:\n",
    "    def __init__(self,*args):\n",
    "        if(len(args)==1):\n",
    "            self.a=args[0]\n",
    "            print(self.a)\n",
    "            \n",
    "        elif(len(args)==2):\n",
    "            self.a=args[0]\n",
    "            self.b=args[1]\n",
    "            print(self.a+self.b)\n",
    "            \n",
    "        \n",
    "            \n",
    "    "
   ]
  },
  {
   "cell_type": "code",
   "execution_count": 98,
   "id": "b1e9fcf7",
   "metadata": {},
   "outputs": [
    {
     "name": "stdout",
     "output_type": "stream",
     "text": [
      "3\n"
     ]
    }
   ],
   "source": [
    "f=function(1,2)\n"
   ]
  },
  {
   "cell_type": "code",
   "execution_count": 99,
   "id": "299f1f6d",
   "metadata": {},
   "outputs": [
    {
     "name": "stdout",
     "output_type": "stream",
     "text": [
      "1\n"
     ]
    }
   ],
   "source": [
    "f=function(1)"
   ]
  },
  {
   "cell_type": "code",
   "execution_count": 100,
   "id": "16538b2d",
   "metadata": {},
   "outputs": [],
   "source": [
    "#using multipledispatch library \n",
    "\n",
    "class function:\n",
    "    @dispatch(int)\n",
    "    def __init__(self,x):\n",
    "        self.x=x\n",
    "        print(\"constructor with single argument is called and value  is {}\".format(self.x))\n",
    "        \n",
    "    @dispatch(int,int)\n",
    "    def __init__(self,x,y):\n",
    "        self.x=x\n",
    "        self.y=y\n",
    "        print(\"constructor with 2  argument is called and values are {} and {}\".format(self.x,self.y))\n",
    "        \n",
    "    \n",
    "    @dispatch(int,float)\n",
    "    def __init__(self,x,y):\n",
    "        self.x=x\n",
    "        self.y=y\n",
    "        print(\"constructor with 2  argument is called and values are {} and {}\".format(self.x,self.y))\n",
    "        \n",
    "   "
   ]
  },
  {
   "cell_type": "code",
   "execution_count": 101,
   "id": "f25ffc77",
   "metadata": {},
   "outputs": [
    {
     "name": "stdout",
     "output_type": "stream",
     "text": [
      "constructor with single argument is called and value  is 1\n"
     ]
    }
   ],
   "source": [
    "f1=function(1)\n"
   ]
  },
  {
   "cell_type": "code",
   "execution_count": 102,
   "id": "cd609493",
   "metadata": {},
   "outputs": [
    {
     "name": "stdout",
     "output_type": "stream",
     "text": [
      "constructor with 2  argument is called and values are 1 and 2\n"
     ]
    }
   ],
   "source": [
    "f2=function(1,2)"
   ]
  },
  {
   "cell_type": "code",
   "execution_count": 9,
   "id": "d68aba5e",
   "metadata": {},
   "outputs": [],
   "source": [
    "class function:\n",
    "    def __init__(self,a,b):\n",
    "        self.a=a\n",
    "        self.b=b\n",
    "        print(\"parameterized constructor\")\n",
    "        \n",
    "    def __init__(self):\n",
    "        print(\"paramterless constructor\")\n",
    "        "
   ]
  },
  {
   "cell_type": "code",
   "execution_count": 10,
   "id": "755816b2",
   "metadata": {},
   "outputs": [
    {
     "name": "stdout",
     "output_type": "stream",
     "text": [
      "paramterless constructor\n"
     ]
    }
   ],
   "source": [
    "f=function()"
   ]
  },
  {
   "cell_type": "markdown",
   "id": "663c1897",
   "metadata": {},
   "source": [
    "#### 11. What is method overloading, and how is it related to constructors in Python?"
   ]
  },
  {
   "cell_type": "raw",
   "id": "72253bee",
   "metadata": {},
   "source": [
    "method overloading :\n",
    "     1. method overloading is one of the way to achive the polymorphisom in the python\n",
    "     2.  method overloading means the same function will take the differnt number of arguements.\n",
    "     3.  but core python does not supprt the method overloading because, in method overloading we should give different parameters as an argument and we can not give the data type to the arguments in python.\n",
    "     4. but using an external library called as \"multipledispatch\" we can achive the method overloading in python.\n",
    "     5. counstructor also be overloaded in pytohn using @dispatch decorator.\n",
    "        "
   ]
  },
  {
   "cell_type": "code",
   "execution_count": 42,
   "id": "8ac7a8f3",
   "metadata": {},
   "outputs": [],
   "source": [
    "class fun2:\n",
    "    def sum1(self,a,b):\n",
    "        return self.a+self.b\n",
    "    def sum1(self,a,b,c):\n",
    "         print(self.a+self.b+self.c)"
   ]
  },
  {
   "cell_type": "code",
   "execution_count": 43,
   "id": "19c9da61",
   "metadata": {},
   "outputs": [],
   "source": [
    "f=fun2()"
   ]
  },
  {
   "cell_type": "code",
   "execution_count": 44,
   "id": "abe058ae",
   "metadata": {},
   "outputs": [
    {
     "ename": "AttributeError",
     "evalue": "'fun2' object has no attribute 'a'",
     "output_type": "error",
     "traceback": [
      "\u001b[1;31m---------------------------------------------------------------------------\u001b[0m",
      "\u001b[1;31mAttributeError\u001b[0m                            Traceback (most recent call last)",
      "\u001b[1;32m~\\AppData\\Local\\Temp\\ipykernel_24468\\796944668.py\u001b[0m in \u001b[0;36m<module>\u001b[1;34m\u001b[0m\n\u001b[1;32m----> 1\u001b[1;33m \u001b[0mf\u001b[0m\u001b[1;33m.\u001b[0m\u001b[0msum1\u001b[0m\u001b[1;33m(\u001b[0m\u001b[1;36m1\u001b[0m\u001b[1;33m,\u001b[0m\u001b[1;36m3\u001b[0m\u001b[1;33m,\u001b[0m\u001b[1;36m3\u001b[0m\u001b[1;33m)\u001b[0m\u001b[1;33m\u001b[0m\u001b[1;33m\u001b[0m\u001b[0m\n\u001b[0m",
      "\u001b[1;32m~\\AppData\\Local\\Temp\\ipykernel_24468\\3690401589.py\u001b[0m in \u001b[0;36msum1\u001b[1;34m(self, a, b, c)\u001b[0m\n\u001b[0;32m      3\u001b[0m         \u001b[1;32mreturn\u001b[0m \u001b[0mself\u001b[0m\u001b[1;33m.\u001b[0m\u001b[0ma\u001b[0m\u001b[1;33m+\u001b[0m\u001b[0mself\u001b[0m\u001b[1;33m.\u001b[0m\u001b[0mb\u001b[0m\u001b[1;33m\u001b[0m\u001b[1;33m\u001b[0m\u001b[0m\n\u001b[0;32m      4\u001b[0m     \u001b[1;32mdef\u001b[0m \u001b[0msum1\u001b[0m\u001b[1;33m(\u001b[0m\u001b[0mself\u001b[0m\u001b[1;33m,\u001b[0m\u001b[0ma\u001b[0m\u001b[1;33m,\u001b[0m\u001b[0mb\u001b[0m\u001b[1;33m,\u001b[0m\u001b[0mc\u001b[0m\u001b[1;33m)\u001b[0m\u001b[1;33m:\u001b[0m\u001b[1;33m\u001b[0m\u001b[1;33m\u001b[0m\u001b[0m\n\u001b[1;32m----> 5\u001b[1;33m          \u001b[0mprint\u001b[0m\u001b[1;33m(\u001b[0m\u001b[0mself\u001b[0m\u001b[1;33m.\u001b[0m\u001b[0ma\u001b[0m\u001b[1;33m+\u001b[0m\u001b[0mself\u001b[0m\u001b[1;33m.\u001b[0m\u001b[0mb\u001b[0m\u001b[1;33m+\u001b[0m\u001b[0mself\u001b[0m\u001b[1;33m.\u001b[0m\u001b[0mc\u001b[0m\u001b[1;33m)\u001b[0m\u001b[1;33m\u001b[0m\u001b[1;33m\u001b[0m\u001b[0m\n\u001b[0m",
      "\u001b[1;31mAttributeError\u001b[0m: 'fun2' object has no attribute 'a'"
     ]
    }
   ],
   "source": [
    "f.sum1(1,3,3)"
   ]
  },
  {
   "cell_type": "markdown",
   "id": "1476fccb",
   "metadata": {},
   "source": [
    "here if we perform the method overloading in python, python will always call the latest function which is defined."
   ]
  },
  {
   "cell_type": "code",
   "execution_count": 27,
   "id": "dd1fb448",
   "metadata": {},
   "outputs": [],
   "source": [
    "from multipledispatch import dispatch"
   ]
  },
  {
   "cell_type": "code",
   "execution_count": 28,
   "id": "ea05083b",
   "metadata": {},
   "outputs": [],
   "source": [
    "@dispatch(int,int)\n",
    "def sum1(a,b):\n",
    "    return a+b\n",
    "@dispatch(int,int,int)\n",
    "def sum1(a,b,c):\n",
    "    return a+b+c"
   ]
  },
  {
   "cell_type": "code",
   "execution_count": 30,
   "id": "05b46e44",
   "metadata": {},
   "outputs": [
    {
     "data": {
      "text/plain": [
       "3"
      ]
     },
     "execution_count": 30,
     "metadata": {},
     "output_type": "execute_result"
    }
   ],
   "source": [
    "sum1(1,2)"
   ]
  },
  {
   "cell_type": "code",
   "execution_count": 39,
   "id": "1d2a60e1",
   "metadata": {},
   "outputs": [],
   "source": [
    "## the below mentioned example showcases the use of multiple dispatch for achiving the method overloading in python\n",
    "class method_overload:\n",
    "    \n",
    "    @dispatch(int,int)\n",
    "    def sum1(a,b):\n",
    "        return a+b\n",
    "    \n",
    "    @dispatch(int,int,int)\n",
    "    def sum1(a,b,c):\n",
    "        return a+b+c\n",
    "    "
   ]
  },
  {
   "cell_type": "code",
   "execution_count": 40,
   "id": "0f3cccb6",
   "metadata": {},
   "outputs": [],
   "source": [
    "m=method_overload()"
   ]
  },
  {
   "cell_type": "code",
   "execution_count": 41,
   "id": "82ae80f2",
   "metadata": {},
   "outputs": [
    {
     "data": {
      "text/plain": [
       "9"
      ]
     },
     "execution_count": 41,
     "metadata": {},
     "output_type": "execute_result"
    }
   ],
   "source": [
    "m.sum1(1,3,5)"
   ]
  },
  {
   "cell_type": "markdown",
   "id": "25d03282",
   "metadata": {},
   "source": [
    "#### 12. Explain the use of the `super()` function in Python constructors. Provide an example."
   ]
  },
  {
   "cell_type": "raw",
   "id": "4da5a092",
   "metadata": {},
   "source": [
    "super():=  1. super() is the reserved keyward which is used to do the method overriding from one class to another class.\n",
    "           2. super() can be used to access the parents class constructor, methods to the child class.\n",
    "           3. the keyward is responsible to avoid the"
   ]
  },
  {
   "cell_type": "code",
   "execution_count": 137,
   "id": "9b1ed958",
   "metadata": {},
   "outputs": [],
   "source": [
    "class person:\n",
    "    def __init__(self,name,age):\n",
    "        self.name=name\n",
    "        self.age=age\n",
    "        \n",
    "    def showdata(self):\n",
    "        return self.name,self.age\n",
    "    \n",
    "\n",
    "class student(person):\n",
    "    def __init__(self,name,age,id1,address):\n",
    "        \n",
    "        self.id1=id1\n",
    "        self.address=address\n",
    "        super().__init__(name,age)\n",
    "    \n",
    "    def showdata(self):\n",
    "        print(self.id1,self.address)\n",
    "        print(super().showdata())\n",
    "    \n",
    "    "
   ]
  },
  {
   "cell_type": "code",
   "execution_count": 138,
   "id": "f3b21787",
   "metadata": {},
   "outputs": [],
   "source": [
    "s=student('vaishnavi',24,21,'phaltan')"
   ]
  },
  {
   "cell_type": "code",
   "execution_count": 139,
   "id": "38edfd2e",
   "metadata": {},
   "outputs": [
    {
     "name": "stdout",
     "output_type": "stream",
     "text": [
      "21 phaltan\n",
      "('vaishnavi', 24)\n"
     ]
    }
   ],
   "source": [
    "s.showdata()"
   ]
  },
  {
   "cell_type": "code",
   "execution_count": 140,
   "id": "59c34173",
   "metadata": {},
   "outputs": [],
   "source": [
    "#### in above example, i used super() two times, one to call the function and one is to call the constructor of parent class to the child class"
   ]
  },
  {
   "cell_type": "markdown",
   "id": "828feaf7",
   "metadata": {},
   "source": [
    "#### 13. Create a class called `Book` with a constructor that initializes the `title`, `author`, and `published_year` attributes. Provide a method to display book details.\n",
    "\n",
    "\n"
   ]
  },
  {
   "cell_type": "code",
   "execution_count": 141,
   "id": "74a4d3ed",
   "metadata": {},
   "outputs": [],
   "source": [
    "class Book:\n",
    "    def __init__(self,title,author,published_year):\n",
    "        self.title=title\n",
    "        self.author=author\n",
    "        self.published_year=published_year\n",
    "        \n",
    "    def Book_Details(self):\n",
    "        print(f\"title of the books is {self.title}\")\n",
    "        print(f'author of the book is {self.author}')\n",
    "        print(f\"published year of the book is {self.published_year}\")"
   ]
  },
  {
   "cell_type": "code",
   "execution_count": 142,
   "id": "fbabd77e",
   "metadata": {},
   "outputs": [],
   "source": [
    "b1=Book(\"half girlfriend\",'chetan bhagat',2014)"
   ]
  },
  {
   "cell_type": "code",
   "execution_count": 143,
   "id": "14554c97",
   "metadata": {},
   "outputs": [
    {
     "name": "stdout",
     "output_type": "stream",
     "text": [
      "title of the books is half girlfriend\n",
      "author of the book is chetan bhagat\n",
      "published year of the book is 2014\n"
     ]
    }
   ],
   "source": [
    "b1.Book_Details()"
   ]
  },
  {
   "cell_type": "markdown",
   "id": "4ed933b8",
   "metadata": {},
   "source": [
    "#### 14. Discuss the differences between constructors and regular methods in Python classes."
   ]
  },
  {
   "cell_type": "raw",
   "id": "249713eb",
   "metadata": {},
   "source": [
    "                                    *************Constructor***********\n",
    "                                    \n",
    "1.constructor is the special magic method which invokes whenever we create the object.\n",
    "2. we do not need to call the constrcutor explicitly. it is called automatically.\n",
    "3. The constructor always starts with the __init_.\n",
    "4. the first argument in the constrcutor is self which taked the address of object as first argument.\n",
    "\n",
    "\n",
    "                                    *************Normal Function***********\n",
    "                                    \n",
    "1. normal functions are the functions which are invoked after we call them.\n",
    "2. we need to call any normal function explicitly.\n",
    "3. the first paramter in any normal function is also self.\n",
    "4. the name of the normal function can be anything, but it should start with def.\n",
    "\n"
   ]
  },
  {
   "cell_type": "markdown",
   "id": "5a82e9a5",
   "metadata": {},
   "source": [
    "#### 15. Explain the role of the `self` parameter in instance variable initialization within a constructor."
   ]
  },
  {
   "cell_type": "raw",
   "id": "beab26da",
   "metadata": {},
   "source": [
    "self : \n",
    "\n",
    "1. so first of all self is not the reserved keyward in the python.\n",
    "       2. self is used as the pointer or refernece to the memory location of any object created by the user.\n",
    "       3. self stores the memory location of the value and it is passed as the first argument in the __init__ method i.e in the creation of the constructor.\n",
    "       4. again self is not the reserved keywaard, you can give my name your name instead of self "
   ]
  },
  {
   "cell_type": "code",
   "execution_count": null,
   "id": "df828974",
   "metadata": {},
   "outputs": [],
   "source": []
  },
  {
   "cell_type": "markdown",
   "id": "9fe8479d",
   "metadata": {},
   "source": [
    "#### 17. Create a Python class called `Student` with a constructor that takes a list of subjects as a parameter and initializes the `subjects` attribute."
   ]
  },
  {
   "cell_type": "code",
   "execution_count": 19,
   "id": "2511b898",
   "metadata": {},
   "outputs": [],
   "source": [
    "l=[]\n",
    "class Student:\n",
    "    def __init__(self):\n",
    "        self.l=[]\n",
    "        for i in range(1,5):\n",
    "            a=(input('enter the subject'))\n",
    "            self.l.append(a)\n",
    "        \n",
    "    def showsubject(self):\n",
    "        return(self.l)\n",
    "        \n",
    "    \n",
    "    \n",
    "        \n",
    "    \n",
    "    "
   ]
  },
  {
   "cell_type": "code",
   "execution_count": 20,
   "id": "b5ba5da0",
   "metadata": {},
   "outputs": [
    {
     "name": "stdout",
     "output_type": "stream",
     "text": [
      "enter the subjectmaths\n",
      "enter the subjectdata science\n",
      "enter the subjectmachine learning\n",
      "enter the subjectpython\n"
     ]
    }
   ],
   "source": [
    " s=Student()"
   ]
  },
  {
   "cell_type": "code",
   "execution_count": 21,
   "id": "9e4d4bdc",
   "metadata": {},
   "outputs": [
    {
     "data": {
      "text/plain": [
       "['maths', 'data science', 'machine learning', 'python']"
      ]
     },
     "execution_count": 21,
     "metadata": {},
     "output_type": "execute_result"
    }
   ],
   "source": [
    "s.showsubject()"
   ]
  },
  {
   "cell_type": "markdown",
   "id": "fe2a3aa7",
   "metadata": {},
   "source": [
    "#### 18. What is the purpose of the `__del__` method in Python classes, and how does it relate to constructors?"
   ]
  },
  {
   "cell_type": "raw",
   "id": "c0d3563b",
   "metadata": {},
   "source": [
    "__del__ : \n",
    "\n",
    "1. This is the special magic/ dunder method in the python.\n",
    "          2. __del__is a destrcutor in python.\n",
    "          3. we do not need to call the __del__ method explicitly in the python.\n",
    "          4. whenever all the assigned task are done by the obejct at that time destrcutor/ __del__method is called internally.\n",
    "          5. This method is called after object's garbage collection occurs. \n",
    "          6. It is opposite to the constrcutor as it invkoes at the end of the program."
   ]
  },
  {
   "cell_type": "markdown",
   "id": "71d6d593",
   "metadata": {},
   "source": [
    "#### 19. Explain the use of constructor chaining in Python. Provide a practical example."
   ]
  },
  {
   "cell_type": "raw",
   "id": "f2526af6",
   "metadata": {},
   "source": [
    " Constructor chaining :\n",
    " \n",
    " 1. chaining of the constructor means that we are calling the one constructor from another constrcutor by making only one instance.\n",
    "                       2. Constructor chaining is useful when we want to invoke the one constructor after another one.\n",
    "                       3. Constrcutor chaining is achived in inheritance concept.\n",
    "                       4. we can do the chaining by using the super()in python.\n",
    "                       5. practical example:\n",
    "                           if we have to initialize the object by giving some values in parent class and same all values are required in the child class then at that time we are using the constructor chaining using super() method\n",
    " \n",
    "               "
   ]
  },
  {
   "cell_type": "code",
   "execution_count": 20,
   "id": "09d711b7",
   "metadata": {},
   "outputs": [],
   "source": [
    "## practical example of the construtor chaining \n",
    "\n",
    "class car:\n",
    "    def __init__(self,num_of_wheels,fuel_type,engine_type):\n",
    "        self.num_of_wheels=num_of_wheels\n",
    "        self.fuel_type=fuel_type\n",
    "        self.engine_type=engine_type\n",
    "        \n",
    "class Tata_Nexon(car):\n",
    "    def __init__(self,num_of_wheels,fuel_type,engine_type,model,average):\n",
    "        self.model=model\n",
    "        self.average=average\n",
    "        super().__init__(num_of_wheels,fuel_type,engine_type)\n",
    "       \n",
    "        \n",
    "    def show_info(self):\n",
    "        print(\"Tata_Nexon specifications are as followed:\")\n",
    "        print( \"*******************************************\")\n",
    "        print('        model is',self.model)\n",
    "        print(\"        number_of_wheels are:\",self.num_of_wheels)\n",
    "        print(\"        fuel type:\",self.fuel_type)\n",
    "        print(\"        engine type:\",self.engine_type)\n",
    "        print(\"        average is:\",self.average)\n",
    "        "
   ]
  },
  {
   "cell_type": "code",
   "execution_count": 21,
   "id": "e02fc5b0",
   "metadata": {},
   "outputs": [],
   "source": [
    "t=Tata_Nexon(3,'disel','BS6','Nexon 84',80)"
   ]
  },
  {
   "cell_type": "code",
   "execution_count": 22,
   "id": "f13dd1ae",
   "metadata": {},
   "outputs": [
    {
     "name": "stdout",
     "output_type": "stream",
     "text": [
      "Tata_Nexon specifications are as followed:\n",
      "*******************************************\n",
      "        model is Nexon 84\n",
      "        number_of_wheels are: 3\n",
      "        fuel type: disel\n",
      "        engine type: BS6\n",
      "        average is: 80\n"
     ]
    }
   ],
   "source": [
    "t.show_info()  "
   ]
  },
  {
   "cell_type": "markdown",
   "id": "44eb40f4",
   "metadata": {},
   "source": [
    "#### 20. Create a Python class called `Car` with a default constructor that initializes the `make` and `model` attributes. Provide a method to display car information."
   ]
  },
  {
   "cell_type": "code",
   "execution_count": 29,
   "id": "bc6d0f90",
   "metadata": {},
   "outputs": [],
   "source": [
    "class Car:\n",
    "    def __init__(self,make,model):\n",
    "        self.make=make\n",
    "        self.model=model\n",
    "        \n",
    "    def display(self):\n",
    "        print(f\"the make of {self.make} {self.model } is {self.make}\")\n",
    "        "
   ]
  },
  {
   "cell_type": "code",
   "execution_count": 30,
   "id": "cf66d220",
   "metadata": {},
   "outputs": [],
   "source": [
    "c=Car(\"TATA\",'Harrier')"
   ]
  },
  {
   "cell_type": "code",
   "execution_count": 31,
   "id": "c102d68c",
   "metadata": {},
   "outputs": [
    {
     "name": "stdout",
     "output_type": "stream",
     "text": [
      "the make of TATA Harrier is TATA\n"
     ]
    }
   ],
   "source": [
    "c.display()"
   ]
  },
  {
   "cell_type": "markdown",
   "id": "327b020e",
   "metadata": {},
   "source": [
    "# Problems based on : Inheritance"
   ]
  },
  {
   "cell_type": "markdown",
   "id": "d8204d26",
   "metadata": {},
   "source": [
    "#### 1. What is inheritance in Python? Explain its significance in object-oriented programming."
   ]
  },
  {
   "cell_type": "raw",
   "id": "99c724ce",
   "metadata": {},
   "source": [
    "Inheritance :\n",
    "\n",
    "1.It is the ability of the class which can inherit both the methods and attributes from parent class to the child class.\n",
    "2. Inheritance is a very useful technique to reuse the attributes and methods wisely from parent class to another class.\n",
    "3. Inheritance show cases the real world development. \n",
    "4. There are 5 types of inheritance in the python.\n",
    "    a. single inheritance\n",
    "    b. multiple inheritance\n",
    "    c. multilevel inheritance\n",
    "    d. hirarchical inheritance\n",
    "    e. hybrid inheritance\n",
    "5. Its crucial usage in oop is to reuse the code from one class(super) to another class(sub)."
   ]
  },
  {
   "cell_type": "markdown",
   "id": "01c90e0a",
   "metadata": {},
   "source": [
    "#### 2. Differentiate between single inheritance and multiple inheritance in Python. Provide examples for each."
   ]
  },
  {
   "cell_type": "raw",
   "id": "100a3276",
   "metadata": {},
   "source": [
    "single inheritance :\n",
    "1.The property of the class to inherit all the methods and attributes from one class to another class upto only a single level is a single level inheritance.\n",
    "2. In single level inheritance, there is only one parent and only one child is involved.\n",
    "\n",
    "\n",
    "multiple inheritance: \n",
    "1. In multiple inheritance, a single child have two parents. \n",
    "2. But there is one problem wrt multiple inheritance and that is called as ambiguity issue. but that can be resolved by MRO method."
   ]
  },
  {
   "cell_type": "code",
   "execution_count": 36,
   "id": "4ebe25a5",
   "metadata": {},
   "outputs": [],
   "source": [
    "# example of single inheritance\n",
    "class parent:\n",
    "    def __init__(self,a,b):\n",
    "        self.a=a\n",
    "        self.b=b\n",
    "        \n",
    "class child(parent):\n",
    "    def sum1(self):\n",
    "        return self.a+self.b"
   ]
  },
  {
   "cell_type": "code",
   "execution_count": 37,
   "id": "254ee35d",
   "metadata": {},
   "outputs": [],
   "source": [
    "c=child(2,3)"
   ]
  },
  {
   "cell_type": "code",
   "execution_count": 39,
   "id": "411f63ec",
   "metadata": {},
   "outputs": [
    {
     "data": {
      "text/plain": [
       "5"
      ]
     },
     "execution_count": 39,
     "metadata": {},
     "output_type": "execute_result"
    }
   ],
   "source": [
    "c.sum1()"
   ]
  },
  {
   "cell_type": "code",
   "execution_count": 60,
   "id": "be1c0362",
   "metadata": {},
   "outputs": [],
   "source": [
    "#example of multiple inheritance\n",
    "\n",
    "class parent1:\n",
    "    def __init__(self,a,b):\n",
    "        self.a=a\n",
    "        self.b=b\n",
    "        \n",
    "class parent2:\n",
    "    def __init__(self,a,b,e):\n",
    "        super().__init__(a,b)\n",
    "        self.e=e\n",
    "        \n",
    "class child(parent2,parent1):\n",
    "    def sum1(self):\n",
    "        return self.a+self.b+self.e"
   ]
  },
  {
   "cell_type": "code",
   "execution_count": 61,
   "id": "d1a45fdf",
   "metadata": {},
   "outputs": [],
   "source": [
    "c=child(1,2,4)"
   ]
  },
  {
   "cell_type": "code",
   "execution_count": 62,
   "id": "b3e1d486",
   "metadata": {},
   "outputs": [
    {
     "data": {
      "text/plain": [
       "7"
      ]
     },
     "execution_count": 62,
     "metadata": {},
     "output_type": "execute_result"
    }
   ],
   "source": [
    "c.sum1()"
   ]
  },
  {
   "cell_type": "markdown",
   "id": "974a16a3",
   "metadata": {},
   "source": [
    "#### 3. Create a Python class called `Vehicle` with attributes `color` and `speed`. Then, create a child class called `Car` that inherits  from `Vehicle` and adds a `brand` attribute. Provide an example of creating a `Car` object"
   ]
  },
  {
   "cell_type": "code",
   "execution_count": 70,
   "id": "16d20218",
   "metadata": {},
   "outputs": [],
   "source": [
    "class Vehicle:\n",
    "    def __init__(self,color,speed):\n",
    "        self.color=color\n",
    "        self.speed=speed\n",
    "        \n",
    "class Car(Vehicle):\n",
    "    def __init__(self,color,speed,brand):\n",
    "        self.brand=brand\n",
    "        super().__init__(color,speed)\n",
    "        \n",
    "        \n",
    "    def showdata(self):\n",
    "        print(f'the brand of the car is {self.brand} and color is {self.color} and speed is {self.speed} kmph')"
   ]
  },
  {
   "cell_type": "code",
   "execution_count": 71,
   "id": "24791576",
   "metadata": {},
   "outputs": [],
   "source": [
    "c=Car('Black',180,'TATA Harrier')"
   ]
  },
  {
   "cell_type": "code",
   "execution_count": 72,
   "id": "5481a484",
   "metadata": {},
   "outputs": [
    {
     "name": "stdout",
     "output_type": "stream",
     "text": [
      "the brand of the car is TATA Harrier and color is Black and speed is 180 kmph\n"
     ]
    }
   ],
   "source": [
    "c.showdata()"
   ]
  },
  {
   "cell_type": "markdown",
   "id": "efdc99ee",
   "metadata": {},
   "source": [
    "#### 4. Explain the concept of method overriding in inheritance. Provide a practical example."
   ]
  },
  {
   "cell_type": "raw",
   "id": "7d170b03",
   "metadata": {},
   "source": [
    "method overriding : \n",
    "1.It is one of the technique to achieve the polymorhpisom.\n",
    "2.In method overriding, one function overrides the another function.\n",
    "3.It is the ability in which the method which is already defined into the parent class can be modified by the child class.\n",
    "4. the methods have same name,same attributes even the same return type.\n"
   ]
  },
  {
   "cell_type": "code",
   "execution_count": 80,
   "id": "e75e1795",
   "metadata": {},
   "outputs": [],
   "source": [
    "class parent:\n",
    "    def __init__(self,a):\n",
    "        self.a=a\n",
    "        \n",
    "    def show(self):\n",
    "        return f'value is {self.a} and it is  from parent class'\n",
    "    \n",
    "class child(parent):\n",
    "    def show(self):\n",
    "        return f'value is {self.a} and it is  from child class'\n",
    "        "
   ]
  },
  {
   "cell_type": "code",
   "execution_count": 81,
   "id": "5904d4d0",
   "metadata": {},
   "outputs": [],
   "source": [
    "c=child(2)"
   ]
  },
  {
   "cell_type": "code",
   "execution_count": 82,
   "id": "143f2ad5",
   "metadata": {},
   "outputs": [
    {
     "data": {
      "text/plain": [
       "'value is 2 and it is  from child class'"
      ]
     },
     "execution_count": 82,
     "metadata": {},
     "output_type": "execute_result"
    }
   ],
   "source": [
    "c.show()"
   ]
  },
  {
   "cell_type": "code",
   "execution_count": 83,
   "id": "6cce16f9",
   "metadata": {},
   "outputs": [],
   "source": [
    "## if we have to call the method from only parent class then use super()"
   ]
  },
  {
   "cell_type": "code",
   "execution_count": 93,
   "id": "c92cd3fd",
   "metadata": {},
   "outputs": [],
   "source": [
    "class parent:\n",
    "    def __init__(self,a):\n",
    "        self.a=a\n",
    "        \n",
    "    def show(self):\n",
    "        return f'value is {self.a} and it is  from parent class'\n",
    "    \n",
    "class child(parent):\n",
    "    def __init__(self,a,b):\n",
    "        self.b=b\n",
    "        super().__init__(a)\n",
    "        \n",
    "        \n",
    "    def show(self):\n",
    "        super().show()\n",
    "        return f'value is {self.a}  and it is  from parent class and {self.b} is from child class'\n",
    "        "
   ]
  },
  {
   "cell_type": "code",
   "execution_count": 94,
   "id": "fb2d1d3e",
   "metadata": {},
   "outputs": [],
   "source": [
    "c=child(2,3)"
   ]
  },
  {
   "cell_type": "code",
   "execution_count": 95,
   "id": "011f07c5",
   "metadata": {},
   "outputs": [
    {
     "data": {
      "text/plain": [
       "'value is 2  and it is  from parent class and 3 is from child class'"
      ]
     },
     "execution_count": 95,
     "metadata": {},
     "output_type": "execute_result"
    }
   ],
   "source": [
    "c.show()"
   ]
  },
  {
   "cell_type": "markdown",
   "id": "64cf37e4",
   "metadata": {},
   "source": [
    "#### 5. How can you access the methods and attributes of a parent class from a child class in Python? Give an example."
   ]
  },
  {
   "cell_type": "code",
   "execution_count": 96,
   "id": "216e23e6",
   "metadata": {},
   "outputs": [],
   "source": [
    "class parent:\n",
    "    def __init__(self,sname,root):\n",
    "        self.sname=sname\n",
    "        self.root=root\n",
    "        \n",
    "class Child(parent):\n",
    "    def __init__(self,fname,sname,root,age):\n",
    "        parent.__init__(self,sname,root)\n",
    "        self.fname=fname\n",
    "        self.age=age\n",
    "        \n",
    "    def showdata(self):\n",
    "        return self.fname,self.sname,self.root,self.age"
   ]
  },
  {
   "cell_type": "code",
   "execution_count": 97,
   "id": "6723d662",
   "metadata": {},
   "outputs": [],
   "source": [
    "c=Child('vaishnavi','ghadge','India',23)"
   ]
  },
  {
   "cell_type": "code",
   "execution_count": 98,
   "id": "565ee24b",
   "metadata": {},
   "outputs": [
    {
     "data": {
      "text/plain": [
       "('vaishnavi', 'ghadge', 'India', 23)"
      ]
     },
     "execution_count": 98,
     "metadata": {},
     "output_type": "execute_result"
    }
   ],
   "source": [
    "c.showdata()"
   ]
  },
  {
   "cell_type": "markdown",
   "id": "de822f83",
   "metadata": {},
   "source": [
    "#### 6. Discuss the use of the `super()` function in Python inheritance. When and why is it used? Provide an example"
   ]
  },
  {
   "cell_type": "raw",
   "id": "afab3dd6",
   "metadata": {},
   "source": [
    "super():\n",
    "\n",
    "1. super() is a inbuilt method in python, which is used to inherit the methods and attributes from parent class to the child class.\n",
    "2. It enables the developer to extend the properties from parent class to child class.\n",
    "3. super().functionname(attribute names) is the syntax for the super method in python.\n",
    "4. Using super() you can access both constrcutor and class methods from parent class\n",
    "5. Below is the same example that i did in above cell. instead of calling __init__ method using parent name , i am calling it using super() "
   ]
  },
  {
   "cell_type": "code",
   "execution_count": 99,
   "id": "fe664f0d",
   "metadata": {},
   "outputs": [],
   "source": [
    "class parent:\n",
    "    def __init__(self,sname,root):\n",
    "        self.sname=sname\n",
    "        self.root=root\n",
    "        \n",
    "class Child(parent):\n",
    "    def __init__(self,fname,sname,root,age):\n",
    "        super().__init__(sname,root)\n",
    "        self.fname=fname\n",
    "        self.age=age\n",
    "        \n",
    "    def showdata(self):\n",
    "        return self.fname,self.sname,self.root,self.age"
   ]
  },
  {
   "cell_type": "code",
   "execution_count": 102,
   "id": "b201e2dd",
   "metadata": {},
   "outputs": [],
   "source": [
    "c=Child('shreya','ghadge','indian',24)"
   ]
  },
  {
   "cell_type": "code",
   "execution_count": 103,
   "id": "77c40209",
   "metadata": {},
   "outputs": [
    {
     "data": {
      "text/plain": [
       "('shreya', 'ghadge', 'indian', 24)"
      ]
     },
     "execution_count": 103,
     "metadata": {},
     "output_type": "execute_result"
    }
   ],
   "source": [
    "c.showdata()"
   ]
  },
  {
   "cell_type": "markdown",
   "id": "ac7f7577",
   "metadata": {},
   "source": [
    "#### 7. Create a Python class called `Animal` with a method `speak()`. Then, create child classes `Dog` and `Cat` that inherit from `Animal` and override the `speak()` method. Provide an example of using these classes."
   ]
  },
  {
   "cell_type": "code",
   "execution_count": 129,
   "id": "34c1173e",
   "metadata": {},
   "outputs": [],
   "source": [
    "class Animal:\n",
    "    def speak(self):\n",
    "        print(\"hello aspiring data scintist!!!!!\")\n",
    "        \n",
    "class Dog(Animal):\n",
    "    def speak(self):\n",
    "        print(\"hi am a dog, wooof woof!!\")\n",
    "        \n",
    "class Cat(Animal):\n",
    "    def speak(self):\n",
    "        print(\"Hello I am cat, muwww, muewww\")\n",
    "        \n",
    "class Human(Animal):\n",
    "    def speak(self):\n",
    "        print(\"hello humans\")\n",
    "        super().speak()"
   ]
  },
  {
   "cell_type": "code",
   "execution_count": 130,
   "id": "5d443bae",
   "metadata": {},
   "outputs": [],
   "source": [
    "c=Cat()"
   ]
  },
  {
   "cell_type": "code",
   "execution_count": 131,
   "id": "a34c9bce",
   "metadata": {},
   "outputs": [
    {
     "name": "stdout",
     "output_type": "stream",
     "text": [
      "Hello I am cat, muwww, muewww\n"
     ]
    }
   ],
   "source": [
    "c.speak()"
   ]
  },
  {
   "cell_type": "code",
   "execution_count": 132,
   "id": "61ca3a43",
   "metadata": {},
   "outputs": [],
   "source": [
    "a=Animal()"
   ]
  },
  {
   "cell_type": "code",
   "execution_count": 133,
   "id": "bf403a87",
   "metadata": {},
   "outputs": [
    {
     "name": "stdout",
     "output_type": "stream",
     "text": [
      "hello aspiring data scintist!!!!!\n"
     ]
    }
   ],
   "source": [
    "a.speak()"
   ]
  },
  {
   "cell_type": "code",
   "execution_count": 134,
   "id": "ea7e680b",
   "metadata": {},
   "outputs": [],
   "source": [
    "d=Dog()"
   ]
  },
  {
   "cell_type": "code",
   "execution_count": 135,
   "id": "395d55d4",
   "metadata": {},
   "outputs": [
    {
     "name": "stdout",
     "output_type": "stream",
     "text": [
      "hi am a dog, wooof woof!!\n"
     ]
    }
   ],
   "source": [
    "d.speak()"
   ]
  },
  {
   "cell_type": "code",
   "execution_count": 136,
   "id": "2c436a22",
   "metadata": {},
   "outputs": [],
   "source": [
    "h=Human()"
   ]
  },
  {
   "cell_type": "code",
   "execution_count": 137,
   "id": "2576d15d",
   "metadata": {},
   "outputs": [
    {
     "name": "stdout",
     "output_type": "stream",
     "text": [
      "hello humans\n",
      "hello aspiring data scintist!!!!!\n"
     ]
    }
   ],
   "source": [
    "h.speak()"
   ]
  },
  {
   "cell_type": "markdown",
   "id": "c9bda245",
   "metadata": {},
   "source": [
    "#### 8. Explain the role of the `isinstance()` function in Python and how it relates to inheritance."
   ]
  },
  {
   "cell_type": "raw",
   "id": "dfdbb46f",
   "metadata": {},
   "source": [
    "isinstance(object,class)-----> returns boolean result\n",
    "\n",
    "isinstance(object,class)\n",
    "1.this method is used to check if perticular instance is the instance of given parent class or not. \n",
    "2.it returns True if given object is of given class othwerwise returns False.\n",
    "3.Below is the example which show cases the use of isinstance() method in python\n",
    "\n"
   ]
  },
  {
   "cell_type": "code",
   "execution_count": 175,
   "id": "533f1383",
   "metadata": {},
   "outputs": [],
   "source": [
    "class Cat:\n",
    "    def speak(self):\n",
    "        print(\"Hello I am cat, muwww, muewww\")\n",
    "        \n"
   ]
  },
  {
   "cell_type": "code",
   "execution_count": 176,
   "id": "de6204e5",
   "metadata": {},
   "outputs": [],
   "source": [
    "c=Cat()"
   ]
  },
  {
   "cell_type": "code",
   "execution_count": 177,
   "id": "57f03dd6",
   "metadata": {},
   "outputs": [
    {
     "data": {
      "text/plain": [
       "True"
      ]
     },
     "execution_count": 177,
     "metadata": {},
     "output_type": "execute_result"
    }
   ],
   "source": [
    "isinstance(c,Cat)"
   ]
  },
  {
   "cell_type": "markdown",
   "id": "5f5b63cd",
   "metadata": {},
   "source": [
    "#### 9. What is the purpose of the `issubclass()` function in Python? Provide an example."
   ]
  },
  {
   "cell_type": "raw",
   "id": "a08eca18",
   "metadata": {},
   "source": [
    "issubclass(cls,class)----> returns true if given class is the subclass of another class\n"
   ]
  },
  {
   "cell_type": "code",
   "execution_count": 178,
   "id": "dface14e",
   "metadata": {},
   "outputs": [],
   "source": [
    "## given the example to show the use of is subclass\n",
    "class Animal:\n",
    "    def speak(self):\n",
    "        print(\"hello aspiring data scintist!!!!!\")\n",
    "        \n",
    "class Dog(Animal):\n",
    "    def speak(self):\n",
    "        print(\"hi am a dog, wooof woof!!\")"
   ]
  },
  {
   "cell_type": "code",
   "execution_count": 180,
   "id": "2e632d62",
   "metadata": {},
   "outputs": [
    {
     "data": {
      "text/plain": [
       "True"
      ]
     },
     "execution_count": 180,
     "metadata": {},
     "output_type": "execute_result"
    }
   ],
   "source": [
    "d=Dog()\n",
    "issubclass(Dog,Animal)"
   ]
  },
  {
   "cell_type": "code",
   "execution_count": 182,
   "id": "4c7b5cce",
   "metadata": {},
   "outputs": [
    {
     "name": "stdout",
     "output_type": "stream",
     "text": [
      "Help on Dog in module __main__ object:\n",
      "\n",
      "class Dog(Animal)\n",
      " |  Method resolution order:\n",
      " |      Dog\n",
      " |      Animal\n",
      " |      builtins.object\n",
      " |  \n",
      " |  Methods defined here:\n",
      " |  \n",
      " |  speak(self)\n",
      " |  \n",
      " |  ----------------------------------------------------------------------\n",
      " |  Data descriptors inherited from Animal:\n",
      " |  \n",
      " |  __dict__\n",
      " |      dictionary for instance variables (if defined)\n",
      " |  \n",
      " |  __weakref__\n",
      " |      list of weak references to the object (if defined)\n",
      "\n"
     ]
    }
   ],
   "source": [
    "help(d)"
   ]
  },
  {
   "cell_type": "markdown",
   "id": "5a2238f2",
   "metadata": {},
   "source": [
    "#### 10. Discuss the concept of constructor inheritance in Python. How are constructors inherited in child classes?"
   ]
  },
  {
   "cell_type": "raw",
   "id": "b6d1b153",
   "metadata": {},
   "source": [
    "constructor inheritance:\n",
    "\n",
    "1. Inheriting the constructor from parent class to the child class is done by either using super() method or using parent class class itself.\n",
    "2. constructor is always invoked whenever we create the object of the class.\n",
    "3. if we need all attributes from parent while calling the child class instance, in that situation do not rewrite the code again. Just inherit the constructor."
   ]
  },
  {
   "cell_type": "code",
   "execution_count": 158,
   "id": "5c453d08",
   "metadata": {},
   "outputs": [],
   "source": [
    "## this is example to inherit the parent class constrcutor to the child class\n",
    "\n",
    "class parent:\n",
    "    def __init__(self,name):\n",
    "        self.name=name\n",
    "        \n",
    "class child(parent):\n",
    "    def __init__(self,name):\n",
    "        super().__init__(name)\n",
    "    def show(self):\n",
    "        print(self.name)\n",
    "    "
   ]
  },
  {
   "cell_type": "code",
   "execution_count": 159,
   "id": "fd1571db",
   "metadata": {},
   "outputs": [],
   "source": [
    "c=child('shreya')"
   ]
  },
  {
   "cell_type": "code",
   "execution_count": 160,
   "id": "8adfbe5e",
   "metadata": {},
   "outputs": [
    {
     "name": "stdout",
     "output_type": "stream",
     "text": [
      "shreya\n"
     ]
    }
   ],
   "source": [
    "c.show()"
   ]
  },
  {
   "cell_type": "markdown",
   "id": "66a5d0d0",
   "metadata": {},
   "source": [
    "#### 11. Create a Python class called `Shape` with a method `area()` that calculates the area of a shape. Then, create child classes `Circle` and `Rectangle` that inherit from `Shape` and implement the `area()` method accordingly. Provide an example."
   ]
  },
  {
   "cell_type": "code",
   "execution_count": 170,
   "id": "7b61db5a",
   "metadata": {},
   "outputs": [],
   "source": [
    "class Shape:\n",
    "    def area(self):\n",
    "        print(\"this method is used to calclulate the area of the shape\")\n",
    "        \n",
    "class Circle(Shape):\n",
    "    def __init__(self,radius):\n",
    "        self.radius=radius\n",
    "        \n",
    "    def area(self):\n",
    "        super().area()\n",
    "        ar=3.14*self.radius*self.radius\n",
    "        print(\"area of the circle is {} sq.unit\".format(ar))\n",
    "        \n",
    "class Rectangle(Shape):\n",
    "    def __init__(self,length,breadth):\n",
    "        self.length=length\n",
    "        self.breadth=breadth\n",
    "    \n",
    "    def area(self):\n",
    "        super().area()\n",
    "        ar=self.length*self.breadth\n",
    "        print(\"area of the rectangle is {} sq.unit\".format(ar))\n",
    "\n",
    "        \n",
    "    \n",
    "    "
   ]
  },
  {
   "cell_type": "code",
   "execution_count": 171,
   "id": "759a79f0",
   "metadata": {},
   "outputs": [],
   "source": [
    "r=Rectangle(1,2)"
   ]
  },
  {
   "cell_type": "code",
   "execution_count": 172,
   "id": "4fd2412a",
   "metadata": {},
   "outputs": [
    {
     "name": "stdout",
     "output_type": "stream",
     "text": [
      "this method is used to calclulate the area of the shape\n",
      "area of the rectangle is 2 sq.unit\n"
     ]
    }
   ],
   "source": [
    "r.area()"
   ]
  },
  {
   "cell_type": "code",
   "execution_count": 173,
   "id": "d3a71a9f",
   "metadata": {},
   "outputs": [],
   "source": [
    "r=Circle(2)"
   ]
  },
  {
   "cell_type": "code",
   "execution_count": 174,
   "id": "fa5c0525",
   "metadata": {},
   "outputs": [
    {
     "name": "stdout",
     "output_type": "stream",
     "text": [
      "this method is used to calclulate the area of the shape\n",
      "area of the circle is 12.56 sq.unit\n"
     ]
    }
   ],
   "source": [
    "r.area()"
   ]
  },
  {
   "cell_type": "markdown",
   "id": "fa4972d6",
   "metadata": {},
   "source": [
    "#### 12. Explain the use of abstract base classes (ABCs) in Python and how they relate to inheritance. Provide an example using the `abc` module"
   ]
  },
  {
   "cell_type": "code",
   "execution_count": 30,
   "id": "040ddc2d",
   "metadata": {},
   "outputs": [],
   "source": [
    "from abc import ABC,abstractmethod\n",
    "class Shape(ABC):\n",
    "    @abstractmethod\n",
    "    def calculate_area(self):\n",
    "        pass\n",
    "    \n",
    "class Circle(Shape):\n",
    "    def __init__(self,Radius):\n",
    "        self.Radius=Radius\n",
    "        \n",
    "    def calculate_area(self):\n",
    "        return 3.14*self.Radius*self.Radius\n",
    "    \n",
    "    \n",
    "class Rectangle(Shape):\n",
    "    def __init__(self,length,breadth):\n",
    "        self.length=length\n",
    "        self.breadth=breadth\n",
    "        \n",
    "    def calculate_area(self):\n",
    "        return 0.5*self.length*self.breadth\n",
    "    "
   ]
  },
  {
   "cell_type": "markdown",
   "id": "a7e4094d",
   "metadata": {},
   "source": [
    "#### 14. Create a Python class called `Employee` with attributes `name` and `salary`. Then, create a child class `Manager` that inherits from `Employee` and adds an attribute `department`. Provide an example."
   ]
  },
  {
   "cell_type": "code",
   "execution_count": 184,
   "id": "d216d860",
   "metadata": {},
   "outputs": [],
   "source": [
    "class Employee:\n",
    "    def __init__(self,name,salary):\n",
    "        self.name=name\n",
    "        self.salary=salary\n",
    "        \n",
    "    \n",
    "class Manager(Employee):\n",
    "    def __init__(self,name,salary,department):\n",
    "        super().__init__(name,salary)\n",
    "        self.department=department\n",
    "        \n",
    "    def showinfo(self):\n",
    "        return self.name,self.salary,self.department"
   ]
  },
  {
   "cell_type": "code",
   "execution_count": 185,
   "id": "ca4aea8c",
   "metadata": {},
   "outputs": [],
   "source": [
    "m=Manager(\"shreya\",23450,'automobile')"
   ]
  },
  {
   "cell_type": "code",
   "execution_count": 186,
   "id": "c963d9de",
   "metadata": {},
   "outputs": [
    {
     "data": {
      "text/plain": [
       "('shreya', 23450, 'automobile')"
      ]
     },
     "execution_count": 186,
     "metadata": {},
     "output_type": "execute_result"
    }
   ],
   "source": [
    "m.showinfo()"
   ]
  },
  {
   "cell_type": "markdown",
   "id": "092cfe1c",
   "metadata": {},
   "source": [
    "#### 15. Discuss the concept of method overloading in Python inheritance. How does it differ from method overriding?"
   ]
  },
  {
   "cell_type": "raw",
   "id": "4ef5fac9",
   "metadata": {},
   "source": [
    "method overloading :\n",
    "1. Method Overloading can be thought as many methods with same name accepting different number of arguments within SAME class.\n",
    "2. By default python  does not support method overloading.\n",
    "3. in method overloading, latest method is always considered."
   ]
  },
  {
   "cell_type": "code",
   "execution_count": 193,
   "id": "b7187de6",
   "metadata": {},
   "outputs": [],
   "source": [
    "#3.below is one example which will give method overloading in one class \n",
    "class A:\n",
    "    def add(self,a,b):\n",
    "        self.a=a\n",
    "        self.b=b\n",
    "        return self.a+self.b\n",
    "    \n",
    "    def add(self,a,b,c=0):\n",
    "        self.a=a\n",
    "        self.b=b\n",
    "        self.c=c\n",
    "        return self.a+self.b+self.c"
   ]
  },
  {
   "cell_type": "code",
   "execution_count": 194,
   "id": "fe06dcc5",
   "metadata": {},
   "outputs": [],
   "source": [
    "a=A()"
   ]
  },
  {
   "cell_type": "code",
   "execution_count": 195,
   "id": "d814b206",
   "metadata": {},
   "outputs": [
    {
     "data": {
      "text/plain": [
       "5"
      ]
     },
     "execution_count": 195,
     "metadata": {},
     "output_type": "execute_result"
    }
   ],
   "source": [
    "a.add(2,3)"
   ]
  },
  {
   "cell_type": "code",
   "execution_count": 196,
   "id": "8cccf3cc",
   "metadata": {},
   "outputs": [],
   "source": [
    "# method overloading in differnt class \n",
    "class A:\n",
    "    def add(self,a):\n",
    "        self.a=a\n",
    "        return self.a\n",
    "    \n",
    "class B(A):\n",
    "    def add(self,a,b):\n",
    "        self.a=a\n",
    "        self.b=b\n",
    "        return self.a+self.b"
   ]
  },
  {
   "cell_type": "code",
   "execution_count": 197,
   "id": "58ecc6f3",
   "metadata": {},
   "outputs": [],
   "source": [
    "b=B()"
   ]
  },
  {
   "cell_type": "code",
   "execution_count": 198,
   "id": "53ec2a36",
   "metadata": {},
   "outputs": [
    {
     "data": {
      "text/plain": [
       "5"
      ]
     },
     "execution_count": 198,
     "metadata": {},
     "output_type": "execute_result"
    }
   ],
   "source": [
    "b.add(2,3)"
   ]
  },
  {
   "cell_type": "raw",
   "id": "d8842d8d",
   "metadata": {},
   "source": [
    "method overloading is differnt from method overriding because\n",
    "\n",
    "                                          method overloading \n",
    "1.In the method overloading, methods or functions must have the same name and different signatures.\n",
    "2.In the method overloading, inheritance may or may not be required.\n",
    "3.Method overloading is performed between methods within the class\n",
    "\n",
    "\n",
    "\n",
    "                                          method overriding \n",
    "1.method overriding, methods or functions must have the same name and same signatures.\n",
    "2.method overriding is a example of run time polymorphism.\n",
    "3.in method overriding, inheritance always required.\n",
    "\n"
   ]
  },
  {
   "cell_type": "markdown",
   "id": "4d0d83a0",
   "metadata": {},
   "source": [
    "#### 16. Explain the purpose of the `__init__()` method in Python inheritance and how it is utilized in child classes."
   ]
  },
  {
   "cell_type": "raw",
   "id": "e8cf02b2",
   "metadata": {},
   "source": [
    "__init__ method \n",
    "1. It is used to instantiate the object. \n",
    "2. __init__ method takes 'self' as the first argument.\n",
    "3. __init__ can be inherited in child class using super() keyword. or by writing the parent class name itself.\n",
    "4. Below example shows the __init__ method i.e being inherited from parent class to child class"
   ]
  },
  {
   "cell_type": "code",
   "execution_count": 4,
   "id": "b58f1560",
   "metadata": {},
   "outputs": [],
   "source": [
    "class Parent:\n",
    "    def __init__(self,name,age):\n",
    "        self.name=name\n",
    "        self.age=age\n",
    "        \n",
    "class child(Parent):\n",
    "    def __init__(self,name,age,id1,location):\n",
    "        super().__init__(name,age)\n",
    "        self.id1=id1\n",
    "        self.location=location\n",
    "        \n",
    "    def show(self):\n",
    "        print(self.name,self.age,self.id1,self.location)"
   ]
  },
  {
   "cell_type": "code",
   "execution_count": 6,
   "id": "89164f57",
   "metadata": {},
   "outputs": [
    {
     "name": "stdout",
     "output_type": "stream",
     "text": [
      "shreya 24 18 satara\n"
     ]
    }
   ],
   "source": [
    "c=child('shreya',24,18,'satara')\n",
    "c.show()"
   ]
  },
  {
   "cell_type": "markdown",
   "id": "008de358",
   "metadata": {},
   "source": [
    "#### 17. Create a Python class called `Bird` with a method `fly()`. Then, create child classes `Eagle` and `Sparrow` that inherit from `Bird` and implement the `fly()` method differently. Provide an example of using these classes."
   ]
  },
  {
   "cell_type": "code",
   "execution_count": 199,
   "id": "288f01e7",
   "metadata": {},
   "outputs": [],
   "source": [
    "class Bird:\n",
    "    def fly(self):\n",
    "        print(\"i can fly dude!!!\")\n",
    "\n",
    "class Eagle(Bird):\n",
    "    def fly(self):\n",
    "        print(\"I am eagle!!! I can also Fly!!!\")\n",
    "        \n",
    "class Sparrow(Bird):\n",
    "    def fly(self):\n",
    "        print(\"I am sparrow!!! I am lil but i can also fly!!!\")\n",
    "    "
   ]
  },
  {
   "cell_type": "code",
   "execution_count": 201,
   "id": "59d1d400",
   "metadata": {},
   "outputs": [],
   "source": [
    "b=Bird()"
   ]
  },
  {
   "cell_type": "code",
   "execution_count": 202,
   "id": "ed72b6b0",
   "metadata": {},
   "outputs": [
    {
     "name": "stdout",
     "output_type": "stream",
     "text": [
      "i can fly dude!!!\n"
     ]
    }
   ],
   "source": [
    "b.fly()"
   ]
  },
  {
   "cell_type": "code",
   "execution_count": 203,
   "id": "6cfcdb7a",
   "metadata": {},
   "outputs": [],
   "source": [
    "e=Eagle()"
   ]
  },
  {
   "cell_type": "code",
   "execution_count": 204,
   "id": "623f38c7",
   "metadata": {},
   "outputs": [
    {
     "name": "stdout",
     "output_type": "stream",
     "text": [
      "I am eagle!!! I can also Fly!!!\n"
     ]
    }
   ],
   "source": [
    "e.fly()"
   ]
  },
  {
   "cell_type": "code",
   "execution_count": 205,
   "id": "5346668a",
   "metadata": {},
   "outputs": [],
   "source": [
    "s=Sparrow()"
   ]
  },
  {
   "cell_type": "code",
   "execution_count": 206,
   "id": "c79fb661",
   "metadata": {},
   "outputs": [
    {
     "name": "stdout",
     "output_type": "stream",
     "text": [
      "I am sparrow!!! I am lil but i can also fly!!!\n"
     ]
    }
   ],
   "source": [
    "s.fly()"
   ]
  },
  {
   "cell_type": "markdown",
   "id": "30925c41",
   "metadata": {},
   "source": [
    "#### 18. What is the \"diamond problem\" in multiple inheritance, and how does Python address it?"
   ]
  },
  {
   "cell_type": "raw",
   "id": "39ff9067",
   "metadata": {},
   "source": [
    "## diamond problem :\n",
    "Diamond problem basically occurs in the multiple inheritance case.\n",
    "2. when a single child inherits all the properties from one than one parent class.\n",
    "3. In diamond problem we meet the ambiguity issue when the method is overridden from one class to another class."
   ]
  },
  {
   "cell_type": "markdown",
   "id": "8147de8a",
   "metadata": {},
   "source": [
    "In the below code, i inherited both A and B into the C . I called show method from A class "
   ]
  },
  {
   "cell_type": "code",
   "execution_count": 10,
   "id": "8823d26e",
   "metadata": {},
   "outputs": [],
   "source": [
    "\n",
    "\n",
    "class A:\n",
    "    def show(self):\n",
    "        print(\"class A\")\n",
    "        \n",
    "class B:\n",
    "    def show(self):\n",
    "        print(\"class B\")\n",
    "        \n",
    "class C(A,B):\n",
    "    pass"
   ]
  },
  {
   "cell_type": "code",
   "execution_count": 11,
   "id": "42a12376",
   "metadata": {},
   "outputs": [],
   "source": [
    "c=C()"
   ]
  },
  {
   "cell_type": "code",
   "execution_count": 12,
   "id": "730d5200",
   "metadata": {},
   "outputs": [
    {
     "name": "stdout",
     "output_type": "stream",
     "text": [
      "class A\n"
     ]
    }
   ],
   "source": [
    "c.show()"
   ]
  },
  {
   "cell_type": "markdown",
   "id": "3b905926",
   "metadata": {},
   "source": [
    "In the below code, I inherited A and B into C class and A class does not have show() method ."
   ]
  },
  {
   "cell_type": "code",
   "execution_count": 13,
   "id": "5098e36a",
   "metadata": {},
   "outputs": [],
   "source": [
    "class A:\n",
    "    pass\n",
    "        \n",
    "class B:\n",
    "    def show(self):\n",
    "        print(\"class B\")\n",
    "        \n",
    "class C(A,B):\n",
    "    pass"
   ]
  },
  {
   "cell_type": "code",
   "execution_count": 14,
   "id": "67c6a0a9",
   "metadata": {},
   "outputs": [],
   "source": [
    "c=C()"
   ]
  },
  {
   "cell_type": "code",
   "execution_count": 15,
   "id": "8922b9e9",
   "metadata": {},
   "outputs": [
    {
     "name": "stdout",
     "output_type": "stream",
     "text": [
      "class B\n"
     ]
    }
   ],
   "source": [
    "c.show()"
   ]
  },
  {
   "cell_type": "code",
   "execution_count": 16,
   "id": "6499bdbb",
   "metadata": {},
   "outputs": [
    {
     "name": "stdout",
     "output_type": "stream",
     "text": [
      "In Class4\n",
      "In Class2\n",
      "In Class1\n",
      "In Class3\n",
      "In Class1\n"
     ]
    }
   ],
   "source": [
    "class Class1:\n",
    "    def m(self):\n",
    "        print(\"In Class1\") \n",
    "\n",
    "class Class2(Class1):\n",
    "    def m(self):\n",
    "        print(\"In Class2\")\n",
    "        Class1.m(self)\n",
    "\n",
    "class Class3(Class1):\n",
    "    def m(self):\n",
    "        print(\"In Class3\")\n",
    "        Class1.m(self) \n",
    "\n",
    "class Class4(Class2, Class3):\n",
    "    def m(self):\n",
    "        print(\"In Class4\") \n",
    "        Class2.m(self)\n",
    "        Class3.m(self)\n",
    "\n",
    "obj = Class4()\n",
    "obj.m()\n"
   ]
  },
  {
   "cell_type": "markdown",
   "id": "f2ed0416",
   "metadata": {},
   "source": [
    "Above example have the ambiguity problem as class 1 method is called twice. Hence we are using the super() method an mro() to avoid this issue"
   ]
  },
  {
   "cell_type": "code",
   "execution_count": 24,
   "id": "8ba0f78c",
   "metadata": {},
   "outputs": [],
   "source": [
    "# Python program to demonstrate\n",
    "# super()\n",
    "\n",
    "class Class1:\n",
    "    def m(self):\n",
    "        print(\"In Class1\")\n",
    "\n",
    "class Class2(Class1):\n",
    "    def m(self):\n",
    "        print(\"In Class2\")\n",
    "        super().m()\n",
    "\n",
    "class Class3(Class1):\n",
    "    def m(self):\n",
    "        print(\"In Class3\")\n",
    "        super().m()\n",
    "\n",
    "class Class4(Class3, Class2):\n",
    "    def m(self):\n",
    "        print(\"In Class4\") \n",
    "        super().m()\n",
    "\n",
    "\n"
   ]
  },
  {
   "cell_type": "code",
   "execution_count": 25,
   "id": "4d80035e",
   "metadata": {},
   "outputs": [],
   "source": [
    "o=Class4()"
   ]
  },
  {
   "cell_type": "code",
   "execution_count": 26,
   "id": "36b5d300",
   "metadata": {},
   "outputs": [
    {
     "name": "stdout",
     "output_type": "stream",
     "text": [
      "In Class4\n",
      "In Class3\n",
      "In Class2\n",
      "In Class1\n"
     ]
    }
   ],
   "source": [
    "o.m()"
   ]
  },
  {
   "cell_type": "code",
   "execution_count": 27,
   "id": "ef8c6ec5",
   "metadata": {},
   "outputs": [
    {
     "name": "stdout",
     "output_type": "stream",
     "text": [
      "Help on Class4 in module __main__ object:\n",
      "\n",
      "class Class4(Class3, Class2)\n",
      " |  Method resolution order:\n",
      " |      Class4\n",
      " |      Class3\n",
      " |      Class2\n",
      " |      Class1\n",
      " |      builtins.object\n",
      " |  \n",
      " |  Methods defined here:\n",
      " |  \n",
      " |  m(self)\n",
      " |  \n",
      " |  ----------------------------------------------------------------------\n",
      " |  Data descriptors inherited from Class1:\n",
      " |  \n",
      " |  __dict__\n",
      " |      dictionary for instance variables (if defined)\n",
      " |  \n",
      " |  __weakref__\n",
      " |      list of weak references to the object (if defined)\n",
      "\n"
     ]
    }
   ],
   "source": [
    "help(o)"
   ]
  },
  {
   "cell_type": "code",
   "execution_count": 23,
   "id": "11b6a174",
   "metadata": {},
   "outputs": [
    {
     "data": {
      "text/plain": [
       "[__main__.Class4, __main__.Class2, __main__.Class3, __main__.Class1, object]"
      ]
     },
     "execution_count": 23,
     "metadata": {},
     "output_type": "execute_result"
    }
   ],
   "source": [
    "Class4.mro()\n",
    "## mro() return the method resolution order to solve the ambiguity issue."
   ]
  },
  {
   "cell_type": "markdown",
   "id": "fd07bb9f",
   "metadata": {},
   "source": [
    "#### 19. Discuss the concept of \"is-a\" and \"has-a\" relationships in inheritance, and provide examples of each."
   ]
  },
  {
   "cell_type": "raw",
   "id": "91085b51",
   "metadata": {},
   "source": [
    "Is-A relationship: Whenever one class inherits another class, it is called an IS-A relationship. Has-A relationship: Whenever an instance of one class is used in another class, it is called HAS-A relationship"
   ]
  },
  {
   "cell_type": "markdown",
   "id": "8d2126e5",
   "metadata": {},
   "source": [
    "#### 20. Create a Python class hierarchy for a university system. Start with a base class `Person` and create childclasses `Student` and `Professor`, each with their own attributes and methods. Provide an example of using these classes in a university context."
   ]
  },
  {
   "cell_type": "code",
   "execution_count": 63,
   "id": "acf8a924",
   "metadata": {},
   "outputs": [],
   "source": [
    "class Person:\n",
    "    def __init__(self,name,age,gender):\n",
    "        self.name=name\n",
    "        self.age=age\n",
    "        self.gender=gender\n",
    "        \n",
    "    def introduce(self):\n",
    "        return f'name is {self.name} age is {self.age},and gender is {self.gender}'\n",
    "        \n",
    "class Student(Person):\n",
    "    def __init__(self,name,age,gender,id1,major):\n",
    "        super().__init__(name,age,gender)\n",
    "        self.id1=id1\n",
    "        self.major=major\n",
    "        self.courses=[]\n",
    "        \n",
    "    def enroll(self):\n",
    "        for i in range((3)):\n",
    "            data=input(\"enter the course to be enrolled\")\n",
    "            self.courses.append(data)\n",
    "        return f'courses enrolled are {self.courses}'\n",
    "        \n",
    "class Professor(Person):\n",
    "    def __init__(self,name,age,gender,emp_id,dept_name):\n",
    "        super().__init__(name,age,gender)\n",
    "        self.emp_id=emp_id\n",
    "        self.dept_name=dept_name\n",
    "        self.subjects=[]\n",
    "\n",
    "            \n",
    "    def subjects_taught(self,subject):\n",
    "        self.subjects.append(subject)\n",
    "        return self.subjects\n",
    "        \n",
    "    "
   ]
  },
  {
   "cell_type": "code",
   "execution_count": 64,
   "id": "ba341716",
   "metadata": {},
   "outputs": [],
   "source": [
    "s=Student('shreya',24,'F',18,'data science')"
   ]
  },
  {
   "cell_type": "code",
   "execution_count": 65,
   "id": "25a02834",
   "metadata": {},
   "outputs": [
    {
     "data": {
      "text/plain": [
       "'name is shreya age is 24,and gender is F'"
      ]
     },
     "execution_count": 65,
     "metadata": {},
     "output_type": "execute_result"
    }
   ],
   "source": [
    "s.introduce()"
   ]
  },
  {
   "cell_type": "code",
   "execution_count": 66,
   "id": "8ba1fca4",
   "metadata": {},
   "outputs": [],
   "source": [
    "p=Professor('sudhanshu kumar',30,'M',28,'Data science')"
   ]
  },
  {
   "cell_type": "code",
   "execution_count": 67,
   "id": "49dd1a3e",
   "metadata": {},
   "outputs": [
    {
     "data": {
      "text/plain": [
       "'name is sudhanshu kumar age is 30,and gender is M'"
      ]
     },
     "execution_count": 67,
     "metadata": {},
     "output_type": "execute_result"
    }
   ],
   "source": [
    "p.introduce()"
   ]
  },
  {
   "cell_type": "code",
   "execution_count": 68,
   "id": "ac3aec50",
   "metadata": {},
   "outputs": [
    {
     "name": "stdout",
     "output_type": "stream",
     "text": [
      "enter the course to be enrolledllm\n",
      "enter the course to be enrolleddl\n",
      "enter the course to be enrolledmlops\n"
     ]
    },
    {
     "data": {
      "text/plain": [
       "\"courses enrolled are ['llm', 'dl', 'mlops']\""
      ]
     },
     "execution_count": 68,
     "metadata": {},
     "output_type": "execute_result"
    }
   ],
   "source": [
    "s.enroll()"
   ]
  },
  {
   "cell_type": "code",
   "execution_count": 69,
   "id": "a22ad8c0",
   "metadata": {},
   "outputs": [
    {
     "data": {
      "text/plain": [
       "['Full Stack Data scinece masters course']"
      ]
     },
     "execution_count": 69,
     "metadata": {},
     "output_type": "execute_result"
    }
   ],
   "source": [
    "p.subjects_taught('Full Stack Data scinece masters course')"
   ]
  },
  {
   "cell_type": "code",
   "execution_count": 70,
   "id": "ef18a427",
   "metadata": {},
   "outputs": [
    {
     "data": {
      "text/plain": [
       "['Full Stack Data scinece masters course']"
      ]
     },
     "execution_count": 70,
     "metadata": {},
     "output_type": "execute_result"
    }
   ],
   "source": [
    "p.subjects"
   ]
  },
  {
   "cell_type": "markdown",
   "id": "e1500696",
   "metadata": {},
   "source": [
    "# Problem based on : Encapsulation"
   ]
  },
  {
   "cell_type": "markdown",
   "id": "bd7ffa3a",
   "metadata": {},
   "source": [
    "#### 1. Explain the concept of encapsulation in Python. What is its role in object-oriented programming?"
   ]
  },
  {
   "cell_type": "raw",
   "id": "a5543259",
   "metadata": {},
   "source": [
    "Encapsulation :\n",
    "1. Encapsulation is binding the methods and attributes into the single unit called as class.\n",
    "2. Encapsulation means hiding the data by showing only the essential features to the user.\n",
    "3. In other words the user is directly not allowed to change the methods or attributes in the function itself.\n",
    "4. The role of encapsulation in OOP is to bind the methods and attributes like capsules."
   ]
  },
  {
   "cell_type": "markdown",
   "id": "d78d550b",
   "metadata": {},
   "source": [
    "#### 2. Describe the key principles of encapsulation, including access control and data hiding."
   ]
  },
  {
   "cell_type": "raw",
   "id": "054595ba",
   "metadata": {},
   "source": [
    "# Key principles of encapsulation:\n",
    "\n",
    "1. Encapsulation is used to bind the methods and attributes into the single unit named class.\n",
    "2. In encapsulation ,the data or the information which is not really accessed by the user are going to be hidden.\n",
    "3. To achive the encapsulation in the class, there are 3 types of access modifiers which varies from public, private and protected.\n",
    "4. using those access modifiers we can achive the data hiding feature in the encapsulation.\n"
   ]
  },
  {
   "cell_type": "markdown",
   "id": "7c32718e",
   "metadata": {},
   "source": [
    "#### 3. How can you achieve encapsulation in Python classes? Provide an example."
   ]
  },
  {
   "cell_type": "raw",
   "id": "077a55f4",
   "metadata": {},
   "source": [
    "1.encapsulaiton in python class can be achived by  binding the methods and attributes into the sigle unit called class.\n",
    "2. Access modiers are used to achieve the encapsulation in the class."
   ]
  },
  {
   "cell_type": "code",
   "execution_count": 4,
   "id": "38bcbfff",
   "metadata": {},
   "outputs": [],
   "source": [
    "class Parent:\n",
    "    def __init__(self,name,age,salary):\n",
    "        self.name=name\n",
    "        self._age=age\n",
    "        self.__salary=salary\n",
    "        \n",
    "    def showdata(self):\n",
    "        return f'the name of person  is {self.name} and age of {self.name} is {self._age} and his/her salary is {self.__salary}'\n"
   ]
  },
  {
   "cell_type": "code",
   "execution_count": 9,
   "id": "1c31b627",
   "metadata": {},
   "outputs": [
    {
     "data": {
      "text/plain": [
       "'the name of person  is shreya and age of shreya is 23 and his/her salary is 23500'"
      ]
     },
     "execution_count": 9,
     "metadata": {},
     "output_type": "execute_result"
    }
   ],
   "source": [
    "p=Parent('shreya',23,23500)\n",
    "p.showdata()\n"
   ]
  },
  {
   "cell_type": "markdown",
   "id": "638eff96",
   "metadata": {},
   "source": [
    "#### 4. Discuss the difference between public, private, and protected access modifiers in Python."
   ]
  },
  {
   "cell_type": "raw",
   "id": "35f6123b",
   "metadata": {},
   "source": [
    "## public private and protected access modifiers:\n",
    "\n",
    "1. public :\n",
    "    when the methods and attributes can be direclty accessed by the object itself/ via classs name itself then it is called public varible.\n",
    "    We do not need to give any syntactical change to declare the public attribute.\n",
    "    It can be accesed outside the class also.\n",
    "    All the methods and attributes are public by default in python.\n",
    "    \n",
    "2. protected:\n",
    "    When the methods and attributes in the class are declared as protected and can be accessed by the derived class only.\n",
    "    Protected variables are declared by adding the single '_' underscore before the variable name.\n",
    "    protected variables are strongly bounded to the class.\n",
    "    \n",
    "3. private:\n",
    "    When the methods and attributes are accessed only within the class itself.\n",
    "    private variables are declared by adding the double underscore '__' before the variable name.\n",
    "    private variables are strictly and strongly bounded to the class.\n",
    "    "
   ]
  },
  {
   "cell_type": "markdown",
   "id": "d1b5fa77",
   "metadata": {},
   "source": [
    "#### 5. Create a Python class called `Person` with a private attribute `__name`. Provide methods to get and set the name attribute."
   ]
  },
  {
   "cell_type": "code",
   "execution_count": 14,
   "id": "a9a53a12",
   "metadata": {},
   "outputs": [],
   "source": [
    "class Person:\n",
    "        \n",
    "    def Setname(self,data):\n",
    "        self.__name=data\n",
    "        \n",
    "    def Getname(self):\n",
    "        return self.__name"
   ]
  },
  {
   "cell_type": "code",
   "execution_count": 15,
   "id": "f372f2c1",
   "metadata": {},
   "outputs": [],
   "source": [
    "p=Person()"
   ]
  },
  {
   "cell_type": "code",
   "execution_count": 16,
   "id": "ce5e6ac0",
   "metadata": {},
   "outputs": [],
   "source": [
    "p.Setname('shreya')"
   ]
  },
  {
   "cell_type": "code",
   "execution_count": 17,
   "id": "7f2de5ec",
   "metadata": {},
   "outputs": [
    {
     "data": {
      "text/plain": [
       "'shreya'"
      ]
     },
     "execution_count": 17,
     "metadata": {},
     "output_type": "execute_result"
    }
   ],
   "source": [
    "p.Getname()"
   ]
  },
  {
   "cell_type": "markdown",
   "id": "7b3d0463",
   "metadata": {},
   "source": [
    "#### 6. Explain the purpose of getter and setter methods in encapsulation. Provide examples."
   ]
  },
  {
   "cell_type": "code",
   "execution_count": null,
   "id": "b8e3693a",
   "metadata": {},
   "outputs": [],
   "source": [
    "class Employee:\n",
    "    def __init__(self):\n",
    "        self._age=0\n",
    "        \n",
    "    @age.setter\n",
    "    def age"
   ]
  },
  {
   "cell_type": "markdown",
   "id": "b25f44cc",
   "metadata": {},
   "source": [
    "#### 7. What is name mangling in Python, and how does it affect encapsulation?"
   ]
  },
  {
   "cell_type": "raw",
   "id": "5f21c8d1",
   "metadata": {},
   "source": [
    "name mangling :\n",
    "    It is the way in python , for making the variable name in the class more unique by adding the prefix in the name itself.\n",
    "    If you have decalred the variable starting with leading two underscores then at the time of interpretition, the classname has been added at the prefix of the variable name.\n",
    "    The name mangled variable can be accessed using the dir() function. But this is the bad practice to access the mangled name.\n",
    "    It's important to note that name mangling is not intended for security but for avoiding unintentional attribute name conflict\n",
    "      Insted of direct access of the mangled name, use the public method that will return those values.\n",
    "    \n",
    "Below  is the example that will show the name mangling concept."
   ]
  },
  {
   "cell_type": "code",
   "execution_count": 23,
   "id": "6c01d7c7",
   "metadata": {},
   "outputs": [],
   "source": [
    "class Item:\n",
    "    def __init__(self,age):\n",
    "        self.__age=age\n",
    "        \n",
    "    def showdata(self):\n",
    "        return self.__age"
   ]
  },
  {
   "cell_type": "code",
   "execution_count": 24,
   "id": "ccc0826f",
   "metadata": {},
   "outputs": [
    {
     "ename": "AttributeError",
     "evalue": "'Item' object has no attribute '__age'",
     "output_type": "error",
     "traceback": [
      "\u001b[1;31m---------------------------------------------------------------------------\u001b[0m",
      "\u001b[1;31mAttributeError\u001b[0m                            Traceback (most recent call last)",
      "Cell \u001b[1;32mIn[24], line 2\u001b[0m\n\u001b[0;32m      1\u001b[0m i\u001b[38;5;241m=\u001b[39mItem(\u001b[38;5;241m23\u001b[39m)\n\u001b[1;32m----> 2\u001b[0m \u001b[43mi\u001b[49m\u001b[38;5;241;43m.\u001b[39;49m\u001b[43m__age\u001b[49m\n",
      "\u001b[1;31mAttributeError\u001b[0m: 'Item' object has no attribute '__age'"
     ]
    }
   ],
   "source": [
    "i=Item(23)\n",
    "i.__age"
   ]
  },
  {
   "cell_type": "code",
   "execution_count": 25,
   "id": "133fe9b4",
   "metadata": {},
   "outputs": [
    {
     "data": {
      "text/plain": [
       "['_Item__age',\n",
       " '__class__',\n",
       " '__delattr__',\n",
       " '__dict__',\n",
       " '__dir__',\n",
       " '__doc__',\n",
       " '__eq__',\n",
       " '__format__',\n",
       " '__ge__',\n",
       " '__getattribute__',\n",
       " '__gt__',\n",
       " '__hash__',\n",
       " '__init__',\n",
       " '__init_subclass__',\n",
       " '__le__',\n",
       " '__lt__',\n",
       " '__module__',\n",
       " '__ne__',\n",
       " '__new__',\n",
       " '__reduce__',\n",
       " '__reduce_ex__',\n",
       " '__repr__',\n",
       " '__setattr__',\n",
       " '__sizeof__',\n",
       " '__str__',\n",
       " '__subclasshook__',\n",
       " '__weakref__',\n",
       " 'showdata']"
      ]
     },
     "execution_count": 25,
     "metadata": {},
     "output_type": "execute_result"
    }
   ],
   "source": [
    "dir(i)"
   ]
  },
  {
   "cell_type": "code",
   "execution_count": 26,
   "id": "0ff3ed01",
   "metadata": {},
   "outputs": [
    {
     "data": {
      "text/plain": [
       "23"
      ]
     },
     "execution_count": 26,
     "metadata": {},
     "output_type": "execute_result"
    }
   ],
   "source": [
    "i._Item__age   ## name mangling "
   ]
  },
  {
   "cell_type": "markdown",
   "id": "e379d9fa",
   "metadata": {},
   "source": [
    "#### 8. Create a Python class called `BankAccount` with private attributes for the account balance (`__balance`) and account number (`__account_number`). Provide methods for depositing and withdrawing money."
   ]
  },
  {
   "cell_type": "code",
   "execution_count": 34,
   "id": "020af4bf",
   "metadata": {},
   "outputs": [],
   "source": [
    "class BankAccount:\n",
    "    def __init__(self,account_number):\n",
    "        self.__balence=10000\n",
    "        self.__account_number=account_number\n",
    "        \n",
    "    def deposit(self):\n",
    "        print(\"your current balence is\",self.__balence)\n",
    "        amount=int(input(\"enter the amount to be deposited\"))\n",
    "        self.__balence+=amount\n",
    "        print(\"your current balence after depositing is\",self.__balence)\n",
    "        \n",
    "    def withdraw(self):\n",
    "        amount=int(input('enter the amount to be withdrawn'))\n",
    "        if(amount>self.__balence):\n",
    "            print(\"balence is not sufficient\")\n",
    "        else:\n",
    "            self.__balence-=amount\n",
    "        print(\"your current balence is\",self.__balence)\n",
    "        \n",
    "        "
   ]
  },
  {
   "cell_type": "code",
   "execution_count": 35,
   "id": "e4880f8d",
   "metadata": {},
   "outputs": [],
   "source": [
    "b=BankAccount(12345)"
   ]
  },
  {
   "cell_type": "code",
   "execution_count": 36,
   "id": "59ee4f70",
   "metadata": {},
   "outputs": [
    {
     "name": "stdout",
     "output_type": "stream",
     "text": [
      "your current balence is 10000\n",
      "enter the amount to be deposited2000\n",
      "your current balence after depositing is 12000\n"
     ]
    }
   ],
   "source": [
    "b.deposit()"
   ]
  },
  {
   "cell_type": "code",
   "execution_count": 38,
   "id": "4ae46720",
   "metadata": {},
   "outputs": [
    {
     "name": "stdout",
     "output_type": "stream",
     "text": [
      "enter the amount to be withdrawn1000\n",
      "your current balence is 11000\n"
     ]
    }
   ],
   "source": [
    "b.withdraw()"
   ]
  },
  {
   "cell_type": "markdown",
   "id": "478ef039",
   "metadata": {},
   "source": [
    "#### 9. Discuss the advantages of encapsulation in terms of code maintainability and security."
   ]
  },
  {
   "cell_type": "raw",
   "id": "6c727b54",
   "metadata": {},
   "source": [
    "Encapsulation is one of the features from the oops programming.\n",
    "Encapsulation is used for achiving the data hiding feature.\n",
    "Encapsulation is responsible for avoiding the user to change the data hence purpose of security is achived.\n",
    "\n",
    "#Code maintainability in encapsulation:\n",
    "1.Modularity in the code is achieved using encapsulation by breaking down the code into the smaller code.i.e means if any error occurs into the code, then it became easy to debug from the smaller parts.\n",
    "\n",
    "2.Each componant is respsonsible for making the code modular.\n",
    "\n",
    "3. It becomes easy to maintain the code in the form of classes.\n",
    "\n",
    "\n",
    "## security in Encapsulation:\n",
    "1. Security is achived in the Encapsulation by making the methods and attributes as private or proteected based on the requirement.\n",
    "\n",
    "2. But  other programming language like java or C#or C++ are considered to be more secure than python.\n",
    "\n",
    "3. there are accesss specifiers in python also, which are responsible for the accessing the data.\n",
    "\n",
    "\n",
    "\n"
   ]
  },
  {
   "cell_type": "markdown",
   "id": "5178f6e2",
   "metadata": {},
   "source": [
    "#### 10. How can you access private attributes in Python? Provide an example demonstrating the use of name mangling."
   ]
  },
  {
   "cell_type": "code",
   "execution_count": 39,
   "id": "09a43531",
   "metadata": {},
   "outputs": [],
   "source": [
    "class Item:\n",
    "    def __init__(self,age):\n",
    "        self.__age=age\n",
    "        \n",
    "    def showdata(self):\n",
    "        return self.__age\n",
    "    "
   ]
  },
  {
   "cell_type": "code",
   "execution_count": 42,
   "id": "db546243",
   "metadata": {},
   "outputs": [
    {
     "data": {
      "text/plain": [
       "23"
      ]
     },
     "execution_count": 42,
     "metadata": {},
     "output_type": "execute_result"
    }
   ],
   "source": [
    "i=Item(23)\n",
    "i.showdata()"
   ]
  },
  {
   "cell_type": "code",
   "execution_count": 43,
   "id": "765e4df5",
   "metadata": {},
   "outputs": [
    {
     "data": {
      "text/plain": [
       "23"
      ]
     },
     "execution_count": 43,
     "metadata": {},
     "output_type": "execute_result"
    }
   ],
   "source": [
    "i._Item__age"
   ]
  },
  {
   "cell_type": "markdown",
   "id": "64f69e79",
   "metadata": {},
   "source": [
    "#### 11. Create a Python class hierarchy for a school system, including classes for students, teachers, and courses, and implement encapsulation principles to protect sensitive information."
   ]
  },
  {
   "cell_type": "code",
   "execution_count": null,
   "id": "502557fd",
   "metadata": {},
   "outputs": [],
   "source": [
    "class Courses:\n",
    "    def __init__(self):\n",
    "        self.__courses=[]\n",
    "        \n",
    "    def EnterData(self):\n",
    "        course_name=input(\"enter the name !!!\")\n",
    "    \n",
    "    def "
   ]
  },
  {
   "cell_type": "code",
   "execution_count": null,
   "id": "ccb3ebae",
   "metadata": {},
   "outputs": [],
   "source": []
  },
  {
   "cell_type": "markdown",
   "id": "2dce4832",
   "metadata": {},
   "source": [
    "#### 13. What is data hiding, and why is it important in encapsulation? Provide examples."
   ]
  },
  {
   "cell_type": "raw",
   "id": "05dedde3",
   "metadata": {},
   "source": [
    "information hiding/Data hiding:\n",
    "\n",
    "1.Information hiding means showing only essential features by hiding the background details.\n",
    "2. Information Hiding is responsible to achieve the security purpose in the encapsulation.\n",
    "3. Giving access to the end user which are required to him only, if some methods or attributes are so important in the class then as a developer we should not give him the access to the user.\n",
    "4. In software developement, some methods and attributes must set to be private that no any third person can access that data. In that information hiding is used."
   ]
  },
  {
   "cell_type": "markdown",
   "id": "7ed87aec",
   "metadata": {},
   "source": [
    "#### 14. Create a Python class called `Employee` with private attributes for salary (`__salary`) and employee ID (`__employee_id`). Provide a method to calculate yearly bonuses."
   ]
  },
  {
   "cell_type": "code",
   "execution_count": 49,
   "id": "5d10bec9",
   "metadata": {},
   "outputs": [],
   "source": [
    "class Employee:\n",
    "    def __init__(self,salary,emp_id):\n",
    "        self.__salary=salary\n",
    "        self.__emp_id=emp_id\n",
    "        self.__bonus=0\n",
    "    \n",
    "    def showinfo(self):\n",
    "        print(f\"employee id {self.__emp_id} has basic salary of  {self.__salary}\")\n",
    "        \n",
    "    \n",
    "    def AnnualBonus(self):\n",
    "        self.__bonus=self.__salary*8.33//100\n",
    "        return self.__bonus\n",
    "        \n",
    "    def showbonus(self):\n",
    "        return f'bonus of employee  {self.__emp_id} is {self.__bonus}'    "
   ]
  },
  {
   "cell_type": "code",
   "execution_count": 50,
   "id": "73ce0a09",
   "metadata": {},
   "outputs": [
    {
     "data": {
      "text/plain": [
       "'bonus of employee  2174052 is 1957.0'"
      ]
     },
     "execution_count": 50,
     "metadata": {},
     "output_type": "execute_result"
    }
   ],
   "source": [
    "e=Employee(23500,2174052)\n",
    "e.AnnualBonus()\n",
    "e.showbonus()"
   ]
  },
  {
   "cell_type": "markdown",
   "id": "2c475afb",
   "metadata": {},
   "source": [
    "#### 15. Discuss the use of accessors and mutators in encapsulation. How do they help maintain control over attribute access?"
   ]
  },
  {
   "cell_type": "raw",
   "id": "837f8070",
   "metadata": {},
   "source": [
    "Accessors and mutators encapsulate the internal state of an object by providing a layer of abstraction.\n",
    "Accessor is used to access the data while mutators are used to modify the current data."
   ]
  },
  {
   "cell_type": "markdown",
   "id": "2c12f2d4",
   "metadata": {},
   "source": [
    "#### 16. What are the potential drawbacks or disadvantages of using encapsulation in Python?"
   ]
  },
  {
   "cell_type": "raw",
   "id": "61ee50cd",
   "metadata": {},
   "source": [
    "Encapsulation may introduce some overhead due to the additional method calls required to access or modify data. \n",
    "In Python, method calls are relatively slower compared to direct attribute access. \n",
    "This performance overhead may be a concern in performance-critical applications.\n",
    "\n",
    "Encapsulation can sometimes make code more complex, especially when it's overused. \n",
    "It can lead to an excessive number of getters and setters, which can make the code harder to read and maintain"
   ]
  },
  {
   "cell_type": "markdown",
   "id": "f7c90080",
   "metadata": {},
   "source": [
    "#### 17. Create a Python class for a library system that encapsulates book information, including titles, authors, and availability status."
   ]
  },
  {
   "cell_type": "code",
   "execution_count": 56,
   "id": "2a49f389",
   "metadata": {},
   "outputs": [
    {
     "name": "stdout",
     "output_type": "stream",
     "text": [
      "The library has 3 books. The books are\n",
      "Book 1\n",
      "Book 2\n",
      "Book 3\n"
     ]
    }
   ],
   "source": [
    "class Library:\n",
    "    def __init__(self):\n",
    "        self.noBooks = 0\n",
    "        self.books = []\n",
    "    \n",
    "    def addBook(self, book):\n",
    "        self.books.append(book)\n",
    "        self.noBooks = len(self.books)\n",
    "\n",
    "    def showInfo(self):\n",
    "        print(f\"The library has {self.noBooks} books. The books are\")\n",
    "        for book in self.books:\n",
    "              print(book)\n",
    "\n",
    "\n",
    "l1 = Library()\n",
    "l1.addBook(\"Book 1\")\n",
    "l1.addBook(\"Book 2\")\n",
    "l1.addBook(\"Book 3\")\n",
    "l1.showInfo()\n",
    "    "
   ]
  },
  {
   "cell_type": "markdown",
   "id": "99fc93a8",
   "metadata": {},
   "source": [
    "#### 18. Explain how encapsulation enhances code reusability and modularity in Python programs."
   ]
  },
  {
   "cell_type": "raw",
   "id": "7d12a65a",
   "metadata": {},
   "source": [
    "Encapsulation is responsible to maintain the code reusability and modularity in the pytohn.\n",
    "\n",
    "#Code maintainability in encapsulation:\n",
    "1.Modularity in the code is achieved using encapsulation by breaking down the code into the smaller code.i.e means if any error occurs into the code, then it became easy to debug from the smaller parts.\n",
    "\n",
    "2.Each componant is respsonsible for making the code modular.\n",
    "\n",
    "3. It becomes easy to maintain the code in the form of classes.\n",
    "\n",
    "#reusability :\n",
    "1. In encapsulation, the code usability is applied.\n",
    "    "
   ]
  },
  {
   "cell_type": "markdown",
   "id": "dcbce211",
   "metadata": {},
   "source": [
    "#### 19. Describe the concept of information hiding in encapsulation. Why is it essential in software development?"
   ]
  },
  {
   "cell_type": "raw",
   "id": "ae2dbf2a",
   "metadata": {},
   "source": [
    "information hiding:\n",
    "\n",
    "1.Information hiding means showing only essential features by hiding the background details.\n",
    "2. Information Hiding is responsible to achieve the security purpose in the encapsulation.\n",
    "3. Giving access to the end user which are required to him only, if some methods or attributes are so important in the class then as a developer we should not give him the access to the user.\n",
    "4. In software developement, some methods and attributes must set to be private that no any third person can access that data. In that information hiding is used.\n"
   ]
  },
  {
   "cell_type": "markdown",
   "id": "20f9af9e",
   "metadata": {},
   "source": [
    "#### 20. Create a Python class called `Customer` with private attributes for customer details like name, address, and contact information. Implement encapsulation to ensure data integrity and security."
   ]
  },
  {
   "cell_type": "code",
   "execution_count": 59,
   "id": "51c4891e",
   "metadata": {},
   "outputs": [],
   "source": [
    "class Customer:\n",
    "    def __init__(self,name,address,contact):\n",
    "        self.__name=name\n",
    "        self.__address=address\n",
    "        self.__contact=contact\n",
    "        \n",
    "    def showdata(self):\n",
    "        return f'name is {self.__name} and address is {self.__address} and contact details are {self.__contact}'\n",
    "    "
   ]
  },
  {
   "cell_type": "code",
   "execution_count": 60,
   "id": "98f6a983",
   "metadata": {},
   "outputs": [
    {
     "data": {
      "text/plain": [
       "'name is shreya and address is phaltan and contact details are 23456'"
      ]
     },
     "execution_count": 60,
     "metadata": {},
     "output_type": "execute_result"
    }
   ],
   "source": [
    "c=Customer(\"shreya\",'phaltan',23456)\n",
    "c.showdata()"
   ]
  },
  {
   "cell_type": "markdown",
   "id": "4d6f19ca",
   "metadata": {},
   "source": [
    "# Problems Based on : Polymorphism"
   ]
  },
  {
   "cell_type": "markdown",
   "id": "6f15f889",
   "metadata": {},
   "source": [
    "#### 1. What is polymorphism in Python? Explain how it is related to object-oriented programming."
   ]
  },
  {
   "cell_type": "raw",
   "id": "70f2dc33",
   "metadata": {},
   "source": [
    "\"Polymorphism\":\n",
    "    1. Polymorphism means one function have many forms.\n",
    "    2. One function can be behaved as in multiple form.\n",
    "    3. the polymorphisom can be achived using method overloading , method overriding and duck typing.\n",
    "    4. Polymorphisom is useful to reuse the code and reduce the redundancy in the code.\n",
    "    "
   ]
  },
  {
   "cell_type": "markdown",
   "id": "4730316a",
   "metadata": {},
   "source": [
    "#### 2. Describe the difference between compile-time polymorphism and runtime polymorphism in Python."
   ]
  },
  {
   "cell_type": "raw",
   "id": "db226c30",
   "metadata": {},
   "source": [
    "Compile time polymorphism:\n",
    "\n",
    "    1. Compile time polyorphism occurs during the comiplation of the code.\n",
    "    2. Method overloading occurs in the compile time polymorphism.\n",
    "    3. During method overloading, the name of the function is same with the differnt parameters in the same class.\n",
    "    4. python does not support method overloading because we can not give the data types explicitly in the python.\n",
    "    5. But using some other techniques we can achieve the method overloading.\n",
    "    \n",
    "Runtime polymorphism:\n",
    "    1. Run time polymorpism occurs during the actual execution of the code.\n",
    "    2.Method overriding occurs in the runtime polymorphism.\n",
    "    3. During method overriding , the methods  have same name, same number of arguments but the defination of the function and the location of the funcion is differnt. i.e one function is in parent class and another is in child class. \n",
    "    "
   ]
  },
  {
   "cell_type": "markdown",
   "id": "b2c70356",
   "metadata": {},
   "source": [
    "#### 3. Create a Python class hierarchy for shapes (e.g., circle, square, triangle) and demonstrate polymorphism  through a common method, such as `calculate_area()`."
   ]
  },
  {
   "cell_type": "code",
   "execution_count": 3,
   "id": "2092ccbe",
   "metadata": {},
   "outputs": [],
   "source": [
    "class Shape:\n",
    "    def __init__(self):\n",
    "        pass\n",
    "    def shape(self):\n",
    "        pass\n",
    "    \n",
    "class Circle(Shape):\n",
    "    def __init__(self,radius):\n",
    "        self.radius=radius\n",
    "        \n",
    "    def calculate_area(self):\n",
    "        area=3.14*self.radius*self.radius\n",
    "        return f'area of the circle is {area}'\n",
    "    \n",
    "class Square(Shape):\n",
    "    def __init__(self,side):\n",
    "        self.side=side\n",
    "        \n",
    "    def calculate_area(self):\n",
    "        area=self.side*self.side\n",
    "        return  f'area of the Square is {area}'\n",
    "    \n",
    "class triangle(Shape):\n",
    "    def __init__(self,base,height):\n",
    "        self.base=base\n",
    "        self.height=height\n",
    "        \n",
    "    def calculate_area(self):\n",
    "        area=0.5*self.base*self.height\n",
    "        return f'area of the triangle is {area}'\n",
    "    "
   ]
  },
  {
   "cell_type": "code",
   "execution_count": 4,
   "id": "75611f32",
   "metadata": {},
   "outputs": [
    {
     "data": {
      "text/plain": [
       "'area of the Square is 4'"
      ]
     },
     "execution_count": 4,
     "metadata": {},
     "output_type": "execute_result"
    }
   ],
   "source": [
    "s=Square(2)\n",
    "s.calculate_area()"
   ]
  },
  {
   "cell_type": "markdown",
   "id": "756aaa6c",
   "metadata": {},
   "source": [
    "#### 4. Explain the concept of method overriding in polymorphism. Provide an example."
   ]
  },
  {
   "cell_type": "raw",
   "id": "efedd35e",
   "metadata": {},
   "source": [
    "Method overriding :\n",
    "    1.Method overrding is the runtime polymorphism.\n",
    "    2. In method overriding , the name of the function, the paramters of the function is same but the defination of the function is given in the differnt class.\n",
    "    3. Core python supports method overrding.\n",
    "    4. Inheritance supports method overriding by defualt.\n",
    "    "
   ]
  },
  {
   "cell_type": "code",
   "execution_count": 5,
   "id": "5f5dcc40",
   "metadata": {},
   "outputs": [],
   "source": [
    "## example to showcase the method overriding.\n",
    "class Father:\n",
    "    def sleep(self):\n",
    "        print(\"Father sleeps for 10am-5am\")\n",
    "        \n",
    "class Child(Father):\n",
    "    def sleep(self):\n",
    "        super().sleep()\n",
    "        print(\"the child sleeps for 2am-10am\")\n",
    "        \n",
    "    \n",
    "        \n",
    "    "
   ]
  },
  {
   "cell_type": "code",
   "execution_count": 7,
   "id": "effdc351",
   "metadata": {},
   "outputs": [
    {
     "name": "stdout",
     "output_type": "stream",
     "text": [
      "Father sleeps for 10am-5am\n",
      "the child sleeps for 2am-10am\n"
     ]
    }
   ],
   "source": [
    "c=Child()\n",
    "c.sleep()"
   ]
  },
  {
   "cell_type": "markdown",
   "id": "2efdd79e",
   "metadata": {},
   "source": [
    "#### 5. How is polymorphism different from method overloading in Python? Provide examples for both."
   ]
  },
  {
   "cell_type": "raw",
   "id": "2216a290",
   "metadata": {},
   "source": [
    "1. Polymorphism is the process to define more than one body for functions/methods with same name.\n",
    "2. Method overloading is the type of polymorphism.\n",
    "3. In method overloading, the name of the function is same but the parameters are differnt.\n"
   ]
  },
  {
   "cell_type": "code",
   "execution_count": 8,
   "id": "fd79a953",
   "metadata": {},
   "outputs": [
    {
     "data": {
      "text/plain": [
       "5"
      ]
     },
     "execution_count": 8,
     "metadata": {},
     "output_type": "execute_result"
    }
   ],
   "source": [
    "# polymorpism\n",
    "\n",
    "class Method:\n",
    "    def add(self,a,b,c=0):\n",
    "        return a+b+c\n",
    "m=Method()\n",
    "m.add(2,3)\n",
    "        "
   ]
  },
  {
   "cell_type": "code",
   "execution_count": 15,
   "id": "60e97e63",
   "metadata": {},
   "outputs": [
    {
     "data": {
      "text/plain": [
       "6"
      ]
     },
     "execution_count": 15,
     "metadata": {},
     "output_type": "execute_result"
    }
   ],
   "source": [
    "# method overloading\n",
    "class Method:\n",
    "    def sum(self,*args):\n",
    "        sum1=0\n",
    "        for i in args:\n",
    "            sum1+=i\n",
    "        return sum1\n",
    "\n",
    "\n",
    "m=Method()  \n",
    "m.sum(1,2,3)"
   ]
  },
  {
   "cell_type": "markdown",
   "id": "6abea629",
   "metadata": {},
   "source": [
    "#### 6. Create a Python class called `Animal` with a method `speak()`. Then, create child classes like `Dog`, `Cat`, and `Bird`, each with their own `speak()` method. Demonstrate polymorphism by calling the `speak()` method on objects of different subclasses.\n",
    "\n",
    "\n"
   ]
  },
  {
   "cell_type": "code",
   "execution_count": 7,
   "id": "267de231",
   "metadata": {},
   "outputs": [],
   "source": [
    "class Animal:\n",
    "    def Speak(self):\n",
    "         print('Yess Speak!!')\n",
    "    \n",
    "class Dog(Animal):\n",
    "    def Speak(self):\n",
    "        print('Woof!!Woof!!')\n",
    "        super().Speak()\n",
    "        \n",
    "\n",
    "class Cat(Animal):\n",
    "    def Speak(self):\n",
    "        print('Muwww,Muwww!!')\n",
    "        super().Speak()\n",
    "        \n",
    "    \n",
    "class Bird(Animal):\n",
    "    def Speak(self):\n",
    "        print('Kuhooo, Kuhoooo!!!')\n",
    "        super().Speak()\n",
    "        "
   ]
  },
  {
   "cell_type": "code",
   "execution_count": 8,
   "id": "613a7978",
   "metadata": {},
   "outputs": [
    {
     "name": "stdout",
     "output_type": "stream",
     "text": [
      "Woof!!Woof!!\n",
      "Yess Speak!!\n"
     ]
    }
   ],
   "source": [
    "d=Dog()\n",
    "d.Speak()\n",
    "    "
   ]
  },
  {
   "cell_type": "markdown",
   "id": "d0a600e1",
   "metadata": {},
   "source": [
    "#### 7. Discuss the use of abstract methods and classes in achieving polymorphism in Python. Provide an example using the `abc` module."
   ]
  },
  {
   "cell_type": "code",
   "execution_count": null,
   "id": "8fa83644",
   "metadata": {},
   "outputs": [],
   "source": [
    "from abc import ABC,abstractmethod\n",
    "class Shape(ABC):\n",
    "    @abstractmethod\n",
    "    def calculate_area(self):\n",
    "        pass\n",
    "    \n",
    "class Circle(Shape):\n",
    "    def __init__(self,Radius):\n",
    "        self.Radius=Radius\n",
    "        \n",
    "    def calculate_area(self):\n",
    "        return 3.14*self.Radius*self.Radius\n",
    "    \n",
    "    \n",
    "class Rectangle(Shape):\n",
    "    def __init__(self,length,breadth):\n",
    "        self.length=length\n",
    "        self.breadth=breadth\n",
    "        \n",
    "    def calculate_area(self):\n",
    "        return 0.5*self.length*self.breadth\n",
    "    "
   ]
  },
  {
   "cell_type": "markdown",
   "id": "bfa0e125",
   "metadata": {},
   "source": [
    "#### 8. Create a Python class hierarchy for a vehicle system (e.g., car, bicycle, boat) and implement a polymorphic `start()` method that prints a message specific to each vehicle type."
   ]
  },
  {
   "cell_type": "code",
   "execution_count": 17,
   "id": "bcc5749b",
   "metadata": {},
   "outputs": [],
   "source": [
    "class Vehicle:\n",
    "    def Start(self):\n",
    "         print('vehicle started!!!')\n",
    "    \n",
    "class Car(Vehicle):\n",
    "    def Start(self):\n",
    "        super().Start()\n",
    "        print(\"car sarted with the button!!\")\n",
    "        \n",
    "class Bicycle(Vehicle):\n",
    "    def Start(self):\n",
    "        super().Start()\n",
    "        print(\"Bicycle start with pedel\")\n",
    "        \n",
    "\n",
    "class Boat(Vehicle):\n",
    "    def Start(self):\n",
    "        super().Start()\n",
    "        print(\"Boat starts with disel\")"
   ]
  },
  {
   "cell_type": "code",
   "execution_count": 18,
   "id": "0e8adfad",
   "metadata": {},
   "outputs": [
    {
     "name": "stdout",
     "output_type": "stream",
     "text": [
      "vehicle started!!!\n",
      "Boat starts with disel\n"
     ]
    }
   ],
   "source": [
    "b=Boat()\n",
    "b.Start()"
   ]
  },
  {
   "cell_type": "markdown",
   "id": "5c597f14",
   "metadata": {},
   "source": [
    "#### 9. Explain the significance of the `isinstance()` and `issubclass()` functions in Python polymorphism."
   ]
  },
  {
   "cell_type": "raw",
   "id": "6507ed75",
   "metadata": {},
   "source": [
    "isinstance(object,class)-----> returns boolean result\n",
    "\n",
    "isinstance(object,class)\n",
    "1.this method is used to check if perticular instance is the instance of given parent class or not. \n",
    "2.it returns True if given object is of given class othwerwise returns False.\n",
    "3.Below is the example which show cases the use of isinstance() method in python.\n",
    "\n",
    "issubclass(cls,class)----> returns true if given class is the subclass of another class\n",
    "\n",
    "\n",
    "\n"
   ]
  },
  {
   "cell_type": "markdown",
   "id": "b31f9837",
   "metadata": {},
   "source": [
    "#### 10. What is the role of the `@abstractmethod` decorator in achieving polymorphism in Python? Provide an example."
   ]
  },
  {
   "cell_type": "code",
   "execution_count": null,
   "id": "558e4fac",
   "metadata": {},
   "outputs": [],
   "source": [
    "from abc import ABC,abstractmethod\n",
    "class Shape(ABC):\n",
    "    @abstractmethod\n",
    "    def calculate_area(self):\n",
    "        pass\n",
    "    \n",
    "class Circle(Shape):\n",
    "    def __init__(self,Radius):\n",
    "        self.Radius=Radius\n",
    "        \n",
    "    def calculate_area(self):\n",
    "        return 3.14*self.Radius*self.Radius\n",
    "    \n",
    "    \n",
    "class Rectangle(Shape):\n",
    "    def __init__(self,length,breadth):\n",
    "        self.length=length\n",
    "        self.breadth=breadth\n",
    "        \n",
    "    def calculate_area(self):\n",
    "        return 0.5*self.length*self.breadth\n",
    "    "
   ]
  },
  {
   "cell_type": "markdown",
   "id": "09142ba1",
   "metadata": {},
   "source": [
    "#### 11. Create a Python class called `Shape` with a polymorphic method `area()` that calculates the area of different shapes (e.g., circle, rectangle, triangle)."
   ]
  },
  {
   "cell_type": "code",
   "execution_count": 9,
   "id": "92eb9130",
   "metadata": {},
   "outputs": [],
   "source": [
    "class Shape:\n",
    "    def __init__(self):\n",
    "        pass\n",
    "    def shape(self):\n",
    "        pass\n",
    "    \n",
    "class Circle(Shape):\n",
    "    def __init__(self,radius):\n",
    "        self.radius=radius\n",
    "        \n",
    "    def calculate_area(self):\n",
    "        area=3.14*self.radius*self.radius\n",
    "        return f'area of the circle is {area}'\n",
    "    \n",
    "class Square(Shape):\n",
    "    def __init__(self,side):\n",
    "        self.side=side\n",
    "        \n",
    "    def calculate_area(self):\n",
    "        area=self.side*self.side\n",
    "        return  f'area of the Square is {area}'\n",
    "    \n",
    "class triangle(Shape):\n",
    "    def __init__(self,base,height):\n",
    "        self.base=base\n",
    "        self.height=height\n",
    "        \n",
    "    def calculate_area(self):\n",
    "        area=0.5*self.base*self.height\n",
    "        return f'area of the triangle is {area}'"
   ]
  },
  {
   "cell_type": "code",
   "execution_count": 11,
   "id": "2df205a1",
   "metadata": {},
   "outputs": [
    {
     "data": {
      "text/plain": [
       "'area of the triangle is 3.0'"
      ]
     },
     "execution_count": 11,
     "metadata": {},
     "output_type": "execute_result"
    }
   ],
   "source": [
    "t=triangle(2,3)\n",
    "t.calculate_area()\n"
   ]
  },
  {
   "cell_type": "markdown",
   "id": "84ddf8af",
   "metadata": {},
   "source": [
    "#### 12. Discuss the benefits of polymorphism in terms of code reusability and flexibility in Python programs."
   ]
  },
  {
   "cell_type": "raw",
   "id": "b4b7b1a0",
   "metadata": {},
   "source": [
    "# Code Reusability\n",
    "1. Polymorphism enables you to write code that can work with objects of various classes without the need to know their specific types. This leads to more reusable and generic code because you can define operations that work on a common interface shared by multiple classes. \n",
    "\n",
    "# Polymorphism allows you to introduce new classes and objects into your codebase without having to modify existing code that operates on objects of the common superclass. "
   ]
  },
  {
   "cell_type": "markdown",
   "id": "f98ce50b",
   "metadata": {},
   "source": [
    "#### 13. Explain the use of the `super()` function in Python polymorphism. How does it help call methods of parent classes?"
   ]
  },
  {
   "cell_type": "raw",
   "id": "558c0493",
   "metadata": {},
   "source": [
    "super():=  1. super() is the reserved keyward which is used to do the method overriding from one class to another class.\n",
    "           2. super() can be used to access the parents class constructor, methods to the child class.\n",
    "           3. the keyward is responsible to avoid the\n",
    "           \n"
   ]
  },
  {
   "cell_type": "code",
   "execution_count": 20,
   "id": "3024138b",
   "metadata": {},
   "outputs": [],
   "source": [
    "class person:\n",
    "    def __init__(self,name,age):\n",
    "        self.name=name\n",
    "        self.age=age\n",
    "        \n",
    "    def showdata(self):\n",
    "        return self.name,self.age\n",
    "    \n",
    "\n",
    "class student(person):\n",
    "    def __init__(self,name,age,id1,address):\n",
    "        \n",
    "        self.id1=id1\n",
    "        self.address=address\n",
    "        super().__init__(name,age)\n",
    "    \n",
    "    def showdata(self):\n",
    "        print(self.id1,self.address)\n",
    "        print(super().showdata())\n",
    "    \n",
    "        "
   ]
  },
  {
   "cell_type": "code",
   "execution_count": 23,
   "id": "9aecf8f3",
   "metadata": {},
   "outputs": [
    {
     "name": "stdout",
     "output_type": "stream",
     "text": [
      "12 phaltan\n",
      "('shreya', 23)\n"
     ]
    }
   ],
   "source": [
    "s=student('shreya',23,12,'phaltan')\n",
    "s.showdata()"
   ]
  },
  {
   "cell_type": "markdown",
   "id": "8cb8ba9a",
   "metadata": {},
   "source": [
    "#### 14. Create a Python class hierarchy for a banking system with various account types (e.g., savings, checking, credit card) and demonstrate polymorphism by implementing a common `withdraw()` method."
   ]
  },
  {
   "cell_type": "code",
   "execution_count": 27,
   "id": "5155f8b7",
   "metadata": {},
   "outputs": [
    {
     "name": "stdout",
     "output_type": "stream",
     "text": [
      "Hello!!! Welcome to the Deposit & Withdrawal Machine\n",
      "Enter amount to be Deposited: 2000\n",
      "\n",
      " Amount Deposited: 2000.0\n",
      "Enter amount to be Withdrawn: 109\n",
      "\n",
      " You Withdrew: 109.0\n",
      "\n",
      " Net Available Balance= 1891.0\n"
     ]
    }
   ],
   "source": [
    "# Python program to create Bankaccount class\n",
    "# with both a deposit() and a withdraw() function\n",
    "class Bank_Account:\n",
    "    def __init__(self):\n",
    "        self.balance=0\n",
    "        print(\"Hello!!! Welcome to the Deposit & Withdrawal Machine\")\n",
    "\n",
    "    def deposit(self):\n",
    "        amount=float(input(\"Enter amount to be Deposited: \"))\n",
    "        self.balance += amount\n",
    "        print(\"\\n Amount Deposited:\",amount)\n",
    "\n",
    "    def withdraw(self):\n",
    "        amount = float(input(\"Enter amount to be Withdrawn: \"))\n",
    "        if self.balance>=amount:\n",
    "            self.balance-=amount\n",
    "            print(\"\\n You Withdrew:\", amount)\n",
    "        else:\n",
    "            print(\"\\n Insufficient balance \")\n",
    "\n",
    "    def display(self):\n",
    "        print(\"\\n Net Available Balance=\",self.balance)\n",
    "\n",
    "s = Bank_Account()\n",
    "s.deposit()\n",
    "s.withdraw()\n",
    "s.display()\n"
   ]
  },
  {
   "cell_type": "markdown",
   "id": "2f65ee60",
   "metadata": {},
   "source": [
    "#### 15. Describe the concept of operator overloading in Python and how it relates to polymorphism. Provide examples using operators like `+` and `*`."
   ]
  },
  {
   "cell_type": "raw",
   "id": "f60729bf",
   "metadata": {},
   "source": [
    "operator overloading:\n",
    "1.opertor overloading is called the dunder method or the magic method in the python.\n",
    "2. Operator overloading is called called as  double underscore method i.e dunder method.\n",
    "3. For an example, if we use the + operator then we can add integers also and string also. But if want to add the two object also then we can overload the plus operator in the python.\n"
   ]
  },
  {
   "cell_type": "code",
   "execution_count": 36,
   "id": "32706def",
   "metadata": {},
   "outputs": [],
   "source": [
    "class overload:\n",
    "    def __init__(self,a):\n",
    "        self.a=a\n",
    "        \n",
    "        \n",
    "    def __add__(self,other):\n",
    "        return 'return the addition of two objects which is',self.a+other.a\n",
    "    "
   ]
  },
  {
   "cell_type": "code",
   "execution_count": 37,
   "id": "28d75dfd",
   "metadata": {},
   "outputs": [
    {
     "data": {
      "text/plain": [
       "('return the addition of two objects which is', 12)"
      ]
     },
     "execution_count": 37,
     "metadata": {},
     "output_type": "execute_result"
    }
   ],
   "source": [
    "first=overload(10)\n",
    "second=overload(2)\n",
    "first+second"
   ]
  },
  {
   "cell_type": "markdown",
   "id": "dec681ac",
   "metadata": {},
   "source": [
    "#### 16. What is dynamic polymorphism, and how is it achieved in Python?"
   ]
  },
  {
   "cell_type": "raw",
   "id": "cc26998b",
   "metadata": {},
   "source": [
    "Dynamic Polymorphism:\n",
    "    Dynamic Polymorphism means method overriding in the python.\n",
    "    In dynamic Polymorphism, the name of the methods are same. the number of parameters are also same.\n",
    "    Method overriding occurs in the runtime polymorphism."
   ]
  },
  {
   "cell_type": "code",
   "execution_count": 39,
   "id": "4bea1aa3",
   "metadata": {},
   "outputs": [],
   "source": [
    "class First:\n",
    "    def __init__(self,a,b):\n",
    "        self.a=a\n",
    "        self.b=b\n",
    "        \n",
    "class Second(First):\n",
    "    def __init__(self,a,b,c):\n",
    "        super().__init__(a,b)\n",
    "        self.c=c\n",
    "        \n",
    "    def add_data(self):\n",
    "        return self.a+self.b+self.c\n",
    "    "
   ]
  },
  {
   "cell_type": "code",
   "execution_count": 42,
   "id": "40ed3c8b",
   "metadata": {},
   "outputs": [
    {
     "data": {
      "text/plain": [
       "10"
      ]
     },
     "execution_count": 42,
     "metadata": {},
     "output_type": "execute_result"
    }
   ],
   "source": [
    "s=Second(2,3,5)\n",
    "s.add_data()"
   ]
  },
  {
   "cell_type": "markdown",
   "id": "bb329d60",
   "metadata": {},
   "source": [
    "#### 17. Create a Python class hierarchy for employees in a company (e.g., manager, developer, designer) and implement polymorphism through a common `calculate_salary()` method."
   ]
  },
  {
   "cell_type": "code",
   "execution_count": 28,
   "id": "bc735742",
   "metadata": {},
   "outputs": [],
   "source": [
    "class Employees:\n",
    "    def __init__(self,name,emp_id):\n",
    "        self.name=name\n",
    "        self.emp_id=emp_id\n",
    "        \n",
    "    def calculate_area(self):\n",
    "        pass\n",
    "    \n",
    "class Manager(Employees):\n",
    "    def __init__(self,name,emp_id,salary,bonus):\n",
    "        super().__init__(name,emp_id)\n",
    "        self.salary=salary\n",
    "        self.bonus=bonus\n",
    "        \n",
    "    def calculate_pay(self):\n",
    "        total_pay=self.salary+self.bonus\n",
    "        return total_pay\n",
    "    \n",
    "    \n",
    "class Developer(Employees):\n",
    "    def __init__(self,name,emp_id,hourly_rate,hourly_work):\n",
    "        super().__init__(name,emp_id)\n",
    "        self.hourly_rate=hourly_rate\n",
    "        self.hourly_work=hourly_work\n",
    "        \n",
    "    def calculate_pay(self):\n",
    "        total_pay=self.hourly_rate*self.hourly_work\n",
    "        return total_pay\n",
    "    \n",
    "\n",
    "class Designer(Employees):\n",
    "    def __init__(self,name,emp_id,monthly_salary):\n",
    "        super().__init__(name,emp_id)\n",
    "        self.monthly_salary=monthly_salary\n",
    "    \n",
    "    def calculate_pay(self):\n",
    "        return self.monthly_salary\n",
    "    "
   ]
  },
  {
   "cell_type": "code",
   "execution_count": 31,
   "id": "9db934df",
   "metadata": {},
   "outputs": [
    {
     "name": "stdout",
     "output_type": "stream",
     "text": [
      "Vaishnavi (ID: 101) Salary: Rs70000\n",
      "Pooja (ID: 102) Salary: Rs8000\n",
      "Neha (ID: 103) Salary: Rs5500\n"
     ]
    }
   ],
   "source": [
    "manager = Manager(\"Vaishnavi\", 101, 60000, 10000)\n",
    "developer = Developer(\"Pooja\", 102, 50, 160)\n",
    "designer = Designer(\"Neha\", 103, 5500)\n",
    "\n",
    "Employees = [manager, developer, designer]\n",
    "\n",
    "for employee in Employees:\n",
    "    print(f\"{employee.name} (ID: {employee.emp_id}) Salary: Rs{employee.calculate_pay()}\")"
   ]
  },
  {
   "cell_type": "markdown",
   "id": "15336885",
   "metadata": {},
   "source": [
    "#### 18. Discuss the concept of function pointers and how they can be used to achieve polymorphism in Python."
   ]
  },
  {
   "cell_type": "markdown",
   "id": "2828ace0",
   "metadata": {},
   "source": [
    "In programming, polymorphism is the ability to use one name to refer to different objects or classes. This is often used in Python to achieve code reuse and flexibility."
   ]
  },
  {
   "cell_type": "markdown",
   "id": "2cdbbd7a",
   "metadata": {},
   "source": [
    "#### 19. Explain the role of interfaces and abstract classes in polymorphism, drawing comparisons between them."
   ]
  },
  {
   "cell_type": "raw",
   "id": "fbb0c092",
   "metadata": {},
   "source": [
    "Interfaces and abstract classes are both important concepts in object-oriented programming that play a significant role in achieving polymorphism.\n",
    "Interfaces are a way to define a contract for a class. They specify a set of method signatures that a class implementing the interface must provide"
   ]
  },
  {
   "cell_type": "markdown",
   "id": "72ae32ad",
   "metadata": {},
   "source": [
    "#### 20. Create a Python class called `Customer` with private attributes for customer details like name, address, and contact information. Implement encapsulation to ensure data integrity and security."
   ]
  },
  {
   "cell_type": "code",
   "execution_count": 43,
   "id": "2851ac86",
   "metadata": {},
   "outputs": [],
   "source": [
    "class Customer:\n",
    "    def __init__(self,name,address,contact):\n",
    "        self.__name=name\n",
    "        self.__address=address\n",
    "        self.__contact=contact\n",
    "        \n",
    "    def showdata(self):\n",
    "        return f'name is {self.__name} and address is {self.__address} and contact details are {self.__contact}'\n",
    "    "
   ]
  },
  {
   "cell_type": "code",
   "execution_count": 44,
   "id": "f057bfe4",
   "metadata": {},
   "outputs": [
    {
     "data": {
      "text/plain": [
       "'name is shreya and address is phaltan and contact details are 2345'"
      ]
     },
     "execution_count": 44,
     "metadata": {},
     "output_type": "execute_result"
    }
   ],
   "source": [
    "c=Customer('shreya','phaltan',2345)\n",
    "c.showdata()"
   ]
  },
  {
   "cell_type": "markdown",
   "id": "806a5b53",
   "metadata": {},
   "source": [
    "# Problems based on : 'Abstraction'"
   ]
  },
  {
   "cell_type": "markdown",
   "id": "4a316e39",
   "metadata": {},
   "source": [
    "#### 1. What is abstraction in Python, and how does it relate to object-oriented programming?"
   ]
  },
  {
   "cell_type": "raw",
   "id": "8ecbdca2",
   "metadata": {},
   "source": [
    "abstraction :\n",
    "    Hiding essential features by showing only required features.\n",
    "    In abstraction we only declare  the method and don't define it.\n",
    "    Abstraction is the standard way to create the class and their object.\n",
    "    "
   ]
  },
  {
   "cell_type": "markdown",
   "id": "925d177e",
   "metadata": {},
   "source": [
    "#### 2. Describe the benefits of abstraction in terms of code organization and complexity reduction."
   ]
  },
  {
   "cell_type": "raw",
   "id": "0bba3168",
   "metadata": {},
   "source": [
    "1.Abstraction Helps to increase security of an application or program as only important details are provided to the user.\n",
    "2. Avoids code duplication and increases reusability.\n",
    "3.It removes the unnecessary detail.\n",
    "4.In a Process of abstraction, a programmer hides all but the relevant data about an object.\n"
   ]
  },
  {
   "cell_type": "markdown",
   "id": "9ea4cdb2",
   "metadata": {},
   "source": [
    "#### 3. Create a Python class called `Shape` with an abstract method `calculate_area()`. Then, create child classes (e.g., `Circle`, `Rectangle`) that implement the `calculate_area()` method. Provide an example of using these classes."
   ]
  },
  {
   "cell_type": "code",
   "execution_count": 3,
   "id": "b0a1dca4",
   "metadata": {},
   "outputs": [],
   "source": [
    "from abc import ABC,abstractmethod\n",
    "class Shape(ABC):\n",
    "    @abstractmethod\n",
    "    def calculate_area(self):\n",
    "        pass\n",
    "    \n",
    "class Circle(Shape):\n",
    "    def __init__(self,Radius):\n",
    "        self.Radius=Radius\n",
    "        \n",
    "    def calculate_area(self):\n",
    "        return 3.14*self.Radius*self.Radius\n",
    "    \n",
    "    \n",
    "class Rectangle(Shape):\n",
    "    def __init__(self,length,breadth):\n",
    "        self.length=length\n",
    "        self.breadth=breadth\n",
    "        \n",
    "    def calculate_area(self):\n",
    "        return 0.5*self.length*self.breadth\n",
    "    \n",
    "\n",
    "    \n",
    "    "
   ]
  },
  {
   "cell_type": "code",
   "execution_count": 4,
   "id": "42a28903",
   "metadata": {},
   "outputs": [
    {
     "data": {
      "text/plain": [
       "50.24"
      ]
     },
     "execution_count": 4,
     "metadata": {},
     "output_type": "execute_result"
    }
   ],
   "source": [
    "c=Circle(4)\n",
    "c.calculate_area()"
   ]
  },
  {
   "cell_type": "markdown",
   "id": "79a44d20",
   "metadata": {},
   "source": [
    "#### 4. Explain the concept of abstract classes in Python and how they are defined using the `abc` module. Provide an example."
   ]
  },
  {
   "cell_type": "raw",
   "id": "f1934e90",
   "metadata": {},
   "source": [
    "1.abstract class is the class where the class is inherite from the parent ABC class.\n",
    "2.ABC class belongs to the abc module.\n",
    "3.To use ABC class use from abc import ABC, AbstractMethod.\n",
    "4.abstract classes can not be instantiated. We can not create the object of the class and all the abstract method muct be implemented."
   ]
  },
  {
   "cell_type": "code",
   "execution_count": 10,
   "id": "fa07a87f",
   "metadata": {},
   "outputs": [],
   "source": [
    "# example to use the abstract class and methods\n",
    "from abc import ABC,abstractmethod\n",
    "\n",
    "class Vehicle(ABC):\n",
    "    def __init__(self,no_of_geares,color):\n",
    "        self.no_of_geares=no_of_geares\n",
    "        self.color=color\n",
    "        \n",
    "    @abstractmethod   \n",
    "    def VehicleInfo(self):\n",
    "        pass\n",
    "    \n",
    "class Audi(Vehicle):\n",
    "    def __init__(self,no_of_geares,color,milage):\n",
    "        super().__init__(self,no_of_geares,color)\n",
    "        self.milage=milage\n",
    "        \n",
    "    def VehicleInfo(self):\n",
    "        print('the car is Audi with the number of geares are {}'.format(self.no_of_geares))\n",
    "        print(\"the color of Audi is {}\".format(self.color))\n",
    "        print('the milage is {}'.format(self.milage))\n",
    "        \n",
    "        \n",
    "class Mercedes(Vehicle):\n",
    "    def __init__(self,no_of_geares,color,milage,Safety_driver):\n",
    "        self.no_of_geares=no_of_geares\n",
    "        self.color=color\n",
    "        self.milage=milage\n",
    "        self.Safety_driver=Safety_driver\n",
    "        \n",
    "    def VehicleInfo(self):\n",
    "        print('the car is Mercedez with the number of geares are {}'.format(self.no_of_geares))\n",
    "        print(\"the color of Mercedez is {}\".format(self.color))\n",
    "        print('the milage is {}'.format(self.milage))\n",
    "        print(\"the safety driver {}\".format(self.Safety_driver))\n",
    "        \n",
    "        \n",
    "        \n",
    "    "
   ]
  },
  {
   "cell_type": "code",
   "execution_count": 11,
   "id": "60544cf5",
   "metadata": {},
   "outputs": [
    {
     "name": "stdout",
     "output_type": "stream",
     "text": [
      "the car is Mercedez with the number of geares are 6\n",
      "the color of Mercedez is black\n",
      "the milage is 8\n",
      "the safety driver 4\n"
     ]
    }
   ],
   "source": [
    "m=Mercedes(6,'black',8,4)\n",
    "m.VehicleInfo()"
   ]
  },
  {
   "cell_type": "markdown",
   "id": "b14c6011",
   "metadata": {},
   "source": [
    "#### 5. How do abstract classes differ from regular classes in Python? Discuss their use cases."
   ]
  },
  {
   "cell_type": "raw",
   "id": "901f8aae",
   "metadata": {},
   "source": [
    "** Abstract classes are differnt than regular classes in below factor:\n",
    "\n",
    "    a. abstract classes can not be instantiated.\n",
    "    b. Abstract classes can not be instantiated.\n",
    "    c. Abstract classes are inherited from the abc module.\n",
    "    d. Abstract classes includes the abstract method.\n",
    "    e. Abstract classes can contain concrete methods also.\n",
    "    \n",
    "    a. regular classes can be instantiated.\n",
    "    b. Regular classes are inherited from the base class which is normal.\n",
    "    c. Regular classes contains the regular methods.\n",
    "   \n"
   ]
  },
  {
   "cell_type": "markdown",
   "id": "9b714c58",
   "metadata": {},
   "source": [
    "#### 6. Create a Python class for a bank account and demonstrate abstraction by hiding the account balance and providing methods to deposit and withdraw funds."
   ]
  },
  {
   "cell_type": "code",
   "execution_count": 17,
   "id": "24ffacc5",
   "metadata": {},
   "outputs": [],
   "source": [
    "from abc import ABC,abstractmethod\n",
    "class Bank(ABC):\n",
    "    @abstractmethod\n",
    "    def ShowDetails(self):\n",
    "        pass\n",
    "    \n",
    "    @abstractmethod\n",
    "    def DepositBalence(self,amount):\n",
    "        pass\n",
    "    \n",
    "    @abstractmethod\n",
    "    def WithdrawBalence(self,amount):\n",
    "        pass\n",
    "    \n",
    "    \n",
    "class Bank_Details:\n",
    "    def __init__(self,balence):\n",
    "        self.__balence=balence\n",
    "        \n",
    "    def ShowDetails(self):\n",
    "        return f'your account balence is {self.__balence}'\n",
    "    \n",
    "    def DepositBalence(self,amount):\n",
    "        self.amount=amount\n",
    "        self.__balence=self.amount+self.__balence\n",
    "        return f'your total balence is {self.__balence}'\n",
    "    \n",
    "    def WithdrawBalence(self,amount):\n",
    "        self.amount=amount\n",
    "        self.__balence=self.__balence-self.amount\n",
    "        return f'your total balence is {self.__balence}'\n",
    "    \n",
    " "
   ]
  },
  {
   "cell_type": "code",
   "execution_count": 18,
   "id": "a5f5f668",
   "metadata": {},
   "outputs": [
    {
     "data": {
      "text/plain": [
       "'your account balence is 600'"
      ]
     },
     "execution_count": 18,
     "metadata": {},
     "output_type": "execute_result"
    }
   ],
   "source": [
    "B=Bank_Details(200)\n",
    "B.ShowDetails()\n",
    "B.DepositBalence(500)\n",
    "B.WithdrawBalence(100)\n",
    "B.ShowDetails()"
   ]
  },
  {
   "cell_type": "markdown",
   "id": "882cc1a4",
   "metadata": {},
   "source": [
    "#### 7. Discuss the concept of interface classes in Python and their role in achieving abstraction."
   ]
  },
  {
   "cell_type": "raw",
   "id": "9b9af535",
   "metadata": {},
   "source": [
    "1. In Python, there is no explicit \"interface\" keyword or construct like in some other programming languages (e.g., Java or C#). \n",
    "2. However, you can achieve a similar concept of interface classes through the use of abstract base classes and abstract methods.\n",
    "3. The key role of interface classes or abstract base classes in Python is to enforce a contract for classes that inherit from them, promoting abstraction and providing a blueprint for how classes should be structured.\n",
    "\n",
    "Using ABC(Abstract Base Classes)\n",
    "we can import the ABC class from the abc module and we can inherit this into our main.py file\n",
    "In abstract classes there must be at least one abstract method.\n"
   ]
  },
  {
   "cell_type": "markdown",
   "id": "d5b8a81b",
   "metadata": {},
   "source": [
    "#### 8. Create a Python class hierarchy for animals and implement abstraction by defining common methods"
   ]
  },
  {
   "cell_type": "code",
   "execution_count": 20,
   "id": "c5a0d0cc",
   "metadata": {},
   "outputs": [],
   "source": [
    "from abc import ABC,abstractmethod\n",
    "\n",
    "class Animals(ABC):\n",
    "    @abstractmethod\n",
    "    def speak(self):\n",
    "        pass\n",
    "    \n",
    "    @abstractmethod\n",
    "    def fly(self):\n",
    "        pass\n",
    "    \n",
    "    @abstractmethod\n",
    "    def walk(self):\n",
    "        pass\n",
    "    \n",
    "\n",
    "class Dog(Animals):\n",
    "    def speak(self):\n",
    "        return 'wooff!! woof'\n",
    "    \n",
    "    def fly(self):\n",
    "        return 'i can not fly ohhhhhhww!!'\n",
    "    \n",
    "    def walk(self):\n",
    "        return 'I can walk yeeeeee!!!!'\n",
    "    "
   ]
  },
  {
   "cell_type": "code",
   "execution_count": 23,
   "id": "de174d12",
   "metadata": {},
   "outputs": [
    {
     "data": {
      "text/plain": [
       "'wooff!! woof'"
      ]
     },
     "execution_count": 23,
     "metadata": {},
     "output_type": "execute_result"
    }
   ],
   "source": [
    "a=Dog()\n",
    "a.speak()"
   ]
  },
  {
   "cell_type": "markdown",
   "id": "c745ab9e",
   "metadata": {},
   "source": [
    "#### 9. Explain the significance of encapsulation in achieving abstraction. Provide examples."
   ]
  },
  {
   "cell_type": "markdown",
   "id": "2e31946c",
   "metadata": {},
   "source": [
    "1.Encapsulation and abstraction are two fundamental concepts in object-oriented programming that are closely related. Encapsulation is a key mechanism that enables the achievement of abstraction.\n"
   ]
  },
  {
   "cell_type": "code",
   "execution_count": 24,
   "id": "91aba8cc",
   "metadata": {},
   "outputs": [],
   "source": [
    "from abc import ABC,abstractmethod\n",
    "class Bank(ABC):\n",
    "    @abstractmethod\n",
    "    def ShowDetails(self):\n",
    "        pass\n",
    "    \n",
    "    @abstractmethod\n",
    "    def DepositBalence(self,amount):\n",
    "        pass\n",
    "    \n",
    "    @abstractmethod\n",
    "    def WithdrawBalence(self,amount):\n",
    "        pass\n",
    "    \n",
    "    \n",
    "class Bank_Details:\n",
    "    def __init__(self,balence):\n",
    "        self.__balence=balence\n",
    "        \n",
    "    def ShowDetails(self):\n",
    "        return f'your account balence is {self.__balence}'\n",
    "    \n",
    "    def DepositBalence(self,amount):\n",
    "        self.amount=amount\n",
    "        self.__balence=self.amount+self.__balence\n",
    "        return f'your total balence is {self.__balence}'\n",
    "    \n",
    "    def WithdrawBalence(self,amount):\n",
    "        self.amount=amount\n",
    "        self.__balence=self.__balence-self.amount\n",
    "        return f'your total balence is {self.__balence}'\n",
    "    "
   ]
  },
  {
   "cell_type": "code",
   "execution_count": 25,
   "id": "0b5df162",
   "metadata": {},
   "outputs": [
    {
     "data": {
      "text/plain": [
       "'your account balence is 600'"
      ]
     },
     "execution_count": 25,
     "metadata": {},
     "output_type": "execute_result"
    }
   ],
   "source": [
    "B=Bank_Details(200)\n",
    "B.ShowDetails()\n",
    "B.DepositBalence(500)\n",
    "B.WithdrawBalence(100)\n",
    "B.ShowDetails()"
   ]
  },
  {
   "cell_type": "markdown",
   "id": "caff48e9",
   "metadata": {},
   "source": [
    "#### 10. What is the purpose of abstract methods, and how do they enforce abstraction in Python classes?"
   ]
  },
  {
   "cell_type": "raw",
   "id": "ad62a07a",
   "metadata": {},
   "source": [
    "1.Abstract methods are the important parts in the abstract classes. \n",
    "2.Abstract class is incomplete without abstract method.\n",
    "3.to be the class as abstract it must have abstract methods in it, without a single abstract method the class is not abstract.\n",
    "4. In abstract class we just declare the method and in another class method is defined."
   ]
  },
  {
   "cell_type": "markdown",
   "id": "3b321257",
   "metadata": {},
   "source": [
    "#### 11. Create a Python class for a vehicle system and demonstrate abstraction by defining common methods"
   ]
  },
  {
   "cell_type": "code",
   "execution_count": 26,
   "id": "9d966d64",
   "metadata": {},
   "outputs": [],
   "source": [
    "class Vehicle(ABC):\n",
    "    def __init__(self,n):\n",
    "        self.no_of_tyres=n\n",
    "        \n",
    "    @abstractmethod\n",
    "    def start(self):\n",
    "        pass\n",
    "\n",
    "    def display(self):\n",
    "        print(\"hi i am calling from display class\")\n",
    "\n",
    "class Bike(Vehicle):\n",
    "    def __init__(self,n,color):\n",
    "        super().__init__(n)\n",
    "        self.color=color\n",
    "    def start(self):\n",
    "        print(\"start with kick!\")\n",
    "\n",
    "\n",
    "class Scooty(Vehicle):\n",
    "    def __init__(self):\n",
    "        self.no_of_tyres=2\n",
    "\n",
    "    def start(self):\n",
    "        print(\"self statrt\")\n",
    "\n",
    "class Car(Vehicle):\n",
    "    def __init__(self,n,geares):\n",
    "        super().__init__(n)\n",
    "        self.geares=geares\n",
    "\n",
    "    def start(self):\n",
    "        print(\"start with key\")\n"
   ]
  },
  {
   "cell_type": "code",
   "execution_count": 27,
   "id": "1497e410",
   "metadata": {},
   "outputs": [
    {
     "name": "stdout",
     "output_type": "stream",
     "text": [
      "start with kick!\n",
      "start with key\n",
      "self statrt\n",
      "hi i am calling from display class\n"
     ]
    }
   ],
   "source": [
    "bike=Bike(4,'black')\n",
    "bike.start()\n",
    "car=Car(3,6)\n",
    "car.start()\n",
    "scooty=Scooty()\n",
    "scooty.start()\n",
    "scooty.display()\n"
   ]
  },
  {
   "cell_type": "markdown",
   "id": "9179a1bf",
   "metadata": {},
   "source": [
    "#### 12. Describe the use of abstract properties in Python and how they can be employed in abstract classes."
   ]
  },
  {
   "cell_type": "raw",
   "id": "74f19365",
   "metadata": {},
   "source": [
    "1. In Python, abstract properties are properties declared in an abstract base class (ABC) that do not have an implementation but must be defined in concrete subclasses.\n",
    "\n",
    "2.Abstract properties are used in conjunction with abstract methods to define a well-defined interface for subclasses."
   ]
  },
  {
   "cell_type": "code",
   "execution_count": null,
   "id": "5de9e6f7",
   "metadata": {},
   "outputs": [],
   "source": []
  },
  {
   "cell_type": "markdown",
   "id": "be1cc317",
   "metadata": {},
   "source": [
    "#### 13. Create a Python class hierarchy for employees in a company (e.g., manager, developer, designer) and implement abstraction by defining a common `get_salary()` method."
   ]
  },
  {
   "cell_type": "code",
   "execution_count": 11,
   "id": "62baa146",
   "metadata": {},
   "outputs": [],
   "source": [
    "from abc import ABC,abstractmethod\n",
    "\n",
    "class Employee(ABC):\n",
    "    def __init__(self,name,emp_id):\n",
    "        self.name=name\n",
    "        self.emp_id=emp_id\n",
    "        \n",
    "        \n",
    "    def get_Salary(self):\n",
    "        pass\n",
    "\n",
    "class Manager(Employee):\n",
    "    \n",
    "        \n",
    "    def get_Salary(self,base_salary,bonus):\n",
    "        self.base_salary=base_salary\n",
    "        self.bonus=bonus\n",
    "        print(self.base_salary+self.bonus)\n",
    "    \n",
    "class Developer(Employee):\n",
    "    def get_Salary(self,hour_rate,hour_work,basic_pay):\n",
    "        self.hour_rate=hour_rate\n",
    "        self.hour_work=hour_works\n",
    "        self.basic_pay=basic_pay\n",
    "        print(self.hour*self.hour_rate*self.basic_pay)\n",
    "    \n",
    "class Designer(Employee):\n",
    "    def get_Salary(self,monthly_salary):\n",
    "        self.monthly_salary=monthly_salary\n",
    "        print(self.monthly_salary)\n",
    "        "
   ]
  },
  {
   "cell_type": "code",
   "execution_count": 12,
   "id": "fec2f128",
   "metadata": {},
   "outputs": [
    {
     "name": "stdout",
     "output_type": "stream",
     "text": [
      "30000\n"
     ]
    }
   ],
   "source": [
    "m=Manager('shreya',2174052)\n",
    "m.get_Salary(25000,5000)"
   ]
  },
  {
   "cell_type": "markdown",
   "id": "7273a063",
   "metadata": {},
   "source": [
    "#### 14. Discuss the differences between abstract classes and concrete classes in Python, including their instantiation."
   ]
  },
  {
   "cell_type": "raw",
   "id": "388cbe8e",
   "metadata": {},
   "source": [
    "Abstract classes are differnt than regular classes in below factor:\n",
    "\n",
    "    a. abstract classes can not be instantiated.\n",
    "    b. Abstract classes can not be instantiated.\n",
    "    c. Abstract classes are inherited from the abc module.\n",
    "    d. Abstract classes includes the abstract method.\n",
    "    e. Abstract classes can contain concrete methods also.\n",
    "    \n",
    "    a. regular classes can be instantiated.\n",
    "    b. Regular classes are inherited from the base class which is normal.\n",
    "    c. Regular classes contains the regular methods.\n",
    "   "
   ]
  },
  {
   "cell_type": "markdown",
   "id": "7c106b0b",
   "metadata": {},
   "source": [
    "#### 15. Explain the concept of abstract data types (ADTs) and their role in achieving abstraction in Python."
   ]
  },
  {
   "cell_type": "raw",
   "id": "a8f487a4",
   "metadata": {},
   "source": [
    "Abstract Data Types :\n",
    "    The datatypes where the behaviour of the function has been modified by adding some functionalities in it.\n",
    "Stack,queue,map,array list are ADTs in python. "
   ]
  },
  {
   "cell_type": "markdown",
   "id": "b70905af",
   "metadata": {},
   "source": [
    "#### 16. Create a Python class for a computer system, demonstrating abstraction by defining common methods"
   ]
  },
  {
   "cell_type": "code",
   "execution_count": null,
   "id": "454750e0",
   "metadata": {},
   "outputs": [],
   "source": [
    "class "
   ]
  },
  {
   "cell_type": "markdown",
   "id": "80123de2",
   "metadata": {},
   "source": [
    "#### 17. Discuss the benefits of using abstraction in large-scale software development projects."
   ]
  },
  {
   "cell_type": "raw",
   "id": "ee87c85f",
   "metadata": {},
   "source": [
    "Complexity Management: \n",
    "\n",
    "1.Large-scale software projects tend to be highly complex. Abstraction allows you to break down this complexity by focusing on high-level structures and interfaces while hiding the lower-level implementation details. \n",
    "\n",
    "Modularity and Reusability: \n",
    "1. Abstraction encourages modularity by separating different components of the software into distinct, self-contained units\n"
   ]
  },
  {
   "cell_type": "markdown",
   "id": "1d7945bf",
   "metadata": {},
   "source": [
    "#### 18. Explain how abstraction enhances code reusability and modularity in Python programs."
   ]
  },
  {
   "cell_type": "raw",
   "id": "40ed7d16",
   "metadata": {},
   "source": [
    "1. Modularity and Reusability: \n",
    " Abstraction encourages modularity by separating different components of the software into distinct, self-contained units\n",
    "\n",
    "2. It enhnaces the way to code and manage the code."
   ]
  },
  {
   "cell_type": "markdown",
   "id": "4bea79ab",
   "metadata": {},
   "source": [
    "#### 19. Create a Python class for a library system, implementing abstraction by defining common methods (e.g., `add_book()`, `borrow_book()`) in an abstract base class."
   ]
  },
  {
   "cell_type": "code",
   "execution_count": 7,
   "id": "6951a758",
   "metadata": {},
   "outputs": [],
   "source": [
    "from abc import ABC,abstractmethod\n",
    "class Library(ABC):\n",
    "    @abstractmethod\n",
    "    def add_book(self,book):\n",
    "        pass\n",
    "    @abstractmethod\n",
    "    def borrow_Book(self,book):\n",
    "         pass\n",
    "    \n",
    "class Manage(Library):\n",
    "    def add_book(self):\n",
    "        self.book_list=[]\n",
    "        for i in range(5):\n",
    "            book_name=input(\"enter the book name\").lower().strip()\n",
    "            self.book_list.append(book_name)\n",
    "            self.showbook_list()\n",
    "        \n",
    "    def showbook_list(self):\n",
    "            print('following books are present in the library',self.book_list)\n",
    "            \n",
    "    def borrow_Book(self):\n",
    "        name=(input(\"enter the book to borrw\"))\n",
    "        if(name in self.book_list):\n",
    "            print(\"Book is available\")\n",
    "        else:\n",
    "            print(\"not availabe\")\n",
    "            \n",
    "    \n",
    "    \n",
    "    "
   ]
  },
  {
   "cell_type": "code",
   "execution_count": 8,
   "id": "3b8c301f",
   "metadata": {},
   "outputs": [
    {
     "name": "stdout",
     "output_type": "stream",
     "text": [
      "enter the book namelet us c\n",
      "following books are present in the library ['let us c']\n",
      "enter the book namepython\n",
      "following books are present in the library ['let us c', 'python']\n",
      "enter the book namejava \n",
      "following books are present in the library ['let us c', 'python', 'java']\n",
      "enter the book namehistory\n",
      "following books are present in the library ['let us c', 'python', 'java', 'history']\n",
      "enter the book nameindia\n",
      "following books are present in the library ['let us c', 'python', 'java', 'history', 'india']\n"
     ]
    }
   ],
   "source": [
    "M=Manage()\n",
    "M.add_book()\n",
    "\n"
   ]
  },
  {
   "cell_type": "code",
   "execution_count": 9,
   "id": "564adc66",
   "metadata": {},
   "outputs": [
    {
     "name": "stdout",
     "output_type": "stream",
     "text": [
      "enter the book to borrwuno\n",
      "not availabe\n"
     ]
    }
   ],
   "source": [
    "M.borrow_Book()"
   ]
  },
  {
   "cell_type": "markdown",
   "id": "06c6236a",
   "metadata": {},
   "source": [
    "#### 20.Describe the concept of method abstraction in Python and how it relates to polymorphism."
   ]
  },
  {
   "cell_type": "raw",
   "id": "92e0b141",
   "metadata": {},
   "source": [
    "1. Method abstraction in Python is a concept that allows you to define a method in a base class that is not implemented in any of its subclasses.\n",
    "2.This can be useful for a number of reasons, such as when you want to provide a default implementation for a method that may be overridden by subclasses, "
   ]
  },
  {
   "cell_type": "markdown",
   "id": "893c7ff2",
   "metadata": {},
   "source": [
    "# Problems based on :' Composition'"
   ]
  },
  {
   "cell_type": "markdown",
   "id": "b92847f6",
   "metadata": {},
   "source": [
    "#### 1. Explain the concept of composition in Python and how it is used to build complex objects from simpler ones."
   ]
  },
  {
   "cell_type": "raw",
   "id": "3a5241e6",
   "metadata": {},
   "source": [
    "1. Composition in Python is a fundamental concept in object-oriented programming (OOP) that allows you to build complex objects.\n",
    "2.In composition, you create a new class by including one or more instances of other classes as attributes within the new class. \n",
    "3.you create one or more classes that represent the simpler components you want to compose."
   ]
  },
  {
   "cell_type": "markdown",
   "id": "c1f1567e",
   "metadata": {},
   "source": [
    "#### 2. Describe the difference between composition and inheritance in object-oriented programming."
   ]
  },
  {
   "cell_type": "raw",
   "id": "ee4da521",
   "metadata": {},
   "source": [
    "Inheritance: \n",
    "1. Inheritance represents an \"is-a\" relationship. \n",
    "2. It allows a class to inherit properties and behaviors from another class. \n",
    "3.The derived class (subclass or child class) is considered a specialized version of the base class \n",
    "\n",
    "\n",
    "1.Composition represents a \"has-a\" relationship. \n",
    "2.It involves creating a new class by including one or more instances of other classes as attributes within the new class. 3.The composite class contains objects of other classes as components, and these components work together to achieve the desired functionality."
   ]
  },
  {
   "cell_type": "markdown",
   "id": "3ff9cc9f",
   "metadata": {},
   "source": [
    "#### 3. Create a Python class called `Author` with attributes for name and birthdate. Then, create a `Book` class that contains an instance of `Author` as a composition. Provide an example of creating a `Book` object."
   ]
  },
  {
   "cell_type": "code",
   "execution_count": 11,
   "id": "c0372e22",
   "metadata": {},
   "outputs": [
    {
     "name": "stdout",
     "output_type": "stream",
     "text": [
      "Title: Harry Potter and the Philosopher's Stone, Publication Year: 1997\n",
      "Author: J.K. Rowling, Birthdate: July 31, 1965\n"
     ]
    }
   ],
   "source": [
    "class Author:\n",
    "    def __init__(self, name, birthdate):\n",
    "        self.name = name\n",
    "        self.birthdate = birthdate\n",
    "\n",
    "class Book:\n",
    "    def __init__(self, title, author, publication_year):\n",
    "        self.title = title\n",
    "        self.author = author\n",
    "        self.publication_year = publication_year\n",
    "\n",
    "    def display_info(self):\n",
    "        author_info = f\"Author: {self.author.name}, Birthdate: {self.author.birthdate}\"\n",
    "        book_info = f\"Title: {self.title}, Publication Year: {self.publication_year}\"\n",
    "        return f\"{book_info}\\n{author_info}\"\n",
    "\n",
    "\n",
    "author = Author(\"J.K. Rowling\", \"July 31, 1965\")\n",
    "\n",
    "book = Book(\"Harry Potter and the Philosopher's Stone\", author, 1997)\n",
    "\n",
    "# Display book information\n",
    "print(book.display_info())\n"
   ]
  },
  {
   "cell_type": "markdown",
   "id": "2e9bfa7c",
   "metadata": {},
   "source": [
    "#### 4. Discuss the benefits of using composition over inheritance in Python, especially in terms of code flexibility and reusability."
   ]
  },
  {
   "cell_type": "raw",
   "id": "3de02f53",
   "metadata": {},
   "source": [
    "1. In Python, composition is the preferred approach over inheritance, especially in terms of code flexibility and reusability.\n",
    "Composition allows you to reuse code by adding objects to other objects, as opposed to inheriting the interface and implementation of other classes. This makes your code more modular and maintainable, as you can easily replace or update individual components without affecting the rest of your code."
   ]
  },
  {
   "cell_type": "markdown",
   "id": "3bb9517a",
   "metadata": {},
   "source": [
    "#### 5. How can you implement composition in Python classes? Provide examples of using composition to create complex objects."
   ]
  },
  {
   "cell_type": "code",
   "execution_count": 16,
   "id": "f91bade2",
   "metadata": {},
   "outputs": [
    {
     "name": "stdout",
     "output_type": "stream",
     "text": [
      "CPU processing data\n",
      "RAM storing data\n",
      "Computer running a program\n"
     ]
    }
   ],
   "source": [
    "class CPU:\n",
    "    def process(self):\n",
    "        print(\"CPU processing data\")\n",
    "\n",
    "class RAM:\n",
    "    def store(self):\n",
    "        print(\"RAM storing data\")\n",
    "\n",
    "class Computer:\n",
    "    def __init__(self):\n",
    "        self.cpu = CPU()  # Composition: Computer has a CPU\n",
    "        self.ram = RAM()  # Composition: Computer has RAM\n",
    "\n",
    "    def run_program(self):\n",
    "        self.cpu.process()\n",
    "        self.ram.store()\n",
    "        print(\"Computer running a program\")\n",
    "\n",
    "# Create a Computer object and run a program\n",
    "my_computer = Computer()\n",
    "my_computer.run_program()\n"
   ]
  },
  {
   "cell_type": "markdown",
   "id": "c3a69a56",
   "metadata": {},
   "source": [
    "#### 6. Create a Python class hierarchy for a music player system, using composition to represent playlists and songs."
   ]
  },
  {
   "cell_type": "code",
   "execution_count": 17,
   "id": "97fac692",
   "metadata": {},
   "outputs": [
    {
     "name": "stdout",
     "output_type": "stream",
     "text": [
      "Name: John Doe\n",
      "Address: 123 Main St, Exampleville, 12345\n"
     ]
    }
   ],
   "source": [
    "class Address:\n",
    "    def __init__(self, street, city, zip_code):\n",
    "        self.street = street\n",
    "        self.city = city\n",
    "        self.zip_code = zip_code\n",
    "\n",
    "    def display(self):\n",
    "        return f\"{self.street}, {self.city}, {self.zip_code}\"\n",
    "\n",
    "class Person:\n",
    "    def __init__(self, name, address):\n",
    "        self.name = name\n",
    "        self.address = address \n",
    "\n",
    "    def display_info(self):\n",
    "        return f\"Name: {self.name}\\nAddress: {self.address.display()}\"\n",
    "\n",
    "person_address = Address(\"123 Main St\", \"Exampleville\", \"12345\")\n",
    "person = Person(\"John Doe\", person_address)\n",
    "print(person.display_info())\n"
   ]
  },
  {
   "cell_type": "markdown",
   "id": "61ec6164",
   "metadata": {},
   "source": [
    "#### 7. Explain the concept of \"has-a\" relationships in composition and how it helps design software systems."
   ]
  },
  {
   "cell_type": "code",
   "execution_count": 18,
   "id": "7247e343",
   "metadata": {},
   "outputs": [
    {
     "name": "stdout",
     "output_type": "stream",
     "text": [
      "Playlist: My Favorites\n",
      "Playlist: Party Mix\n",
      "Playing playlist: My Favorites\n",
      "Playing: Song 1 by Artist A\n",
      "Playing: Song 2 by Artist B\n"
     ]
    }
   ],
   "source": [
    "class Song:\n",
    "    def __init__(self, title, artist, duration):\n",
    "        self.title = title\n",
    "        self.artist = artist\n",
    "        self.duration = duration\n",
    "\n",
    "    def play(self):\n",
    "        print(f\"Playing: {self.title} by {self.artist}\")\n",
    "\n",
    "class Playlist:\n",
    "    def __init__(self, name):\n",
    "        self.name = name\n",
    "        self.songs = []\n",
    "\n",
    "    def add_song(self, song):\n",
    "        self.songs.append(song)\n",
    "\n",
    "    def play(self):\n",
    "        print(f\"Playing playlist: {self.name}\")\n",
    "        for song in self.songs:\n",
    "            song.play()\n",
    "\n",
    "class MusicPlayer:\n",
    "    def __init__(self):\n",
    "        self.playlists = []\n",
    "\n",
    "    def create_playlist(self, name):\n",
    "        playlist = Playlist(name)\n",
    "        self.playlists.append(playlist)\n",
    "        return playlist\n",
    "\n",
    "    def list_playlists(self):\n",
    "        for playlist in self.playlists:\n",
    "            print(f\"Playlist: {playlist.name}\")\n",
    "\n",
    "# Creating songs\n",
    "song1 = Song(\"Song 1\", \"Artist A\", \"3:45\")\n",
    "song2 = Song(\"Song 2\", \"Artist B\", \"4:15\")\n",
    "song3 = Song(\"Song 3\", \"Artist C\", \"2:30\")\n",
    "\n",
    "# Creating a music player\n",
    "music_player = MusicPlayer()\n",
    "\n",
    "# Creating playlists\n",
    "playlist1 = music_player.create_playlist(\"My Favorites\")\n",
    "playlist2 = music_player.create_playlist(\"Party Mix\")\n",
    "\n",
    "# Adding songs to playlists\n",
    "playlist1.add_song(song1)\n",
    "playlist1.add_song(song2)\n",
    "playlist2.add_song(song2)\n",
    "playlist2.add_song(song3)\n",
    "\n",
    "# Listing playlists\n",
    "music_player.list_playlists()\n",
    "\n",
    "# Playing a playlist\n",
    "playlist1.play()\n"
   ]
  },
  {
   "cell_type": "markdown",
   "id": "2996b171",
   "metadata": {},
   "source": [
    "#### 8. Create a Python class for a computer system, using composition to represent components like CPU, RAM, and storage devices."
   ]
  },
  {
   "cell_type": "code",
   "execution_count": 19,
   "id": "3c80f987",
   "metadata": {},
   "outputs": [
    {
     "name": "stdout",
     "output_type": "stream",
     "text": [
      "CPU processing data\n",
      "RAM storing data\n",
      "Computer running a program\n"
     ]
    }
   ],
   "source": [
    "class CPU:\n",
    "    def process(self):\n",
    "        print(\"CPU processing data\")\n",
    "\n",
    "class RAM:\n",
    "    def store(self):\n",
    "        print(\"RAM storing data\")\n",
    "\n",
    "class Computer:\n",
    "    def __init__(self):\n",
    "        self.cpu = CPU()  # Composition: Computer has a CPU\n",
    "        self.ram = RAM()  # Composition: Computer has RAM\n",
    "\n",
    "    def run_program(self):\n",
    "        self.cpu.process()\n",
    "        self.ram.store()\n",
    "        print(\"Computer running a program\")\n",
    "\n",
    "# Create a Computer object and run a program\n",
    "my_computer = Computer()\n",
    "my_computer.run_program()\n"
   ]
  },
  {
   "cell_type": "markdown",
   "id": "9170e1af",
   "metadata": {},
   "source": [
    "#### 9. Describe the concept of \"delegation\" in composition and how it simplifies the design of complex systems."
   ]
  },
  {
   "cell_type": "raw",
   "id": "e4467557",
   "metadata": {},
   "source": [
    "means using the object of another class as a class member of another class. It is known as object delegation. Delegation can be an alternative to inheritance, but in an inheritance, there is an i-s a relationship, but in the delegation, there is no inheritance relationship between the classes."
   ]
  },
  {
   "cell_type": "markdown",
   "id": "f9c47ec7",
   "metadata": {},
   "source": [
    "#### 10. Create a Python class for a car, using composition to represent components like the engine, wheels, and transmission."
   ]
  },
  {
   "cell_type": "code",
   "execution_count": 20,
   "id": "e095f464",
   "metadata": {},
   "outputs": [
    {
     "name": "stdout",
     "output_type": "stream",
     "text": [
      "Engine started\n",
      "Shifted to Drive gear\n",
      "Wheels are rotating\n"
     ]
    }
   ],
   "source": [
    "class Engine:\n",
    "    def __init__(self, fuel_type, horsepower):\n",
    "        self.fuel_type = fuel_type\n",
    "        self.horsepower = horsepower\n",
    "\n",
    "    def start(self):\n",
    "        print(\"Engine started\")\n",
    "\n",
    "class Wheels:\n",
    "    def __init__(self, size, tire_type):\n",
    "        self.size = size\n",
    "        self.tire_type = tire_type\n",
    "\n",
    "    def rotate(self):\n",
    "        print(\"Wheels are rotating\")\n",
    "\n",
    "class Transmission:\n",
    "    def __init__(self, transmission_type):\n",
    "        self.transmission_type = transmission_type\n",
    "\n",
    "    def shift_gear(self, gear):\n",
    "        print(f\"Shifted to {gear} gear\")\n",
    "\n",
    "class Car:\n",
    "    def __init__(self, make, model):\n",
    "        self.make = make\n",
    "        self.model = model\n",
    "        self.engine = None\n",
    "        self.wheels = None\n",
    "        self.transmission = None\n",
    "\n",
    "    def install_engine(self, fuel_type, horsepower):\n",
    "        self.engine = Engine(fuel_type, horsepower)\n",
    "\n",
    "    def install_wheels(self, size, tire_type):\n",
    "        self.wheels = Wheels(size, tire_type)\n",
    "\n",
    "    def install_transmission(self, transmission_type):\n",
    "        self.transmission = Transmission(transmission_type)\n",
    "\n",
    "    def start(self):\n",
    "        if self.engine:\n",
    "            self.engine.start()\n",
    "        else:\n",
    "            print(\"No engine installed. Can't start the car.\")\n",
    "\n",
    "    def drive(self, gear):\n",
    "        if self.transmission:\n",
    "            self.transmission.shift_gear(gear)\n",
    "            self.wheels.rotate()\n",
    "        else:\n",
    "            print(\"No transmission installed. Can't drive the car.\")\n",
    "\n",
    "# Create a car and install its components\n",
    "my_car = Car(\"Toyota\", \"Camry\")\n",
    "my_car.install_engine(\"Gasoline\", 200)\n",
    "my_car.install_wheels(18, \"All-Season\")\n",
    "my_car.install_transmission(\"Automatic\")\n",
    "\n",
    "# Start the car and drive it\n",
    "my_car.start()\n",
    "my_car.drive(\"Drive\")\n"
   ]
  },
  {
   "cell_type": "markdown",
   "id": "987ebcb5",
   "metadata": {},
   "source": [
    "#### 11. How can you encapsulate and hide the details of composed objects in Python classes to maintain abstraction?"
   ]
  },
  {
   "cell_type": "raw",
   "id": "3e8dfaf5",
   "metadata": {},
   "source": [
    "1.In Python, you can encapsulate and hide the details of composed objects in classes to maintain abstraction by using private or protected methods.\n",
    "2. Use Private and Protected Attributes:\n",
    "\n",
    "You can prefix an attribute name with a single underscore (e.g., _attribute) to indicate that it is a protected attribute."
   ]
  },
  {
   "cell_type": "markdown",
   "id": "2f773f64",
   "metadata": {},
   "source": [
    "#### 12. Create a Python class for a university course, using composition to represent students, instructors, and course materials."
   ]
  },
  {
   "cell_type": "code",
   "execution_count": 23,
   "id": "97ad9c01",
   "metadata": {},
   "outputs": [
    {
     "name": "stdout",
     "output_type": "stream",
     "text": [
      "Course Code: COMP101\n",
      "Course Name: Introduction to Python\n",
      "\n",
      "Students:\n",
      "- Student 101: Alice\n",
      "Instructors:\n",
      "- Instructor 202: Prof. Johnson\n",
      "Course Materials:\n",
      "- Course Material 302: Textbook\n",
      "\n"
     ]
    }
   ],
   "source": [
    "class Student:\n",
    "    def __init__(self, student_id, name):\n",
    "        self.student_id = student_id\n",
    "        self.name = name\n",
    "\n",
    "    def __str__(self):\n",
    "        return f\"Student {self.student_id}: {self.name}\"\n",
    "\n",
    "class Instructor:\n",
    "    def __init__(self, instructor_id, name):\n",
    "        self.instructor_id = instructor_id\n",
    "        self.name = name\n",
    "\n",
    "    def __str__(self):\n",
    "        return f\"Instructor {self.instructor_id}: {self.name}\"\n",
    "\n",
    "class CourseMaterial:\n",
    "    def __init__(self, material_id, title):\n",
    "        self.material_id = material_id\n",
    "        self.title = title\n",
    "\n",
    "    def __str__(self):\n",
    "        return f\"Course Material {self.material_id}: {self.title}\"\n",
    "\n",
    "class UniversityCourse:\n",
    "    def __init__(self, course_code, course_name):\n",
    "        self.course_code = course_code\n",
    "        self.course_name = course_name\n",
    "        self.students = []\n",
    "        self.instructors = []\n",
    "        self.course_materials = []\n",
    "\n",
    "    def add_student(self, student):\n",
    "        self.students.append(student)\n",
    "\n",
    "    def add_instructor(self, instructor):\n",
    "        self.instructors.append(instructor)\n",
    "\n",
    "    def add_course_material(self, course_material):\n",
    "        self.course_materials.append(course_material)\n",
    "\n",
    "    def __str__(self):\n",
    "        course_info = f\"Course Code: {self.course_code}\\nCourse Name: {self.course_name}\\n\\n\"\n",
    "        student_info = \"Students:\\n\"\n",
    "        for student in self.students:\n",
    "            student_info += f\"- {student}\\n\"\n",
    "        instructor_info = \"Instructors:\\n\"\n",
    "        for instructor in self.instructors:\n",
    "            instructor_info += f\"- {instructor}\\n\"\n",
    "        material_info = \"Course Materials:\\n\"\n",
    "        for material in self.course_materials:\n",
    "            material_info += f\"- {material}\\n\"\n",
    "\n",
    "        return course_info + student_info + instructor_info + material_info\n",
    "\n",
    "\n",
    "student1 = Student(101, \"Alice\")\n",
    "\n",
    "instructor2 = Instructor(202, \"Prof. Johnson\")\n",
    "\n",
    "material2 = CourseMaterial(302, \"Textbook\")\n",
    "course = UniversityCourse(\"COMP101\", \"Introduction to Python\")\n",
    "course.add_student(student1)\n",
    "course.add_instructor(instructor2)\n",
    "course.add_course_material(material2)\n",
    "\n",
    "# Display course information\n",
    "print(course)\n"
   ]
  },
  {
   "cell_type": "markdown",
   "id": "2b12dbfa",
   "metadata": {},
   "source": [
    "#### 13. Discuss the challenges and drawbacks of composition, such as increased complexity and potential for tight coupling between objects."
   ]
  },
  {
   "cell_type": "raw",
   "id": "70858c27",
   "metadata": {},
   "source": [
    "Tightly coupled systems can be challenging to scale because adding new components or increasing the size of existing components may require significant changes to other parts of the system."
   ]
  },
  {
   "cell_type": "code",
   "execution_count": null,
   "id": "e15f1c1e",
   "metadata": {},
   "outputs": [],
   "source": []
  },
  {
   "cell_type": "markdown",
   "id": "c29d2148",
   "metadata": {},
   "source": [
    "#### 15. Explain how composition enhances code maintainability and modularity in Python programs."
   ]
  },
  {
   "cell_type": "raw",
   "id": "ef55fda0",
   "metadata": {},
   "source": [
    "Composition in Python refers to the technique of building complex objects by combining simpler objects. This can be done by passing objects as arguments to other objects, or by creating new objects that contain other objects as members.\n",
    "Composition has several advantages over inheritance, another technique for building complex objects."
   ]
  },
  {
   "cell_type": "markdown",
   "id": "2b6d2dc5",
   "metadata": {},
   "source": [
    "#### 16. Create a Python class for a computer game character, using composition to represent attributes like weapons, armor, and inventory."
   ]
  },
  {
   "cell_type": "code",
   "execution_count": null,
   "id": "67707109",
   "metadata": {},
   "outputs": [],
   "source": []
  },
  {
   "cell_type": "markdown",
   "id": "f1faee42",
   "metadata": {},
   "source": [
    "#### 17. Describe the concept of \"aggregation\" in composition and how it differs from simple composition."
   ]
  },
  {
   "cell_type": "raw",
   "id": "b64961a8",
   "metadata": {},
   "source": [
    "Aggregation implies a relationship where the child can exist independently of the parent."
   ]
  },
  {
   "cell_type": "markdown",
   "id": "58fa2798",
   "metadata": {},
   "source": [
    "#### 19. What is dynamic polymorphism, and how is it achieved in Python?"
   ]
  },
  {
   "cell_type": "raw",
   "id": "5c8783a5",
   "metadata": {},
   "source": [
    "Inheritance: Dynamic polymorphism relies on class inheritance. You define a base class (or superclass) with a set of methods, and then you create one or more derived classes (or subclasses) that inherit from the base class.\n",
    "\n",
    "Method Overriding: In the derived classes, you can provide your own implementations of methods that are already defined in the base class. This is called method overriding. The derived class method should have the same name and parameters as the method in the base class."
   ]
  },
  {
   "cell_type": "markdown",
   "id": "b7f93dda",
   "metadata": {},
   "source": [
    "#### 20. How can you achieve flexibility in composed objects by allowing them to be replaced or modified dynamically at runtime?"
   ]
  },
  {
   "cell_type": "raw",
   "id": "cda945b8",
   "metadata": {},
   "source": [
    "You can achieve flexibility in composed objects by allowing them to be replaced or modified dynamically at runtime using a design pattern called the \"Decorator\" pattern. The Decorator pattern is a structural pattern that enables you to add behavior to objects dynamically without altering their class. This pattern allows for the flexible extension of an object's functionality by composing it with additional \"decorator\" objects at runtime."
   ]
  },
  {
   "cell_type": "code",
   "execution_count": null,
   "id": "00722fa2",
   "metadata": {},
   "outputs": [],
   "source": []
  },
  {
   "cell_type": "code",
   "execution_count": null,
   "id": "5ffcb5fd",
   "metadata": {},
   "outputs": [],
   "source": []
  }
 ],
 "metadata": {
  "kernelspec": {
   "display_name": "Python 3 (ipykernel)",
   "language": "python",
   "name": "python3"
  },
  "language_info": {
   "codemirror_mode": {
    "name": "ipython",
    "version": 3
   },
   "file_extension": ".py",
   "mimetype": "text/x-python",
   "name": "python",
   "nbconvert_exporter": "python",
   "pygments_lexer": "ipython3",
   "version": "3.10.9"
  }
 },
 "nbformat": 4,
 "nbformat_minor": 5
}
