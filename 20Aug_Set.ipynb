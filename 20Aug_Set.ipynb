{
 "cells": [
  {
   "cell_type": "markdown",
   "id": "33aaf911",
   "metadata": {},
   "source": [
    "## Set Based Problems"
   ]
  },
  {
   "cell_type": "markdown",
   "id": "5c52e6c5",
   "metadata": {},
   "source": [
    "#### 1. Create a set with integers from 1 to 5.\n"
   ]
  },
  {
   "cell_type": "code",
   "execution_count": 9,
   "id": "cf049443",
   "metadata": {},
   "outputs": [
    {
     "name": "stdout",
     "output_type": "stream",
     "text": [
      "{1, 2, 3, 4, 5}\n"
     ]
    }
   ],
   "source": [
    "s=set()\n",
    "s={i for i in range(1,6)}\n",
    "print(s)"
   ]
  },
  {
   "cell_type": "markdown",
   "id": "ceaf6ec9",
   "metadata": {},
   "source": [
    "#### 2. Add an element to a set."
   ]
  },
  {
   "cell_type": "code",
   "execution_count": 10,
   "id": "f4670575",
   "metadata": {},
   "outputs": [
    {
     "name": "stdout",
     "output_type": "stream",
     "text": [
      "{1, 2, 3, 4, 23}\n"
     ]
    }
   ],
   "source": [
    "s={1,2,3,4}\n",
    "s.add(23)\n",
    "print(s)"
   ]
  },
  {
   "cell_type": "markdown",
   "id": "e16165e3",
   "metadata": {},
   "source": [
    "#### 3. Remove an element from a set.\n"
   ]
  },
  {
   "cell_type": "code",
   "execution_count": 16,
   "id": "13e64302",
   "metadata": {},
   "outputs": [
    {
     "name": "stdout",
     "output_type": "stream",
     "text": [
      "{4, 3, 5}\n"
     ]
    }
   ],
   "source": [
    "s={12,3,4,5}\n",
    "s.discard(12)\n",
    "print(s)"
   ]
  },
  {
   "cell_type": "markdown",
   "id": "dc2d9bba",
   "metadata": {},
   "source": [
    "#### 4. Check if an element exists in a set.\n"
   ]
  },
  {
   "cell_type": "code",
   "execution_count": 20,
   "id": "1f8c66fc",
   "metadata": {},
   "outputs": [
    {
     "name": "stdout",
     "output_type": "stream",
     "text": [
      "element exist in the set\n"
     ]
    }
   ],
   "source": [
    "s={12,3,4,5,6,78}\n",
    "ele=3\n",
    "if(ele in s):\n",
    "    print(\"element exist in the set\")\n",
    "else:\n",
    "    print(\"element does not exist in the set\")"
   ]
  },
  {
   "cell_type": "markdown",
   "id": "4387a868",
   "metadata": {},
   "source": [
    "#### 5. Find the length of a set without using the `len()` function.\n"
   ]
  },
  {
   "cell_type": "code",
   "execution_count": 37,
   "id": "4bd4de23",
   "metadata": {},
   "outputs": [
    {
     "name": "stdout",
     "output_type": "stream",
     "text": [
      "length of the set is 6\n"
     ]
    }
   ],
   "source": [
    "s={12,2,4,5,6,7}\n",
    "c=0\n",
    "for i in s:\n",
    "    c+=1\n",
    "print(\"length of the set is\",c)\n"
   ]
  },
  {
   "cell_type": "markdown",
   "id": "6b2e3136",
   "metadata": {},
   "source": [
    "#### 6. Clear all elements from a set."
   ]
  },
  {
   "cell_type": "code",
   "execution_count": 38,
   "id": "99883f12",
   "metadata": {},
   "outputs": [
    {
     "name": "stdout",
     "output_type": "stream",
     "text": [
      "set()\n"
     ]
    }
   ],
   "source": [
    "s={12,3,4,5}\n",
    "s.clear()\n",
    "print(s)"
   ]
  },
  {
   "cell_type": "markdown",
   "id": "33cf65e7",
   "metadata": {},
   "source": [
    "#### 7. Create a set of even numbers from 1 to 10.\n"
   ]
  },
  {
   "cell_type": "code",
   "execution_count": 39,
   "id": "279bd381",
   "metadata": {},
   "outputs": [
    {
     "data": {
      "text/plain": [
       "{2, 4, 6, 8}"
      ]
     },
     "execution_count": 39,
     "metadata": {},
     "output_type": "execute_result"
    }
   ],
   "source": [
    "{i for i in range(1,10) if(i%2==0)}"
   ]
  },
  {
   "cell_type": "markdown",
   "id": "b355fb5d",
   "metadata": {},
   "source": [
    "#### 8. Create a set of odd numbers from 1 to 10.\n"
   ]
  },
  {
   "cell_type": "code",
   "execution_count": 40,
   "id": "cdac5460",
   "metadata": {},
   "outputs": [
    {
     "data": {
      "text/plain": [
       "{1, 3, 5, 7, 9}"
      ]
     },
     "execution_count": 40,
     "metadata": {},
     "output_type": "execute_result"
    }
   ],
   "source": [
    "{i for i in range(1,10) if(i%2!=0)}"
   ]
  },
  {
   "cell_type": "markdown",
   "id": "ac14a78f",
   "metadata": {},
   "source": [
    "#### 9. Find the union of two sets.\n"
   ]
  },
  {
   "cell_type": "code",
   "execution_count": 42,
   "id": "e6979d46",
   "metadata": {},
   "outputs": [
    {
     "name": "stdout",
     "output_type": "stream",
     "text": [
      "{1, 2, 3, 4, 5, 6, 7}\n"
     ]
    }
   ],
   "source": [
    "s1={1,2,3,4}\n",
    "s2={5,6,7,2}\n",
    "print(s1.union(s2))"
   ]
  },
  {
   "cell_type": "markdown",
   "id": "61068a28",
   "metadata": {},
   "source": [
    "#### 10. Find the intersection of two sets.\n"
   ]
  },
  {
   "cell_type": "code",
   "execution_count": 45,
   "id": "3f9c36dc",
   "metadata": {},
   "outputs": [
    {
     "name": "stdout",
     "output_type": "stream",
     "text": [
      "{2, 3, 4}\n"
     ]
    }
   ],
   "source": [
    "s1={1,2,3,4}\n",
    "s2={5,6,7,2,4,3}\n",
    "print(s1.intersection(s2))"
   ]
  },
  {
   "cell_type": "markdown",
   "id": "6dfb652b",
   "metadata": {},
   "source": [
    "#### 11. Find the difference between two sets.\n"
   ]
  },
  {
   "cell_type": "code",
   "execution_count": 46,
   "id": "3e0de451",
   "metadata": {},
   "outputs": [
    {
     "name": "stdout",
     "output_type": "stream",
     "text": [
      "{1}\n"
     ]
    }
   ],
   "source": [
    "s1={1,2,3,4}\n",
    "s2={5,6,7,2,4,3}\n",
    "print(s1.difference(s2))"
   ]
  },
  {
   "cell_type": "markdown",
   "id": "1b8a07ac",
   "metadata": {},
   "source": [
    "#### 12. Check if a set is a subset of another set.\n"
   ]
  },
  {
   "cell_type": "code",
   "execution_count": 48,
   "id": "25e62b7b",
   "metadata": {},
   "outputs": [
    {
     "name": "stdout",
     "output_type": "stream",
     "text": [
      "True\n"
     ]
    }
   ],
   "source": [
    "s1={1,2,3,4}\n",
    "s2={5,6,7,2,4,3,1}\n",
    "print(s1.issubset(s2))"
   ]
  },
  {
   "cell_type": "markdown",
   "id": "666f7b40",
   "metadata": {},
   "source": [
    "#### 13. Check if a set is a superset of another set.\n"
   ]
  },
  {
   "cell_type": "code",
   "execution_count": 49,
   "id": "a079fc8b",
   "metadata": {},
   "outputs": [
    {
     "name": "stdout",
     "output_type": "stream",
     "text": [
      "False\n"
     ]
    }
   ],
   "source": [
    "s1={1,2,3,4}\n",
    "s2={5,6,7,2,4,3,1}\n",
    "print(s1.issuperset(s2))"
   ]
  },
  {
   "cell_type": "markdown",
   "id": "f5bc3771",
   "metadata": {},
   "source": [
    "#### 14. Create a set from a list."
   ]
  },
  {
   "cell_type": "code",
   "execution_count": 50,
   "id": "faecadea",
   "metadata": {},
   "outputs": [
    {
     "name": "stdout",
     "output_type": "stream",
     "text": [
      "{1, 2, 3, 4}\n"
     ]
    }
   ],
   "source": [
    "l=[1,2,3,4]\n",
    "s=set(l)\n",
    "print(s)"
   ]
  },
  {
   "cell_type": "markdown",
   "id": "722132e6",
   "metadata": {},
   "source": [
    "#### 15. Convert a set to a list.\n"
   ]
  },
  {
   "cell_type": "code",
   "execution_count": 51,
   "id": "a531d0a6",
   "metadata": {},
   "outputs": [
    {
     "name": "stdout",
     "output_type": "stream",
     "text": [
      "[34, 12, 5, 6]\n"
     ]
    }
   ],
   "source": [
    "s={12,34,5,6}\n",
    "l=list(s)\n",
    "print(l)"
   ]
  },
  {
   "cell_type": "markdown",
   "id": "4088d8e5",
   "metadata": {},
   "source": [
    "#### 16. Remove a random element from a set."
   ]
  },
  {
   "cell_type": "code",
   "execution_count": 65,
   "id": "7b38dde0",
   "metadata": {},
   "outputs": [
    {
     "name": "stdout",
     "output_type": "stream",
     "text": [
      "enter element to remove0\n",
      "{3, 6, 7, 8, 90, 12}\n"
     ]
    }
   ],
   "source": [
    "f=False\n",
    "s={12,3,6,7,8,90}\n",
    "ele=int(input(\"enter element to remove\"))\n",
    "s.discard(ele)\n",
    "print(s)"
   ]
  },
  {
   "cell_type": "markdown",
   "id": "8c66a9ac",
   "metadata": {},
   "source": [
    "#### 17. Pop an element from a set.\n"
   ]
  },
  {
   "cell_type": "code",
   "execution_count": 68,
   "id": "779f0b0d",
   "metadata": {},
   "outputs": [
    {
     "name": "stdout",
     "output_type": "stream",
     "text": [
      "{4, 5, 21, 12}\n"
     ]
    }
   ],
   "source": [
    "s={12,3,4,5,21}\n",
    "(s.pop())\n",
    "print(s)"
   ]
  },
  {
   "cell_type": "markdown",
   "id": "2ef8a461",
   "metadata": {},
   "source": [
    "#### 18. Check if two sets have no elements in common.\n"
   ]
  },
  {
   "cell_type": "code",
   "execution_count": 79,
   "id": "9cd6f56b",
   "metadata": {},
   "outputs": [
    {
     "name": "stdout",
     "output_type": "stream",
     "text": [
      "common element exist\n"
     ]
    }
   ],
   "source": [
    "s1={12,3,4,5}\n",
    "s2={1,2,51,6,5,12,3,4}\n",
    "if(s1.intersection(s2)!=set()):\n",
    "    print(\"common element exist\")\n",
    "else:\n",
    "    print(\"common element does not exist\")\n"
   ]
  },
  {
   "cell_type": "markdown",
   "id": "83d0e201",
   "metadata": {},
   "source": [
    "#### 19. Find the symmetric difference between two sets.\n"
   ]
  },
  {
   "cell_type": "code",
   "execution_count": 81,
   "id": "1054070e",
   "metadata": {},
   "outputs": [
    {
     "name": "stdout",
     "output_type": "stream",
     "text": [
      "{3, 4, 5, 6}\n"
     ]
    }
   ],
   "source": [
    "s1={1,2,3,4}\n",
    "s2={5,6,2,1}\n",
    "print(s1.symmetric_difference(s2))"
   ]
  },
  {
   "cell_type": "markdown",
   "id": "b390fcb9",
   "metadata": {},
   "source": [
    "#### 20. Update a set with elements from another set.\n"
   ]
  },
  {
   "cell_type": "code",
   "execution_count": 87,
   "id": "c7e672a9",
   "metadata": {},
   "outputs": [
    {
     "name": "stdout",
     "output_type": "stream",
     "text": [
      "{1, 2, 3, 4, 12}\n"
     ]
    }
   ],
   "source": [
    "s1={1,2,3,4}\n",
    "s2={12,3,4}\n",
    "s1.update(s2)\n",
    "print(s1)"
   ]
  },
  {
   "cell_type": "markdown",
   "id": "ab463e66",
   "metadata": {},
   "source": [
    "#### 21. Create a set of the first 5 prime numbers."
   ]
  },
  {
   "cell_type": "code",
   "execution_count": 88,
   "id": "3488fbee",
   "metadata": {},
   "outputs": [],
   "source": [
    "def prime(x, y):\n",
    "    prime_list = []\n",
    "    for i in range(x, y):\n",
    "        if i == 0 or i == 1:\n",
    "            continue\n",
    "        else:\n",
    "            for j in range(2, int(i/2)+1):\n",
    "                if i % j == 0:\n",
    "                    break\n",
    "            else:\n",
    "                prime_list.append(i)\n",
    "    return prime_list"
   ]
  },
  {
   "cell_type": "code",
   "execution_count": 90,
   "id": "a1ef3930",
   "metadata": {},
   "outputs": [
    {
     "data": {
      "text/plain": [
       "{2, 3, 5}"
      ]
     },
     "execution_count": 90,
     "metadata": {},
     "output_type": "execute_result"
    }
   ],
   "source": [
    "set(prime(1,6))"
   ]
  },
  {
   "cell_type": "markdown",
   "id": "72371624",
   "metadata": {},
   "source": [
    "#### 22. Check if two sets are identical."
   ]
  },
  {
   "cell_type": "code",
   "execution_count": 92,
   "id": "c1596a3a",
   "metadata": {},
   "outputs": [
    {
     "name": "stdout",
     "output_type": "stream",
     "text": [
      "sets are identical\n"
     ]
    }
   ],
   "source": [
    "s1={1,2,3,4}\n",
    "s2={1,2,3,4}\n",
    "if(s1==s2):\n",
    "    print(\"sets are identical\")\n",
    "else:\n",
    "    print(\"sets are differnt\")"
   ]
  },
  {
   "cell_type": "markdown",
   "id": "8591b8b1",
   "metadata": {},
   "source": [
    "#### 23. Create a frozen set."
   ]
  },
  {
   "cell_type": "code",
   "execution_count": 97,
   "id": "b9c1fc42",
   "metadata": {},
   "outputs": [
    {
     "name": "stdout",
     "output_type": "stream",
     "text": [
      "frozenset({1, 2, 3})\n"
     ]
    }
   ],
   "source": [
    "s=frozenset((1,2,3))\n",
    "print(s)"
   ]
  },
  {
   "cell_type": "markdown",
   "id": "c1a84745",
   "metadata": {},
   "source": [
    "#### 24. Check if a set is disjoint with another set"
   ]
  },
  {
   "cell_type": "code",
   "execution_count": 100,
   "id": "46882496",
   "metadata": {},
   "outputs": [
    {
     "name": "stdout",
     "output_type": "stream",
     "text": [
      "True\n"
     ]
    }
   ],
   "source": [
    "s1={1,2,3,4}\n",
    "s2={21,43,5,6}\n",
    "print(s1.isdisjoint(s2))"
   ]
  },
  {
   "cell_type": "markdown",
   "id": "efe19042",
   "metadata": {},
   "source": [
    "#### 25. Create a set of squares of numbers from 1 to 5.\n"
   ]
  },
  {
   "cell_type": "code",
   "execution_count": 102,
   "id": "2f789f02",
   "metadata": {},
   "outputs": [
    {
     "data": {
      "text/plain": [
       "{1, 4, 9, 16, 25}"
      ]
     },
     "execution_count": 102,
     "metadata": {},
     "output_type": "execute_result"
    }
   ],
   "source": [
    "{i**2 for i in range(1,6)}"
   ]
  },
  {
   "cell_type": "markdown",
   "id": "940642cd",
   "metadata": {},
   "source": [
    "#### 26. Filter out all even numbers from a set."
   ]
  },
  {
   "cell_type": "code",
   "execution_count": 103,
   "id": "9e19902e",
   "metadata": {},
   "outputs": [
    {
     "data": {
      "text/plain": [
       "{2, 4, 6, 8}"
      ]
     },
     "execution_count": 103,
     "metadata": {},
     "output_type": "execute_result"
    }
   ],
   "source": [
    "{i for i in range(1,10) if i%2==0}"
   ]
  },
  {
   "cell_type": "markdown",
   "id": "cbdb2aee",
   "metadata": {},
   "source": [
    "#### 27. Multiply all elements in a set by 2."
   ]
  },
  {
   "cell_type": "code",
   "execution_count": 107,
   "id": "b8d0a711",
   "metadata": {},
   "outputs": [
    {
     "data": {
      "text/plain": [
       "{2, 4, 6}"
      ]
     },
     "execution_count": 107,
     "metadata": {},
     "output_type": "execute_result"
    }
   ],
   "source": [
    "s={2,3,1}\n",
    "set(map(lambda x:x*2,s))"
   ]
  },
  {
   "cell_type": "markdown",
   "id": "436e6246",
   "metadata": {},
   "source": [
    "#### 28. Create a set of random numbers."
   ]
  },
  {
   "cell_type": "code",
   "execution_count": 115,
   "id": "a53c7f01",
   "metadata": {},
   "outputs": [
    {
     "name": "stdout",
     "output_type": "stream",
     "text": [
      "{100, 37, 12, 80, 18, 55, 56, 88, 61, 30}\n"
     ]
    }
   ],
   "source": [
    "import random\n",
    "s=set()\n",
    "for i in range(1,11):\n",
    "    s.add(random.randint(1,100))\n",
    "print(s)"
   ]
  },
  {
   "cell_type": "markdown",
   "id": "8dadd5ad",
   "metadata": {},
   "source": [
    "#### 29. Check if a set is empty."
   ]
  },
  {
   "cell_type": "code",
   "execution_count": 118,
   "id": "01d40fa4",
   "metadata": {},
   "outputs": [
    {
     "name": "stdout",
     "output_type": "stream",
     "text": [
      "set is not empty\n"
     ]
    }
   ],
   "source": [
    "s=set()\n",
    "s.add(3)\n",
    "if(len(s)==0):\n",
    "    print(\"set is empty\")\n",
    "else:\n",
    "    print(\"set is not empty\")"
   ]
  },
  {
   "cell_type": "markdown",
   "id": "f5dd7187",
   "metadata": {},
   "source": [
    "#### 30. Create a nested set (hint: use frozenset)."
   ]
  },
  {
   "cell_type": "code",
   "execution_count": 124,
   "id": "fa8585ad",
   "metadata": {},
   "outputs": [],
   "source": [
    "s=set()\n"
   ]
  },
  {
   "cell_type": "markdown",
   "id": "26c7eb52",
   "metadata": {},
   "source": [
    "#### 31. Remove an element from a set using the discard method."
   ]
  },
  {
   "cell_type": "code",
   "execution_count": 125,
   "id": "24605c75",
   "metadata": {},
   "outputs": [
    {
     "name": "stdout",
     "output_type": "stream",
     "text": [
      "{4, 3, 5}\n"
     ]
    }
   ],
   "source": [
    "s={12,3,4,5}\n",
    "s.discard(12)\n",
    "print(s)"
   ]
  },
  {
   "cell_type": "markdown",
   "id": "86003ecb",
   "metadata": {},
   "source": [
    "#### 32. Compare two sets."
   ]
  },
  {
   "cell_type": "code",
   "execution_count": 128,
   "id": "94d8c5a5",
   "metadata": {},
   "outputs": [
    {
     "name": "stdout",
     "output_type": "stream",
     "text": [
      "s2 is greator\n"
     ]
    }
   ],
   "source": [
    "s1={1,2,3,4}\n",
    "s2={1,2,3,4,67}\n",
    "if(s1==s2):\n",
    "    print(\"sets are identical\")\n",
    "elif(s1>s2):\n",
    "    print(\"s1 is grator\")\n",
    "else:\n",
    "    print(\"s2 is greator\")"
   ]
  },
  {
   "cell_type": "markdown",
   "id": "39716c24",
   "metadata": {},
   "source": [
    "#### 33. Create a set from a string."
   ]
  },
  {
   "cell_type": "code",
   "execution_count": 131,
   "id": "757e3af5",
   "metadata": {},
   "outputs": [
    {
     "data": {
      "text/plain": [
       "{'data', 'pwskills', 'science'}"
      ]
     },
     "execution_count": 131,
     "metadata": {},
     "output_type": "execute_result"
    }
   ],
   "source": [
    "s=\"pwskills data science\"\n",
    "set(s.split(\" \"))"
   ]
  },
  {
   "cell_type": "markdown",
   "id": "26515283",
   "metadata": {},
   "source": [
    "#### 34. Convert a set of strings to a set of integers."
   ]
  },
  {
   "cell_type": "code",
   "execution_count": 132,
   "id": "f282b045",
   "metadata": {},
   "outputs": [
    {
     "name": "stdout",
     "output_type": "stream",
     "text": [
      "{1, 2, 3, 5}\n"
     ]
    }
   ],
   "source": [
    "s={\"1\",'2','3','5'}\n",
    "s1=set()\n",
    "for i in s:\n",
    "    ele=int(i)\n",
    "    s1.add(ele)\n",
    "print(s1)\n",
    "\n",
    "    "
   ]
  },
  {
   "cell_type": "markdown",
   "id": "3cc52927",
   "metadata": {},
   "source": [
    "#### 35. Convert a set of integers to a set of strings."
   ]
  },
  {
   "cell_type": "code",
   "execution_count": 134,
   "id": "6b0e7e42",
   "metadata": {},
   "outputs": [
    {
     "name": "stdout",
     "output_type": "stream",
     "text": [
      "{'5', '2', '1', '3'}\n"
     ]
    }
   ],
   "source": [
    "s={1, 2, 3, 5}\n",
    "s1=set()\n",
    "for i in s:\n",
    "    ele=str(i)\n",
    "    s1.add(ele)\n",
    "print(s1)\n"
   ]
  },
  {
   "cell_type": "markdown",
   "id": "04780ef1",
   "metadata": {},
   "source": [
    "#### 36. Create a set from a tuple.\n"
   ]
  },
  {
   "cell_type": "code",
   "execution_count": 135,
   "id": "f0d8e592",
   "metadata": {},
   "outputs": [
    {
     "name": "stdout",
     "output_type": "stream",
     "text": [
      "{1, 2, 3, 4, 5, 6}\n"
     ]
    }
   ],
   "source": [
    "t=(1,2,3,4,5,6,4,3)\n",
    "s=set(t)\n",
    "print(s)"
   ]
  },
  {
   "cell_type": "markdown",
   "id": "42a9089b",
   "metadata": {},
   "source": [
    "#### 37. Convert a set to a tuple.\n"
   ]
  },
  {
   "cell_type": "code",
   "execution_count": 136,
   "id": "a7914942",
   "metadata": {},
   "outputs": [
    {
     "name": "stdout",
     "output_type": "stream",
     "text": [
      "(1, 2, 3, 4, 5, 7)\n"
     ]
    }
   ],
   "source": [
    "s1={1,2,3,4,5,7,5}\n",
    "t=tuple(s1)\n",
    "print(t)\n"
   ]
  },
  {
   "cell_type": "markdown",
   "id": "7c5eb635",
   "metadata": {},
   "source": [
    "#### 38. Find the maximum value in a set."
   ]
  },
  {
   "cell_type": "code",
   "execution_count": 137,
   "id": "8086669c",
   "metadata": {},
   "outputs": [
    {
     "name": "stdout",
     "output_type": "stream",
     "text": [
      "78\n"
     ]
    }
   ],
   "source": [
    "s1={12,3,4,56,78}\n",
    "print(max(s1))"
   ]
  },
  {
   "cell_type": "markdown",
   "id": "b35d3be0",
   "metadata": {},
   "source": [
    "#### 39. Find the minimum value in a set.\n"
   ]
  },
  {
   "cell_type": "code",
   "execution_count": 138,
   "id": "099f5c3c",
   "metadata": {},
   "outputs": [
    {
     "name": "stdout",
     "output_type": "stream",
     "text": [
      "3\n"
     ]
    }
   ],
   "source": [
    "s1={12,3,4,56,78}\n",
    "print(min(s1))"
   ]
  },
  {
   "cell_type": "markdown",
   "id": "946f16f9",
   "metadata": {},
   "source": [
    "#### 40. Create a set from user input."
   ]
  },
  {
   "cell_type": "code",
   "execution_count": 139,
   "id": "b9315701",
   "metadata": {},
   "outputs": [
    {
     "name": "stdout",
     "output_type": "stream",
     "text": [
      "enter element23\n",
      "enter element4\n",
      "enter element2\n",
      "enter element3\n",
      "enter element2\n",
      "{2, 3, 4, 23}\n"
     ]
    }
   ],
   "source": [
    "s=set()\n",
    "for i in range(1,6):\n",
    "    ele=int(input(\"enter element\"))\n",
    "    s.add(ele)\n",
    "print(s)"
   ]
  },
  {
   "cell_type": "markdown",
   "id": "4cf1d5c8",
   "metadata": {},
   "source": [
    "#### 41. Check if the intersection of two sets is empty"
   ]
  },
  {
   "cell_type": "code",
   "execution_count": 142,
   "id": "cd44ad86",
   "metadata": {},
   "outputs": [
    {
     "name": "stdout",
     "output_type": "stream",
     "text": [
      "intersection of two sets is empty\n"
     ]
    }
   ],
   "source": [
    "s1={1,2,3,4}\n",
    "s2={12,43,40,18}\n",
    "if(s1.intersection(s2)==set()):\n",
    "    print(\"intersection of two sets is empty\")\n",
    "else:\n",
    "    print(\"intersection is not empty\")"
   ]
  },
  {
   "cell_type": "markdown",
   "id": "89eb1ff1",
   "metadata": {},
   "source": [
    "#### 42. Create a set of the first 5 Fibonacci numbers.\n"
   ]
  },
  {
   "cell_type": "code",
   "execution_count": 144,
   "id": "9dabbc55",
   "metadata": {},
   "outputs": [
    {
     "name": "stdout",
     "output_type": "stream",
     "text": [
      "0 1 1 2 3 "
     ]
    }
   ],
   "source": [
    "def printFibonacciNumbers(n):\n",
    "\n",
    "    f1 = 0\n",
    "    f2 = 1\n",
    "    if (n < 1):\n",
    "        return\n",
    "    print(f1, end=\" \")\n",
    "    for x in range(1, n):\n",
    "        print(f2, end=\" \")\n",
    "        next = f1 + f2\n",
    "        f1 = f2\n",
    "        f2 = next\n",
    "\n",
    "\n",
    "# Driven code\n",
    "printFibonacciNumbers(5)\n"
   ]
  },
  {
   "cell_type": "markdown",
   "id": "86a086a0",
   "metadata": {},
   "source": [
    "#### 43. Remove duplicates from a list using sets.\n"
   ]
  },
  {
   "cell_type": "code",
   "execution_count": 145,
   "id": "cccaa70d",
   "metadata": {},
   "outputs": [
    {
     "name": "stdout",
     "output_type": "stream",
     "text": [
      "{34, 5, 6, 7, 12, 56}\n"
     ]
    }
   ],
   "source": [
    "l=[12,34,5,6,7,56,5,6,7]\n",
    "s=set(l)\n",
    "print(s)"
   ]
  },
  {
   "cell_type": "markdown",
   "id": "b21f2cb0",
   "metadata": {},
   "source": [
    "#### 44. Check if two sets have the same elements, regardless of their count "
   ]
  },
  {
   "cell_type": "code",
   "execution_count": 147,
   "id": "f80582e0",
   "metadata": {},
   "outputs": [
    {
     "name": "stdout",
     "output_type": "stream",
     "text": [
      "sets are similar\n"
     ]
    }
   ],
   "source": [
    "s1={1,2,3,4}\n",
    "s2={1,2,3,4,4}\n",
    "if(s1==s2):\n",
    "    print(\"sets are similar\")\n",
    "else:\n",
    "    print(\"sets are differnt\")"
   ]
  },
  {
   "cell_type": "markdown",
   "id": "66bad235",
   "metadata": {},
   "source": [
    "#### 45. Create a set of the first `n` powers of 2."
   ]
  },
  {
   "cell_type": "code",
   "execution_count": 148,
   "id": "808939f9",
   "metadata": {},
   "outputs": [
    {
     "data": {
      "text/plain": [
       "{2, 4, 8, 16, 32}"
      ]
     },
     "execution_count": 148,
     "metadata": {},
     "output_type": "execute_result"
    }
   ],
   "source": [
    "{pow(2,i) for i in range(1,6)}"
   ]
  },
  {
   "cell_type": "markdown",
   "id": "8e4d7eaa",
   "metadata": {},
   "source": [
    "#### 46. Find the common elements between a set and a list."
   ]
  },
  {
   "cell_type": "code",
   "execution_count": 151,
   "id": "692ba6c0",
   "metadata": {},
   "outputs": [
    {
     "name": "stdout",
     "output_type": "stream",
     "text": [
      "4\n",
      "1\n",
      "2\n"
     ]
    }
   ],
   "source": [
    "s={1,2,3,4,3}\n",
    "l=[5,6,7,8,4,1,2]\n",
    "for i in l:\n",
    "    if(i in s):\n",
    "        print(i)\n",
    "        "
   ]
  },
  {
   "cell_type": "markdown",
   "id": "0db86d8f",
   "metadata": {},
   "source": [
    "#### 47. Create a set of the first `n` triangular numbers."
   ]
  },
  {
   "cell_type": "code",
   "execution_count": 152,
   "id": "0f3474a4",
   "metadata": {},
   "outputs": [
    {
     "name": "stdout",
     "output_type": "stream",
     "text": [
      "tuple of the first 5 triangular numbers: {1, 3, 6, 10, 15}\n"
     ]
    }
   ],
   "source": [
    "def traingle(n):\n",
    "    return [i * (i + 1) // 2 for i in range(1, n + 1)]\n",
    "n = 5\n",
    "traingles = traingle(n)\n",
    "print(\"tuple of the first\", n, \"triangular numbers:\", set(traingles))"
   ]
  },
  {
   "cell_type": "markdown",
   "id": "0da76a33",
   "metadata": {},
   "source": [
    "#### 48. Check if a set contains another set as a subset.\n"
   ]
  },
  {
   "cell_type": "code",
   "execution_count": 154,
   "id": "16b0fa1a",
   "metadata": {},
   "outputs": [
    {
     "name": "stdout",
     "output_type": "stream",
     "text": [
      "s1 is not subset of s2\n"
     ]
    }
   ],
   "source": [
    "s1={1,2,3,4,0}\n",
    "s2={1,1,3,4,2,5,6}\n",
    "if(s1.issubset(s2)==True):\n",
    "    print(\"s1 is subset of s2\")\n",
    "else:\n",
    "    print(\"s1 is not subset of s2\")"
   ]
  },
  {
   "cell_type": "markdown",
   "id": "2e20594f",
   "metadata": {},
   "source": [
    "#### 49. Create a set of alternating 1s and 0s of length `n`.\n"
   ]
  },
  {
   "cell_type": "code",
   "execution_count": 160,
   "id": "990989dd",
   "metadata": {},
   "outputs": [
    {
     "name": "stdout",
     "output_type": "stream",
     "text": [
      "{0, 1}\n"
     ]
    }
   ],
   "source": [
    "s=list()\n",
    "for i in range(1,11):\n",
    "    if(i%2==0):\n",
    "        s.append(0)\n",
    "    else:\n",
    "        s.append(1)\n",
    "print(set(s))"
   ]
  },
  {
   "cell_type": "markdown",
   "id": "a9140883",
   "metadata": {},
   "source": [
    "#### 50. Merge multiple sets into one."
   ]
  },
  {
   "cell_type": "code",
   "execution_count": 169,
   "id": "a436e733",
   "metadata": {},
   "outputs": [
    {
     "name": "stdout",
     "output_type": "stream",
     "text": [
      "{1, 2, 3, 4, 5, 6}\n"
     ]
    }
   ],
   "source": [
    "s1={1,2,3,4,5}\n",
    "s2={1,2,3,4,6}\n",
    "s3={1,2,3,4,6}\n",
    "l1=list(s1)\n",
    "l2=list(s2)\n",
    "l3=list(s3)\n",
    "print(set(l1+l2+l3))\n"
   ]
  },
  {
   "cell_type": "code",
   "execution_count": null,
   "id": "4abef66e",
   "metadata": {},
   "outputs": [],
   "source": []
  }
 ],
 "metadata": {
  "kernelspec": {
   "display_name": "Python 3 (ipykernel)",
   "language": "python",
   "name": "python3"
  },
  "language_info": {
   "codemirror_mode": {
    "name": "ipython",
    "version": 3
   },
   "file_extension": ".py",
   "mimetype": "text/x-python",
   "name": "python",
   "nbconvert_exporter": "python",
   "pygments_lexer": "ipython3",
   "version": "3.10.9"
  }
 },
 "nbformat": 4,
 "nbformat_minor": 5
}
